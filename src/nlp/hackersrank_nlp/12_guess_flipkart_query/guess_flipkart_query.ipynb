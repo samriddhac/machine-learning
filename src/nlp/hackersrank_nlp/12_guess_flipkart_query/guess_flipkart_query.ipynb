{
 "cells": [
  {
   "cell_type": "code",
   "execution_count": 5,
   "metadata": {
    "collapsed": true
   },
   "outputs": [],
   "source": [
    "with open('training.txt', 'r', encoding='utf-8') as f:\n",
    "    text = f.read()"
   ]
  },
  {
   "cell_type": "code",
   "execution_count": 7,
   "metadata": {},
   "outputs": [],
   "source": [
    "train_x = []\n",
    "train_y = []\n",
    "\n",
    "lines = [line.strip() for line in text.split('\\n')]\n",
    "for line in lines[1:]:\n",
    "    w = line.split('\\t')\n",
    "    if len(w) == 2:\n",
    "        train_x.append(w[0].strip().lower())\n",
    "        train_y.append(w[1].strip().lower())    \n"
   ]
  },
  {
   "cell_type": "code",
   "execution_count": 8,
   "metadata": {},
   "outputs": [
    {
     "data": {
      "text/plain": [
       "['calvin klein in2u eau de toilette  -  150 ml (for men)',\n",
       " 'for the love of physics (paperback)',\n",
       " 'nike fission deodorant spray  -  200 ml (for men)',\n",
       " 'spoken english (with cd) 2nd edition (paperback)',\n",
       " 'the c++ programming language 3 edition (paperback)',\n",
       " 'sony cybershot dsc-w610 point & shoot (black)',\n",
       " 'ibps bank probationary officers management trainees common written exam. 1st edition (paperback)',\n",
       " 'tommy hilfiger analog watch  - for women (silver)',\n",
       " \"dr. seuss's beginner book collection (boxed set)\",\n",
       " 'panasonic sdr-s15 camcorder (silver)']"
      ]
     },
     "execution_count": 8,
     "metadata": {},
     "output_type": "execute_result"
    }
   ],
   "source": [
    "train_x[:10]"
   ]
  },
  {
   "cell_type": "code",
   "execution_count": 9,
   "metadata": {},
   "outputs": [
    {
     "data": {
      "text/plain": [
       "['calvin klein',\n",
       " 'physics',\n",
       " 'nike-deodrant',\n",
       " 'spoken english',\n",
       " 'c programming',\n",
       " 'sony cybershot',\n",
       " 'written english',\n",
       " 'tommy watch',\n",
       " 'best-seller books',\n",
       " 'camcorder']"
      ]
     },
     "execution_count": 9,
     "metadata": {},
     "output_type": "execute_result"
    }
   ],
   "source": [
    "train_y[:10]"
   ]
  },
  {
   "cell_type": "code",
   "execution_count": 10,
   "metadata": {},
   "outputs": [
    {
     "name": "stdout",
     "output_type": "stream",
     "text": [
      "training data size :  88\n",
      "testing data size :  23\n"
     ]
    }
   ],
   "source": [
    "split = 0.8\n",
    "total = len(train_x)\n",
    "train_split = int(total*split)\n",
    "print('training data size : ', train_split)\n",
    "print('testing data size : ', (total-train_split))\n",
    "\n",
    "v_train_x = train_x[:train_split]\n",
    "v_train_y = train_y[:train_split]\n",
    "\n",
    "v_test_x = train_x[train_split:]\n",
    "v_test_y = train_y[train_split:]\n"
   ]
  },
  {
   "cell_type": "markdown",
   "metadata": {},
   "source": [
    "# Model Selection & Performance\n",
    "\n",
    "## K-Fold Cross validation\n",
    "\n",
    "\n",
    "<b>Code Sample :</b>\n",
    "\n",
    "<code>\n",
    "from sklearn.model_selection import cross_val_score\n",
    "print(len(set(v_train_y)))\n",
    "accuracies = cross_val_score(estimator = nb_classifier, X=train_x, y=v_train_y, cv=4)\n",
    "print('All accuracies ', accuracies)\n",
    "print('Mean accuracies ', accuracies.mean())\n",
    "print('Std accuracies ', accuracies.std())\n",
    "</code>\n",
    "\n",
    "## Grid Search\n",
    "\n",
    "<b>Code Sample :</b>\n"
   ]
  },
  {
   "cell_type": "code",
   "execution_count": 44,
   "metadata": {},
   "outputs": [
    {
     "name": "stdout",
     "output_type": "stream",
     "text": [
      "Accuracy  0.304347826087\n",
      "Actual ----------------- Predicted\n",
      "sony cybershot ----------------- sony cybershot\n",
      "chemistry ----------------- data structures algorithms\n",
      "sony cybershot ----------------- sony cybershot\n",
      "physics ----------------- written english\n",
      "spoken english ----------------- written english\n",
      "written english ----------------- written english\n",
      "camcorder ----------------- dslr canon\n",
      "c programming ----------------- written english\n",
      "camcorder ----------------- dslr canon\n",
      "camera ----------------- camera\n",
      "physics ----------------- best-seller books\n",
      "timex watch ----------------- tommy watch\n",
      "chemistry ----------------- data structures algorithms\n",
      "c programming ----------------- written english\n",
      "mathematics ----------------- written english\n",
      "camera ----------------- sony cybershot\n",
      "sony cybershot ----------------- sony cybershot\n",
      "titan watch ----------------- tommy watch\n",
      "c programming ----------------- written english\n",
      "spoken english ----------------- written english\n",
      "best-seller books ----------------- written english\n",
      "written english ----------------- written english\n",
      "nike-deodrant ----------------- nike-deodrant\n",
      "20\n",
      "All accuracies  [ 0.4         0.36842105  0.47368421  0.61538462  0.66666667  1.          1.\n",
      "  1.        ]\n",
      "Mean accuracies  0.690519568151\n",
      "Std accuracies  0.257078606807\n"
     ]
    },
    {
     "name": "stderr",
     "output_type": "stream",
     "text": [
      "D:\\Users\\Samriddha.Chatterjee\\AppData\\Local\\Continuum\\anaconda3\\lib\\site-packages\\sklearn\\model_selection\\_split.py:605: Warning: The least populated class in y has only 1 members, which is too few. The minimum number of members in any class cannot be less than n_splits=8.\n",
      "  % (min_groups, self.n_splits)), Warning)\n",
      "D:\\Users\\Samriddha.Chatterjee\\AppData\\Local\\Continuum\\anaconda3\\lib\\site-packages\\sklearn\\model_selection\\_split.py:605: Warning: The least populated class in y has only 1 members, which is too few. The minimum number of members in any class cannot be less than n_splits=8.\n",
      "  % (min_groups, self.n_splits)), Warning)\n"
     ]
    },
    {
     "name": "stdout",
     "output_type": "stream",
     "text": [
      "Best accuracy  0.795454545455\n",
      "Best params  {'alpha': 1.0, 'fit_prior': False}\n"
     ]
    }
   ],
   "source": [
    "from sklearn.feature_extraction.text import TfidfVectorizer\n",
    "from sklearn.naive_bayes import MultinomialNB\n",
    "from sklearn import metrics\n",
    "\n",
    "vectorizer = TfidfVectorizer()\n",
    "train_x = vectorizer.fit_transform(v_train_x)\n",
    "nb_classifier = MultinomialNB()\n",
    "nb_classifier.fit(train_x, v_train_y)\n",
    "\n",
    "test_x = vectorizer.transform(v_test_x)\n",
    "y_predict = nb_classifier.predict(test_x)\n",
    "\n",
    "score = metrics.accuracy_score(v_test_y, y_predict)\n",
    "print('Accuracy ',score)\n",
    "\n",
    "print('Actual', '-----------------', 'Predicted')\n",
    "for i in range(len(v_test_y)):\n",
    "    print(v_test_y[i], '-----------------', y_predict[i])\n",
    "\n",
    "from sklearn.metrics import confusion_matrix\n",
    "cm = confusion_matrix(v_test_y, y_predict)\n",
    "#print(cm)\n",
    "\n",
    "from sklearn.model_selection import cross_val_score\n",
    "print(len(set(v_train_y)))\n",
    "accuracies = cross_val_score(estimator = nb_classifier, X=train_x, y=v_train_y, cv=8)\n",
    "print('All accuracies ', accuracies)\n",
    "print('Mean accuracies ', accuracies.mean())\n",
    "print('Std accuracies ', accuracies.std())\n",
    "\n",
    "\n",
    "from sklearn.model_selection import GridSearchCV\n",
    "parameters = [\n",
    "    { 'alpha':[1.0, 0.0], 'fit_prior':[True, False] },\n",
    "    { 'alpha':[3.0, 2.0, 1.0, 0.0], 'fit_prior':[True, False] }\n",
    "]\n",
    "\n",
    "grid_search = GridSearchCV(estimator=nb_classifier, param_grid=parameters, scoring='accuracy', cv=8, n_jobs=-1)\n",
    "grid_search_result = grid_search.fit(train_x, v_train_y)\n",
    "\n",
    "print('Best accuracy ', grid_search_result.best_score_)\n",
    "print('Best params ', grid_search_result.best_params_)\n"
   ]
  },
  {
   "cell_type": "code",
   "execution_count": 11,
   "metadata": {},
   "outputs": [
    {
     "name": "stdout",
     "output_type": "stream",
     "text": [
      "Accuracy  0.391304347826\n",
      "Actual ----------------- Predicted\n",
      "sony cybershot ----------------- sony cybershot\n",
      "chemistry ----------------- data structures algorithms\n",
      "sony cybershot ----------------- sony cybershot\n",
      "physics ----------------- written english\n",
      "spoken english ----------------- written english\n",
      "written english ----------------- written english\n",
      "camcorder ----------------- sony cybershot\n",
      "c programming ----------------- written english\n",
      "camcorder ----------------- sony cybershot\n",
      "camera ----------------- nike-deodrant\n",
      "physics ----------------- physics\n",
      "timex watch ----------------- tommy watch\n",
      "chemistry ----------------- data structures algorithms\n",
      "c programming ----------------- data structures algorithms\n",
      "mathematics ----------------- best-seller books\n",
      "camera ----------------- sony cybershot\n",
      "sony cybershot ----------------- sony cybershot\n",
      "titan watch ----------------- titan watch\n",
      "c programming ----------------- data structures algorithms\n",
      "spoken english ----------------- spoken english\n",
      "best-seller books ----------------- written english\n",
      "written english ----------------- written english\n",
      "nike-deodrant ----------------- nike-deodrant\n"
     ]
    }
   ],
   "source": [
    "from sklearn.feature_extraction.text import CountVectorizer\n",
    "from sklearn.naive_bayes import MultinomialNB\n",
    "from sklearn import metrics\n",
    "\n",
    "vectorizer = CountVectorizer()\n",
    "train_x = vectorizer.fit_transform(v_train_x)\n",
    "\n",
    "nb_classifier = MultinomialNB()\n",
    "nb_classifier.fit(train_x, v_train_y)\n",
    "\n",
    "test_x = vectorizer.transform(v_test_x)\n",
    "y_predict = nb_classifier.predict(test_x)\n",
    "\n",
    "score = metrics.accuracy_score(v_test_y, y_predict)\n",
    "print('Accuracy ',score)\n",
    "\n",
    "print('Actual', '-----------------', 'Predicted')\n",
    "for i in range(len(v_test_y)):\n",
    "    print(v_test_y[i], '-----------------', y_predict[i])"
   ]
  },
  {
   "cell_type": "markdown",
   "metadata": {},
   "source": [
    "# Naive Bayes Classifier\n",
    "\n",
    "\n",
    "### Deriving Bayes Theorem from Conditional Probablity\n",
    "\n",
    "P(A|B) = P(A &#8745; B)|P(B) ==> P(A &#8745; B) = P(A|B) * P(B)\n",
    "P(B|A) = P(B &#8745; A)|P(A) ==> P(B &#8745; A) = P(B|A) * P(A)\n",
    "\n",
    "P(A &#8745; B) = P(B &#8745; A)\n",
    "\n",
    "So, P(A|B) * P(B) = P(B|A) * P(A)\n",
    "\n",
    "P(B|A) = P(A|B) * P(B) / P(A)\n",
    "\n",
    "<img src='./images/bayes_theorem.png'>\n",
    "<img src='./images/bayes_theorem_1.png'>\n",
    "\n",
    "https://en.wikipedia.org/wiki/Naive_Bayes_classifier\n",
    "\n",
    "### Multinomial Naive Bayes\n",
    "\n",
    "With a multinomial event model, samples (feature vectors) represent the frequencies with which certain events have been generated by a multinomial \n",
    "( p 1 , … , p n ) where pi is the probability that event i occurs (or K such multinomials in the multiclass case). A feature vector x = ( x 1 , … , x n ) is then a histogram, with xi counting the number of times event i was observed in a particular instance. <b>This is the event model typically used for document classification</b>.\n",
    "\n",
    "the multinomial distribution is a generalization of the binomial distribution.\n",
    "For example, it models the probability of counts for rolling a k-sided die n times. For n independent trials each of which leads to a success for exactly one of k categories, with each category having a given fixed success probability, the multinomial distribution gives the probability of any particular combination of numbers of successes for the various categories.\n",
    "\n",
    "When k is 2 and n is 1, the multinomial distribution is the Bernoulli distribution. When k is 2 and n is bigger than 1, it is the binomial distribution. When n is 1, it is the categorical distribution.\n",
    "\n",
    "### Gaussian Naive Bayes\n",
    "\n",
    "When k is 2 and n is 1, the multinomial distribution is the Bernoulli distribution. When k is 2 and n is bigger than 1, it is the binomial distribution. When n is 1, it is the categorical distribution.\n",
    "\n",
    "\n",
    "### Bernoullis Naive Bayes\n",
    "\n",
    "In the multivariate Bernoulli event model, features are independent booleans (binary variables) describing inputs. Like the multinomial model, this model is popular for document classification tasks,[9] where binary term occurrence features are used rather than term frequencies\n"
   ]
  },
  {
   "cell_type": "code",
   "execution_count": 25,
   "metadata": {},
   "outputs": [
    {
     "name": "stdout",
     "output_type": "stream",
     "text": [
      "Accuracy  0.304347826087\n",
      "Actual ----------------- Predicted\n",
      "sony cybershot ----------------- sony cybershot\n",
      "chemistry ----------------- data structures algorithms\n",
      "sony cybershot ----------------- sony cybershot\n",
      "physics ----------------- written english\n",
      "spoken english ----------------- written english\n",
      "written english ----------------- written english\n",
      "camcorder ----------------- dslr canon\n",
      "c programming ----------------- written english\n",
      "camcorder ----------------- dslr canon\n",
      "camera ----------------- camera\n",
      "physics ----------------- best-seller books\n",
      "timex watch ----------------- tommy watch\n",
      "chemistry ----------------- data structures algorithms\n",
      "c programming ----------------- written english\n",
      "mathematics ----------------- written english\n",
      "camera ----------------- sony cybershot\n",
      "sony cybershot ----------------- sony cybershot\n",
      "titan watch ----------------- tommy watch\n",
      "c programming ----------------- written english\n",
      "spoken english ----------------- written english\n",
      "best-seller books ----------------- written english\n",
      "written english ----------------- written english\n",
      "nike-deodrant ----------------- nike-deodrant\n",
      "[[0 0 0 0 0 0 0 0 0 0 0 0 0 0 0 1]\n",
      " [0 0 0 0 0 0 0 0 0 0 0 0 0 0 0 3]\n",
      " [0 0 0 0 0 0 2 0 0 0 0 0 0 0 0 0]\n",
      " [0 0 0 1 0 0 0 0 0 0 1 0 0 0 0 0]\n",
      " [0 0 0 0 0 2 0 0 0 0 0 0 0 0 0 0]\n",
      " [0 0 0 0 0 0 0 0 0 0 0 0 0 0 0 0]\n",
      " [0 0 0 0 0 0 0 0 0 0 0 0 0 0 0 0]\n",
      " [0 0 0 0 0 0 0 0 0 0 0 0 0 0 0 1]\n",
      " [0 0 0 0 0 0 0 0 1 0 0 0 0 0 0 0]\n",
      " [1 0 0 0 0 0 0 0 0 0 0 0 0 0 0 1]\n",
      " [0 0 0 0 0 0 0 0 0 0 3 0 0 0 0 0]\n",
      " [0 0 0 0 0 0 0 0 0 0 0 0 0 0 0 2]\n",
      " [0 0 0 0 0 0 0 0 0 0 0 0 0 0 1 0]\n",
      " [0 0 0 0 0 0 0 0 0 0 0 0 0 0 1 0]\n",
      " [0 0 0 0 0 0 0 0 0 0 0 0 0 0 0 0]\n",
      " [0 0 0 0 0 0 0 0 0 0 0 0 0 0 0 2]]\n"
     ]
    }
   ],
   "source": [
    "from sklearn.feature_extraction.text import TfidfVectorizer\n",
    "from sklearn.naive_bayes import MultinomialNB\n",
    "from sklearn import metrics\n",
    "\n",
    "vectorizer = TfidfVectorizer()\n",
    "train_x = vectorizer.fit_transform(v_train_x)\n",
    "nb_classifier = MultinomialNB()\n",
    "nb_classifier.fit(train_x, v_train_y)\n",
    "\n",
    "test_x = vectorizer.transform(v_test_x)\n",
    "y_predict = nb_classifier.predict(test_x)\n",
    "\n",
    "score = metrics.accuracy_score(v_test_y, y_predict)\n",
    "print('Accuracy ',score)\n",
    "\n",
    "print('Actual', '-----------------', 'Predicted')\n",
    "for i in range(len(v_test_y)):\n",
    "    print(v_test_y[i], '-----------------', y_predict[i])\n",
    "\n",
    "from sklearn.metrics import confusion_matrix\n",
    "cm = confusion_matrix(v_test_y, y_predict)\n",
    "print(cm)"
   ]
  },
  {
   "cell_type": "code",
   "execution_count": 26,
   "metadata": {},
   "outputs": [
    {
     "name": "stdout",
     "output_type": "stream",
     "text": [
      "Accuracy  0.521739130435\n",
      "input ---------- Actual ----------------- Predicted\n",
      "calvin klein in2u eau de toilette  -  150 ml (for men) ---------- sony cybershot ----------------- camera\n",
      "for the love of physics (paperback) ---------- chemistry ----------------- mathematics\n",
      "nike fission deodorant spray  -  200 ml (for men) ---------- sony cybershot ----------------- camera\n",
      "spoken english (with cd) 2nd edition (paperback) ---------- physics ----------------- chemistry\n",
      "the c++ programming language 3 edition (paperback) ---------- spoken english ----------------- spoken english\n",
      "sony cybershot dsc-w610 point & shoot (black) ---------- written english ----------------- written english\n",
      "ibps bank probationary officers management trainees common written exam. 1st edition (paperback) ---------- camcorder ----------------- camcorder\n",
      "tommy hilfiger analog watch  - for women (silver) ---------- c programming ----------------- c programming\n",
      "dr. seuss's beginner book collection (boxed set) ---------- camcorder ----------------- camcorder\n",
      "panasonic sdr-s15 camcorder (silver) ---------- camera ----------------- camera\n",
      "study writing : a course in written english for academic purposes 2nd edition (paperback) ---------- physics ----------------- mathematics\n",
      "data structures and algorithms for gate: solutions to all previous gate questions since 1991 1st edition (paperback) ---------- timex watch ----------------- timex watch\n",
      "mathematics class-viii (paperback) ---------- chemistry ----------------- physics\n",
      "c in depth 3rd edition (paperback) ---------- c programming ----------------- data structures algorithms\n",
      "longman students grammar of spoken and written english 1st edition (paperback) ---------- mathematics ----------------- chemistry\n",
      "sony cybershot dsc-wx300 point & shoot (black) ---------- camera ----------------- camera\n",
      "titan octane analog watch  - for men (brown) ---------- sony cybershot ----------------- sony cybershot\n",
      "tommy hilfiger analog watch  - for men (black) ---------- titan watch ----------------- nike-deodrant\n",
      "practical everyday english: a self-study method of spoken english for upper intermediate and advanced students (paperback) ---------- c programming ----------------- physics\n",
      "case logic tbc-401 camera bag (black) ---------- spoken english ----------------- spoken english\n",
      "5 more combos ---------- best-seller books ----------------- physics\n",
      "dell meridian ii backpack - fits laptops of screen size... ---------- written english ----------------- written english\n",
      "nike basic purple deodorant spray  -  200 ml (for women) ---------- nike-deodrant ----------------- nike-deodrant\n"
     ]
    }
   ],
   "source": [
    "from sklearn.feature_extraction.text import TfidfVectorizer\n",
    "from sklearn.naive_bayes import GaussianNB\n",
    "from sklearn import metrics\n",
    "\n",
    "vectorizer = TfidfVectorizer()\n",
    "train_x = vectorizer.fit_transform(v_train_x)\n",
    "nb_classifier = GaussianNB()\n",
    "nb_classifier.fit(train_x.toarray(), v_train_y)\n",
    "\n",
    "test_x = vectorizer.transform(v_test_x)\n",
    "y_predict = nb_classifier.predict(test_x.toarray())\n",
    "\n",
    "score = metrics.accuracy_score(v_test_y, y_predict)\n",
    "print('Accuracy ',score)\n",
    "\n",
    "print('input', '----------', 'Actual', '-----------------', 'Predicted')\n",
    "for i in range(len(v_test_y)):\n",
    "    print(v_train_x[i], '----------', v_test_y[i], '-----------------', y_predict[i])"
   ]
  },
  {
   "cell_type": "code",
   "execution_count": 69,
   "metadata": {},
   "outputs": [
    {
     "name": "stdout",
     "output_type": "stream",
     "text": [
      "Accuracy  0.217391304348\n",
      "Actual ----------------- Predicted\n",
      "sony cybershot ----------------- camera\n",
      "chemistry ----------------- written english\n",
      "sony cybershot ----------------- camera\n",
      "physics ----------------- written english\n",
      "spoken english ----------------- written english\n",
      "written english ----------------- written english\n",
      "camcorder ----------------- camera\n",
      "c programming ----------------- written english\n",
      "camcorder ----------------- camera\n",
      "camera ----------------- camera\n",
      "physics ----------------- written english\n",
      "timex watch ----------------- tommy watch\n",
      "chemistry ----------------- written english\n",
      "c programming ----------------- written english\n",
      "mathematics ----------------- written english\n",
      "camera ----------------- camera\n",
      "sony cybershot ----------------- camera\n",
      "titan watch ----------------- tommy watch\n",
      "c programming ----------------- written english\n",
      "spoken english ----------------- written english\n",
      "best-seller books ----------------- written english\n",
      "written english ----------------- written english\n",
      "nike-deodrant ----------------- nike-deodrant\n"
     ]
    }
   ],
   "source": [
    "from sklearn.feature_extraction.text import TfidfVectorizer\n",
    "from sklearn.naive_bayes import BernoulliNB\n",
    "from sklearn import metrics\n",
    "\n",
    "vectorizer = TfidfVectorizer()\n",
    "train_x = vectorizer.fit_transform(v_train_x)\n",
    "nb_classifier = BernoulliNB()\n",
    "nb_classifier.fit(train_x.toarray(), v_train_y)\n",
    "\n",
    "test_x = vectorizer.transform(v_test_x)\n",
    "y_predict = nb_classifier.predict(test_x.toarray())\n",
    "\n",
    "score = metrics.accuracy_score(v_test_y, y_predict)\n",
    "print('Accuracy ',score)\n",
    "\n",
    "print('Actual', '-----------------', 'Predicted')\n",
    "for i in range(len(v_test_y)):\n",
    "    print(v_test_y[i], '-----------------', y_predict[i])"
   ]
  },
  {
   "cell_type": "markdown",
   "metadata": {},
   "source": [
    "# SVM Classifier\n",
    "\n"
   ]
  },
  {
   "cell_type": "code",
   "execution_count": 56,
   "metadata": {},
   "outputs": [
    {
     "name": "stdout",
     "output_type": "stream",
     "text": [
      "Accuracy  0.608695652174\n",
      "Actual ----------------- Predicted\n",
      "sony cybershot ----------------- camera\n",
      "chemistry ----------------- mathematics\n",
      "sony cybershot ----------------- camera\n",
      "physics ----------------- chemistry\n",
      "spoken english ----------------- spoken english\n",
      "written english ----------------- written english\n",
      "camcorder ----------------- camcorder\n",
      "c programming ----------------- c programming\n",
      "camcorder ----------------- camcorder\n",
      "camera ----------------- camera\n",
      "physics ----------------- physics\n",
      "timex watch ----------------- timex watch\n",
      "chemistry ----------------- data structures algorithms\n",
      "c programming ----------------- data structures algorithms\n",
      "mathematics ----------------- best-seller books\n",
      "camera ----------------- sony cybershot\n",
      "sony cybershot ----------------- sony cybershot\n",
      "titan watch ----------------- titan watch\n",
      "c programming ----------------- c programming\n",
      "spoken english ----------------- spoken english\n",
      "best-seller books ----------------- physics\n",
      "written english ----------------- written english\n",
      "nike-deodrant ----------------- nike-deodrant\n"
     ]
    }
   ],
   "source": [
    "from sklearn.feature_extraction.text import TfidfVectorizer\n",
    "from sklearn.svm import LinearSVC\n",
    "from sklearn import metrics\n",
    "\n",
    "vectorizer = TfidfVectorizer()\n",
    "train_x = vectorizer.fit_transform(v_train_x)\n",
    "nb_classifier = LinearSVC(random_state=0)\n",
    "nb_classifier.fit(train_x, v_train_y)\n",
    "\n",
    "test_x = vectorizer.transform(v_test_x)\n",
    "y_predict = nb_classifier.predict(test_x)\n",
    "\n",
    "score = metrics.accuracy_score(v_test_y, y_predict)\n",
    "print('Accuracy ',score)\n",
    "\n",
    "print('Actual', '-----------------', 'Predicted')\n",
    "for i in range(len(v_test_y)):\n",
    "    print(v_test_y[i], '-----------------', y_predict[i])"
   ]
  },
  {
   "cell_type": "markdown",
   "metadata": {},
   "source": [
    "# Decision Tree Classifier"
   ]
  },
  {
   "cell_type": "code",
   "execution_count": 57,
   "metadata": {},
   "outputs": [
    {
     "name": "stdout",
     "output_type": "stream",
     "text": [
      "Accuracy  0.739130434783\n",
      "Actual ----------------- Predicted\n",
      "sony cybershot ----------------- camera\n",
      "chemistry ----------------- written english\n",
      "sony cybershot ----------------- camera\n",
      "physics ----------------- chemistry\n",
      "spoken english ----------------- spoken english\n",
      "written english ----------------- written english\n",
      "camcorder ----------------- camcorder\n",
      "c programming ----------------- c programming\n",
      "camcorder ----------------- camcorder\n",
      "camera ----------------- axe deo\n",
      "physics ----------------- physics\n",
      "timex watch ----------------- timex watch\n",
      "chemistry ----------------- chemistry\n",
      "c programming ----------------- c programming\n",
      "mathematics ----------------- mathematics\n",
      "camera ----------------- camera\n",
      "sony cybershot ----------------- sony cybershot\n",
      "titan watch ----------------- titan watch\n",
      "c programming ----------------- c programming\n",
      "spoken english ----------------- spoken english\n",
      "best-seller books ----------------- written english\n",
      "written english ----------------- written english\n",
      "nike-deodrant ----------------- nike-deodrant\n"
     ]
    }
   ],
   "source": [
    "from sklearn.feature_extraction.text import TfidfVectorizer\n",
    "from sklearn.tree import DecisionTreeClassifier\n",
    "from sklearn import metrics\n",
    "\n",
    "vectorizer = TfidfVectorizer()\n",
    "train_x = vectorizer.fit_transform(v_train_x)\n",
    "nb_classifier = DecisionTreeClassifier(random_state=0)\n",
    "nb_classifier.fit(train_x, v_train_y)\n",
    "\n",
    "test_x = vectorizer.transform(v_test_x)\n",
    "y_predict = nb_classifier.predict(test_x)\n",
    "\n",
    "score = metrics.accuracy_score(v_test_y, y_predict)\n",
    "print('Accuracy ',score)\n",
    "\n",
    "print('Actual', '-----------------', 'Predicted')\n",
    "for i in range(len(v_test_y)):\n",
    "    print(v_test_y[i], '-----------------', y_predict[i])"
   ]
  },
  {
   "cell_type": "markdown",
   "metadata": {},
   "source": [
    "# Random Forest Classifier"
   ]
  },
  {
   "cell_type": "code",
   "execution_count": 62,
   "metadata": {},
   "outputs": [
    {
     "name": "stdout",
     "output_type": "stream",
     "text": [
      "Accuracy  0.608695652174\n",
      "Actual ----------------- Predicted\n",
      "sony cybershot ----------------- camera\n",
      "chemistry ----------------- data structures algorithms\n",
      "sony cybershot ----------------- sony cybershot\n",
      "physics ----------------- written english\n",
      "spoken english ----------------- spoken english\n",
      "written english ----------------- written english\n",
      "camcorder ----------------- camera\n",
      "c programming ----------------- c programming\n",
      "camcorder ----------------- camera\n",
      "camera ----------------- camera\n",
      "physics ----------------- physics\n",
      "timex watch ----------------- timex watch\n",
      "chemistry ----------------- data structures algorithms\n",
      "c programming ----------------- best-seller books\n",
      "mathematics ----------------- mathematics\n",
      "camera ----------------- sony cybershot\n",
      "sony cybershot ----------------- sony cybershot\n",
      "titan watch ----------------- titan watch\n",
      "c programming ----------------- c programming\n",
      "spoken english ----------------- spoken english\n",
      "best-seller books ----------------- c programming\n",
      "written english ----------------- written english\n",
      "nike-deodrant ----------------- nike-deodrant\n"
     ]
    }
   ],
   "source": [
    "from sklearn.feature_extraction.text import TfidfVectorizer\n",
    "from sklearn.ensemble import RandomForestClassifier\n",
    "from sklearn import metrics\n",
    "\n",
    "vectorizer = TfidfVectorizer()\n",
    "train_x = vectorizer.fit_transform(v_train_x)\n",
    "nb_classifier = RandomForestClassifier(random_state=0)\n",
    "nb_classifier.fit(train_x, v_train_y)\n",
    "\n",
    "test_x = vectorizer.transform(v_test_x)\n",
    "y_predict = nb_classifier.predict(test_x)\n",
    "\n",
    "score = metrics.accuracy_score(v_test_y, y_predict)\n",
    "print('Accuracy ',score)\n",
    "\n",
    "print('Actual', '-----------------', 'Predicted')\n",
    "for i in range(len(v_test_y)):\n",
    "    print(v_test_y[i], '-----------------', y_predict[i])"
   ]
  },
  {
   "cell_type": "markdown",
   "metadata": {},
   "source": [
    "# Logistic Regression Classifier"
   ]
  },
  {
   "cell_type": "code",
   "execution_count": 63,
   "metadata": {},
   "outputs": [
    {
     "name": "stdout",
     "output_type": "stream",
     "text": [
      "Accuracy  0.565217391304\n",
      "Actual ----------------- Predicted\n",
      "sony cybershot ----------------- sony cybershot\n",
      "chemistry ----------------- data structures algorithms\n",
      "sony cybershot ----------------- sony cybershot\n",
      "physics ----------------- written english\n",
      "spoken english ----------------- spoken english\n",
      "written english ----------------- written english\n",
      "camcorder ----------------- camcorder\n",
      "c programming ----------------- written english\n",
      "camcorder ----------------- camcorder\n",
      "camera ----------------- camera\n",
      "physics ----------------- best-seller books\n",
      "timex watch ----------------- timex watch\n",
      "chemistry ----------------- data structures algorithms\n",
      "c programming ----------------- written english\n",
      "mathematics ----------------- best-seller books\n",
      "camera ----------------- sony cybershot\n",
      "sony cybershot ----------------- sony cybershot\n",
      "titan watch ----------------- titan watch\n",
      "c programming ----------------- data structures algorithms\n",
      "spoken english ----------------- spoken english\n",
      "best-seller books ----------------- written english\n",
      "written english ----------------- written english\n",
      "nike-deodrant ----------------- nike-deodrant\n"
     ]
    }
   ],
   "source": [
    "from sklearn.feature_extraction.text import TfidfVectorizer\n",
    "from sklearn.linear_model import LogisticRegression\n",
    "from sklearn import metrics\n",
    "\n",
    "vectorizer = TfidfVectorizer()\n",
    "train_x = vectorizer.fit_transform(v_train_x)\n",
    "nb_classifier = LogisticRegression(random_state=0)\n",
    "nb_classifier.fit(train_x, v_train_y)\n",
    "\n",
    "test_x = vectorizer.transform(v_test_x)\n",
    "y_predict = nb_classifier.predict(test_x)\n",
    "\n",
    "score = metrics.accuracy_score(v_test_y, y_predict)\n",
    "print('Accuracy ',score)\n",
    "\n",
    "print('Actual', '-----------------', 'Predicted')\n",
    "for i in range(len(v_test_y)):\n",
    "    print(v_test_y[i], '-----------------', y_predict[i])"
   ]
  },
  {
   "cell_type": "markdown",
   "metadata": {},
   "source": [
    "# K-NN Classifier"
   ]
  },
  {
   "cell_type": "code",
   "execution_count": 65,
   "metadata": {},
   "outputs": [
    {
     "name": "stdout",
     "output_type": "stream",
     "text": [
      "Accuracy  0.652173913043\n",
      "Actual ----------------- Predicted\n",
      "sony cybershot ----------------- sony cybershot\n",
      "chemistry ----------------- data structures algorithms\n",
      "sony cybershot ----------------- sony cybershot\n",
      "physics ----------------- best-seller books\n",
      "spoken english ----------------- spoken english\n",
      "written english ----------------- written english\n",
      "camcorder ----------------- camcorder\n",
      "c programming ----------------- c programming\n",
      "camcorder ----------------- camcorder\n",
      "camera ----------------- camera\n",
      "physics ----------------- best-seller books\n",
      "timex watch ----------------- timex watch\n",
      "chemistry ----------------- chemistry\n",
      "c programming ----------------- best-seller books\n",
      "mathematics ----------------- best-seller books\n",
      "camera ----------------- sony cybershot\n",
      "sony cybershot ----------------- sony cybershot\n",
      "titan watch ----------------- titan watch\n",
      "c programming ----------------- c programming\n",
      "spoken english ----------------- spoken english\n",
      "best-seller books ----------------- written english\n",
      "written english ----------------- spoken english\n",
      "nike-deodrant ----------------- nike-deodrant\n"
     ]
    }
   ],
   "source": [
    "from sklearn.feature_extraction.text import TfidfVectorizer\n",
    "from sklearn.neighbors import KNeighborsClassifier\n",
    "from sklearn import metrics\n",
    "\n",
    "vectorizer = TfidfVectorizer()\n",
    "train_x = vectorizer.fit_transform(v_train_x)\n",
    "nb_classifier = KNeighborsClassifier()\n",
    "nb_classifier.fit(train_x, v_train_y)\n",
    "\n",
    "test_x = vectorizer.transform(v_test_x)\n",
    "y_predict = nb_classifier.predict(test_x)\n",
    "\n",
    "score = metrics.accuracy_score(v_test_y, y_predict)\n",
    "print('Accuracy ',score)\n",
    "\n",
    "print('Actual', '-----------------', 'Predicted')\n",
    "for i in range(len(v_test_y)):\n",
    "    print(v_test_y[i], '-----------------', y_predict[i])"
   ]
  },
  {
   "cell_type": "markdown",
   "metadata": {
    "collapsed": true
   },
   "source": [
    "# Neural Net Classifier"
   ]
  },
  {
   "cell_type": "code",
   "execution_count": null,
   "metadata": {
    "collapsed": true
   },
   "outputs": [],
   "source": []
  }
 ],
 "metadata": {
  "celltoolbar": "Raw Cell Format",
  "kernelspec": {
   "display_name": "Python 3",
   "language": "python",
   "name": "python3"
  },
  "language_info": {
   "codemirror_mode": {
    "name": "ipython",
    "version": 3
   },
   "file_extension": ".py",
   "mimetype": "text/x-python",
   "name": "python",
   "nbconvert_exporter": "python",
   "pygments_lexer": "ipython3",
   "version": "3.6.3"
  }
 },
 "nbformat": 4,
 "nbformat_minor": 2
}
