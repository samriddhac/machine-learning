{
 "cells": [
  {
   "cell_type": "code",
   "execution_count": 40,
   "metadata": {
    "collapsed": true
   },
   "outputs": [],
   "source": [
    "with open('training.txt', 'r', encoding='utf-8') as f:\n",
    "    text = f.read()"
   ]
  },
  {
   "cell_type": "code",
   "execution_count": 41,
   "metadata": {},
   "outputs": [],
   "source": [
    "train_x = []\n",
    "train_y = []\n",
    "\n",
    "lines = [line.strip() for line in text.split('\\n')]\n",
    "for line in lines[1:]:\n",
    "    w = line.split('\\t')\n",
    "    if len(w) == 2:\n",
    "        train_x.append(w[0].strip().lower())\n",
    "        train_y.append(w[1].strip().lower())    \n"
   ]
  },
  {
   "cell_type": "code",
   "execution_count": 42,
   "metadata": {},
   "outputs": [
    {
     "data": {
      "text/plain": [
       "['calvin klein in2u eau de toilette  -  150 ml (for men)',\n",
       " 'for the love of physics (paperback)',\n",
       " 'nike fission deodorant spray  -  200 ml (for men)',\n",
       " 'spoken english (with cd) 2nd edition (paperback)',\n",
       " 'the c++ programming language 3 edition (paperback)',\n",
       " 'sony cybershot dsc-w610 point & shoot (black)',\n",
       " 'ibps bank probationary officers management trainees common written exam. 1st edition (paperback)',\n",
       " 'tommy hilfiger analog watch  - for women (silver)',\n",
       " \"dr. seuss's beginner book collection (boxed set)\",\n",
       " 'panasonic sdr-s15 camcorder (silver)']"
      ]
     },
     "execution_count": 42,
     "metadata": {},
     "output_type": "execute_result"
    }
   ],
   "source": [
    "train_x[:10]"
   ]
  },
  {
   "cell_type": "code",
   "execution_count": 43,
   "metadata": {},
   "outputs": [
    {
     "data": {
      "text/plain": [
       "['calvin klein',\n",
       " 'physics',\n",
       " 'nike-deodrant',\n",
       " 'spoken english',\n",
       " 'c programming',\n",
       " 'sony cybershot',\n",
       " 'written english',\n",
       " 'tommy watch',\n",
       " 'best-seller books',\n",
       " 'camcorder']"
      ]
     },
     "execution_count": 43,
     "metadata": {},
     "output_type": "execute_result"
    }
   ],
   "source": [
    "train_y[:10]"
   ]
  },
  {
   "cell_type": "code",
   "execution_count": 44,
   "metadata": {},
   "outputs": [
    {
     "name": "stdout",
     "output_type": "stream",
     "text": [
      "training data size :  88\n",
      "testing data size :  23\n"
     ]
    }
   ],
   "source": [
    "split = 0.8\n",
    "total = len(train_x)\n",
    "train_split = int(total*split)\n",
    "print('training data size : ', train_split)\n",
    "print('testing data size : ', (total-train_split))\n",
    "\n",
    "v_train_x = train_x[:train_split]\n",
    "v_train_y = train_y[:train_split]\n",
    "\n",
    "v_test_x = train_x[train_split:]\n",
    "v_test_y = train_y[train_split:]\n"
   ]
  },
  {
   "cell_type": "code",
   "execution_count": 45,
   "metadata": {},
   "outputs": [
    {
     "name": "stdout",
     "output_type": "stream",
     "text": [
      "Accuracy  0.391304347826\n",
      "Actual ----------------- Predicted\n",
      "sony cybershot ----------------- sony cybershot\n",
      "chemistry ----------------- data structures algorithms\n",
      "sony cybershot ----------------- sony cybershot\n",
      "physics ----------------- written english\n",
      "spoken english ----------------- written english\n",
      "written english ----------------- written english\n",
      "camcorder ----------------- sony cybershot\n",
      "c programming ----------------- written english\n",
      "camcorder ----------------- sony cybershot\n",
      "camera ----------------- nike-deodrant\n",
      "physics ----------------- physics\n",
      "timex watch ----------------- tommy watch\n",
      "chemistry ----------------- data structures algorithms\n",
      "c programming ----------------- data structures algorithms\n",
      "mathematics ----------------- best-seller books\n",
      "camera ----------------- sony cybershot\n",
      "sony cybershot ----------------- sony cybershot\n",
      "titan watch ----------------- titan watch\n",
      "c programming ----------------- data structures algorithms\n",
      "spoken english ----------------- spoken english\n",
      "best-seller books ----------------- written english\n",
      "written english ----------------- written english\n",
      "nike-deodrant ----------------- nike-deodrant\n"
     ]
    }
   ],
   "source": [
    "from sklearn.feature_extraction.text import CountVectorizer\n",
    "from sklearn.naive_bayes import MultinomialNB\n",
    "from sklearn import metrics\n",
    "\n",
    "vectorizer = CountVectorizer()\n",
    "train_x = vectorizer.fit_transform(v_train_x)\n",
    "\n",
    "nb_classifier = MultinomialNB()\n",
    "nb_classifier.fit(train_x, v_train_y)\n",
    "\n",
    "test_x = vectorizer.transform(v_test_x)\n",
    "y_predict = nb_classifier.predict(test_x)\n",
    "\n",
    "score = metrics.accuracy_score(v_test_y, y_predict)\n",
    "print('Accuracy ',score)\n",
    "\n",
    "print('Actual', '-----------------', 'Predicted')\n",
    "for i in range(len(v_test_y)):\n",
    "    print(v_test_y[i], '-----------------', y_predict[i])"
   ]
  },
  {
   "cell_type": "code",
   "execution_count": 55,
   "metadata": {},
   "outputs": [
    {
     "name": "stdout",
     "output_type": "stream",
     "text": [
      "Accuracy  0.304347826087\n",
      "Actual ----------------- Predicted\n",
      "sony cybershot ----------------- sony cybershot\n",
      "chemistry ----------------- data structures algorithms\n",
      "sony cybershot ----------------- sony cybershot\n",
      "physics ----------------- written english\n",
      "spoken english ----------------- written english\n",
      "written english ----------------- written english\n",
      "camcorder ----------------- dslr canon\n",
      "c programming ----------------- written english\n",
      "camcorder ----------------- dslr canon\n",
      "camera ----------------- camera\n",
      "physics ----------------- best-seller books\n",
      "timex watch ----------------- tommy watch\n",
      "chemistry ----------------- data structures algorithms\n",
      "c programming ----------------- written english\n",
      "mathematics ----------------- written english\n",
      "camera ----------------- sony cybershot\n",
      "sony cybershot ----------------- sony cybershot\n",
      "titan watch ----------------- tommy watch\n",
      "c programming ----------------- written english\n",
      "spoken english ----------------- written english\n",
      "best-seller books ----------------- written english\n",
      "written english ----------------- written english\n",
      "nike-deodrant ----------------- nike-deodrant\n"
     ]
    }
   ],
   "source": [
    "from sklearn.feature_extraction.text import TfidfVectorizer\n",
    "from sklearn.naive_bayes import MultinomialNB\n",
    "from sklearn import metrics\n",
    "\n",
    "vectorizer = TfidfVectorizer()\n",
    "train_x = vectorizer.fit_transform(v_train_x)\n",
    "nb_classifier = MultinomialNB()\n",
    "nb_classifier.fit(train_x, v_train_y)\n",
    "\n",
    "test_x = vectorizer.transform(v_test_x)\n",
    "y_predict = nb_classifier.predict(test_x)\n",
    "\n",
    "score = metrics.accuracy_score(v_test_y, y_predict)\n",
    "print('Accuracy ',score)\n",
    "\n",
    "print('Actual', '-----------------', 'Predicted')\n",
    "for i in range(len(v_test_y)):\n",
    "    print(v_test_y[i], '-----------------', y_predict[i])"
   ]
  },
  {
   "cell_type": "code",
   "execution_count": 68,
   "metadata": {},
   "outputs": [
    {
     "name": "stdout",
     "output_type": "stream",
     "text": [
      "Accuracy  0.521739130435\n",
      "Actual ----------------- Predicted\n",
      "sony cybershot ----------------- camera\n",
      "chemistry ----------------- mathematics\n",
      "sony cybershot ----------------- camera\n",
      "physics ----------------- chemistry\n",
      "spoken english ----------------- spoken english\n",
      "written english ----------------- written english\n",
      "camcorder ----------------- camcorder\n",
      "c programming ----------------- c programming\n",
      "camcorder ----------------- camcorder\n",
      "camera ----------------- camera\n",
      "physics ----------------- mathematics\n",
      "timex watch ----------------- timex watch\n",
      "chemistry ----------------- physics\n",
      "c programming ----------------- data structures algorithms\n",
      "mathematics ----------------- chemistry\n",
      "camera ----------------- camera\n",
      "sony cybershot ----------------- sony cybershot\n",
      "titan watch ----------------- nike-deodrant\n",
      "c programming ----------------- physics\n",
      "spoken english ----------------- spoken english\n",
      "best-seller books ----------------- physics\n",
      "written english ----------------- written english\n",
      "nike-deodrant ----------------- nike-deodrant\n"
     ]
    }
   ],
   "source": [
    "from sklearn.feature_extraction.text import TfidfVectorizer\n",
    "from sklearn.naive_bayes import GaussianNB\n",
    "from sklearn import metrics\n",
    "\n",
    "vectorizer = TfidfVectorizer()\n",
    "train_x = vectorizer.fit_transform(v_train_x)\n",
    "nb_classifier = GaussianNB()\n",
    "nb_classifier.fit(train_x.toarray(), v_train_y)\n",
    "\n",
    "test_x = vectorizer.transform(v_test_x)\n",
    "y_predict = nb_classifier.predict(test_x.toarray())\n",
    "\n",
    "score = metrics.accuracy_score(v_test_y, y_predict)\n",
    "print('Accuracy ',score)\n",
    "\n",
    "print('Actual', '-----------------', 'Predicted')\n",
    "for i in range(len(v_test_y)):\n",
    "    print(v_test_y[i], '-----------------', y_predict[i])"
   ]
  },
  {
   "cell_type": "code",
   "execution_count": 69,
   "metadata": {},
   "outputs": [
    {
     "name": "stdout",
     "output_type": "stream",
     "text": [
      "Accuracy  0.217391304348\n",
      "Actual ----------------- Predicted\n",
      "sony cybershot ----------------- camera\n",
      "chemistry ----------------- written english\n",
      "sony cybershot ----------------- camera\n",
      "physics ----------------- written english\n",
      "spoken english ----------------- written english\n",
      "written english ----------------- written english\n",
      "camcorder ----------------- camera\n",
      "c programming ----------------- written english\n",
      "camcorder ----------------- camera\n",
      "camera ----------------- camera\n",
      "physics ----------------- written english\n",
      "timex watch ----------------- tommy watch\n",
      "chemistry ----------------- written english\n",
      "c programming ----------------- written english\n",
      "mathematics ----------------- written english\n",
      "camera ----------------- camera\n",
      "sony cybershot ----------------- camera\n",
      "titan watch ----------------- tommy watch\n",
      "c programming ----------------- written english\n",
      "spoken english ----------------- written english\n",
      "best-seller books ----------------- written english\n",
      "written english ----------------- written english\n",
      "nike-deodrant ----------------- nike-deodrant\n"
     ]
    }
   ],
   "source": [
    "from sklearn.feature_extraction.text import TfidfVectorizer\n",
    "from sklearn.naive_bayes import BernoulliNB\n",
    "from sklearn import metrics\n",
    "\n",
    "vectorizer = TfidfVectorizer()\n",
    "train_x = vectorizer.fit_transform(v_train_x)\n",
    "nb_classifier = BernoulliNB()\n",
    "nb_classifier.fit(train_x.toarray(), v_train_y)\n",
    "\n",
    "test_x = vectorizer.transform(v_test_x)\n",
    "y_predict = nb_classifier.predict(test_x.toarray())\n",
    "\n",
    "score = metrics.accuracy_score(v_test_y, y_predict)\n",
    "print('Accuracy ',score)\n",
    "\n",
    "print('Actual', '-----------------', 'Predicted')\n",
    "for i in range(len(v_test_y)):\n",
    "    print(v_test_y[i], '-----------------', y_predict[i])"
   ]
  },
  {
   "cell_type": "code",
   "execution_count": 56,
   "metadata": {},
   "outputs": [
    {
     "name": "stdout",
     "output_type": "stream",
     "text": [
      "Accuracy  0.608695652174\n",
      "Actual ----------------- Predicted\n",
      "sony cybershot ----------------- camera\n",
      "chemistry ----------------- mathematics\n",
      "sony cybershot ----------------- camera\n",
      "physics ----------------- chemistry\n",
      "spoken english ----------------- spoken english\n",
      "written english ----------------- written english\n",
      "camcorder ----------------- camcorder\n",
      "c programming ----------------- c programming\n",
      "camcorder ----------------- camcorder\n",
      "camera ----------------- camera\n",
      "physics ----------------- physics\n",
      "timex watch ----------------- timex watch\n",
      "chemistry ----------------- data structures algorithms\n",
      "c programming ----------------- data structures algorithms\n",
      "mathematics ----------------- best-seller books\n",
      "camera ----------------- sony cybershot\n",
      "sony cybershot ----------------- sony cybershot\n",
      "titan watch ----------------- titan watch\n",
      "c programming ----------------- c programming\n",
      "spoken english ----------------- spoken english\n",
      "best-seller books ----------------- physics\n",
      "written english ----------------- written english\n",
      "nike-deodrant ----------------- nike-deodrant\n"
     ]
    }
   ],
   "source": [
    "from sklearn.feature_extraction.text import TfidfVectorizer\n",
    "from sklearn.svm import LinearSVC\n",
    "from sklearn import metrics\n",
    "\n",
    "vectorizer = TfidfVectorizer()\n",
    "train_x = vectorizer.fit_transform(v_train_x)\n",
    "nb_classifier = LinearSVC(random_state=0)\n",
    "nb_classifier.fit(train_x, v_train_y)\n",
    "\n",
    "test_x = vectorizer.transform(v_test_x)\n",
    "y_predict = nb_classifier.predict(test_x)\n",
    "\n",
    "score = metrics.accuracy_score(v_test_y, y_predict)\n",
    "print('Accuracy ',score)\n",
    "\n",
    "print('Actual', '-----------------', 'Predicted')\n",
    "for i in range(len(v_test_y)):\n",
    "    print(v_test_y[i], '-----------------', y_predict[i])"
   ]
  },
  {
   "cell_type": "code",
   "execution_count": 57,
   "metadata": {},
   "outputs": [
    {
     "name": "stdout",
     "output_type": "stream",
     "text": [
      "Accuracy  0.739130434783\n",
      "Actual ----------------- Predicted\n",
      "sony cybershot ----------------- camera\n",
      "chemistry ----------------- written english\n",
      "sony cybershot ----------------- camera\n",
      "physics ----------------- chemistry\n",
      "spoken english ----------------- spoken english\n",
      "written english ----------------- written english\n",
      "camcorder ----------------- camcorder\n",
      "c programming ----------------- c programming\n",
      "camcorder ----------------- camcorder\n",
      "camera ----------------- axe deo\n",
      "physics ----------------- physics\n",
      "timex watch ----------------- timex watch\n",
      "chemistry ----------------- chemistry\n",
      "c programming ----------------- c programming\n",
      "mathematics ----------------- mathematics\n",
      "camera ----------------- camera\n",
      "sony cybershot ----------------- sony cybershot\n",
      "titan watch ----------------- titan watch\n",
      "c programming ----------------- c programming\n",
      "spoken english ----------------- spoken english\n",
      "best-seller books ----------------- written english\n",
      "written english ----------------- written english\n",
      "nike-deodrant ----------------- nike-deodrant\n"
     ]
    }
   ],
   "source": [
    "from sklearn.feature_extraction.text import TfidfVectorizer\n",
    "from sklearn.tree import DecisionTreeClassifier\n",
    "from sklearn import metrics\n",
    "\n",
    "vectorizer = TfidfVectorizer()\n",
    "train_x = vectorizer.fit_transform(v_train_x)\n",
    "nb_classifier = DecisionTreeClassifier(random_state=0)\n",
    "nb_classifier.fit(train_x, v_train_y)\n",
    "\n",
    "test_x = vectorizer.transform(v_test_x)\n",
    "y_predict = nb_classifier.predict(test_x)\n",
    "\n",
    "score = metrics.accuracy_score(v_test_y, y_predict)\n",
    "print('Accuracy ',score)\n",
    "\n",
    "print('Actual', '-----------------', 'Predicted')\n",
    "for i in range(len(v_test_y)):\n",
    "    print(v_test_y[i], '-----------------', y_predict[i])"
   ]
  },
  {
   "cell_type": "code",
   "execution_count": 62,
   "metadata": {},
   "outputs": [
    {
     "name": "stdout",
     "output_type": "stream",
     "text": [
      "Accuracy  0.608695652174\n",
      "Actual ----------------- Predicted\n",
      "sony cybershot ----------------- camera\n",
      "chemistry ----------------- data structures algorithms\n",
      "sony cybershot ----------------- sony cybershot\n",
      "physics ----------------- written english\n",
      "spoken english ----------------- spoken english\n",
      "written english ----------------- written english\n",
      "camcorder ----------------- camera\n",
      "c programming ----------------- c programming\n",
      "camcorder ----------------- camera\n",
      "camera ----------------- camera\n",
      "physics ----------------- physics\n",
      "timex watch ----------------- timex watch\n",
      "chemistry ----------------- data structures algorithms\n",
      "c programming ----------------- best-seller books\n",
      "mathematics ----------------- mathematics\n",
      "camera ----------------- sony cybershot\n",
      "sony cybershot ----------------- sony cybershot\n",
      "titan watch ----------------- titan watch\n",
      "c programming ----------------- c programming\n",
      "spoken english ----------------- spoken english\n",
      "best-seller books ----------------- c programming\n",
      "written english ----------------- written english\n",
      "nike-deodrant ----------------- nike-deodrant\n"
     ]
    }
   ],
   "source": [
    "from sklearn.feature_extraction.text import TfidfVectorizer\n",
    "from sklearn.ensemble import RandomForestClassifier\n",
    "from sklearn import metrics\n",
    "\n",
    "vectorizer = TfidfVectorizer()\n",
    "train_x = vectorizer.fit_transform(v_train_x)\n",
    "nb_classifier = RandomForestClassifier(random_state=0)\n",
    "nb_classifier.fit(train_x, v_train_y)\n",
    "\n",
    "test_x = vectorizer.transform(v_test_x)\n",
    "y_predict = nb_classifier.predict(test_x)\n",
    "\n",
    "score = metrics.accuracy_score(v_test_y, y_predict)\n",
    "print('Accuracy ',score)\n",
    "\n",
    "print('Actual', '-----------------', 'Predicted')\n",
    "for i in range(len(v_test_y)):\n",
    "    print(v_test_y[i], '-----------------', y_predict[i])"
   ]
  },
  {
   "cell_type": "code",
   "execution_count": 63,
   "metadata": {},
   "outputs": [
    {
     "name": "stdout",
     "output_type": "stream",
     "text": [
      "Accuracy  0.565217391304\n",
      "Actual ----------------- Predicted\n",
      "sony cybershot ----------------- sony cybershot\n",
      "chemistry ----------------- data structures algorithms\n",
      "sony cybershot ----------------- sony cybershot\n",
      "physics ----------------- written english\n",
      "spoken english ----------------- spoken english\n",
      "written english ----------------- written english\n",
      "camcorder ----------------- camcorder\n",
      "c programming ----------------- written english\n",
      "camcorder ----------------- camcorder\n",
      "camera ----------------- camera\n",
      "physics ----------------- best-seller books\n",
      "timex watch ----------------- timex watch\n",
      "chemistry ----------------- data structures algorithms\n",
      "c programming ----------------- written english\n",
      "mathematics ----------------- best-seller books\n",
      "camera ----------------- sony cybershot\n",
      "sony cybershot ----------------- sony cybershot\n",
      "titan watch ----------------- titan watch\n",
      "c programming ----------------- data structures algorithms\n",
      "spoken english ----------------- spoken english\n",
      "best-seller books ----------------- written english\n",
      "written english ----------------- written english\n",
      "nike-deodrant ----------------- nike-deodrant\n"
     ]
    }
   ],
   "source": [
    "from sklearn.feature_extraction.text import TfidfVectorizer\n",
    "from sklearn.linear_model import LogisticRegression\n",
    "from sklearn import metrics\n",
    "\n",
    "vectorizer = TfidfVectorizer()\n",
    "train_x = vectorizer.fit_transform(v_train_x)\n",
    "nb_classifier = LogisticRegression(random_state=0)\n",
    "nb_classifier.fit(train_x, v_train_y)\n",
    "\n",
    "test_x = vectorizer.transform(v_test_x)\n",
    "y_predict = nb_classifier.predict(test_x)\n",
    "\n",
    "score = metrics.accuracy_score(v_test_y, y_predict)\n",
    "print('Accuracy ',score)\n",
    "\n",
    "print('Actual', '-----------------', 'Predicted')\n",
    "for i in range(len(v_test_y)):\n",
    "    print(v_test_y[i], '-----------------', y_predict[i])"
   ]
  },
  {
   "cell_type": "code",
   "execution_count": 65,
   "metadata": {},
   "outputs": [
    {
     "name": "stdout",
     "output_type": "stream",
     "text": [
      "Accuracy  0.652173913043\n",
      "Actual ----------------- Predicted\n",
      "sony cybershot ----------------- sony cybershot\n",
      "chemistry ----------------- data structures algorithms\n",
      "sony cybershot ----------------- sony cybershot\n",
      "physics ----------------- best-seller books\n",
      "spoken english ----------------- spoken english\n",
      "written english ----------------- written english\n",
      "camcorder ----------------- camcorder\n",
      "c programming ----------------- c programming\n",
      "camcorder ----------------- camcorder\n",
      "camera ----------------- camera\n",
      "physics ----------------- best-seller books\n",
      "timex watch ----------------- timex watch\n",
      "chemistry ----------------- chemistry\n",
      "c programming ----------------- best-seller books\n",
      "mathematics ----------------- best-seller books\n",
      "camera ----------------- sony cybershot\n",
      "sony cybershot ----------------- sony cybershot\n",
      "titan watch ----------------- titan watch\n",
      "c programming ----------------- c programming\n",
      "spoken english ----------------- spoken english\n",
      "best-seller books ----------------- written english\n",
      "written english ----------------- spoken english\n",
      "nike-deodrant ----------------- nike-deodrant\n"
     ]
    }
   ],
   "source": [
    "from sklearn.feature_extraction.text import TfidfVectorizer\n",
    "from sklearn.neighbors import KNeighborsClassifier\n",
    "from sklearn import metrics\n",
    "\n",
    "vectorizer = TfidfVectorizer()\n",
    "train_x = vectorizer.fit_transform(v_train_x)\n",
    "nb_classifier = KNeighborsClassifier()\n",
    "nb_classifier.fit(train_x, v_train_y)\n",
    "\n",
    "test_x = vectorizer.transform(v_test_x)\n",
    "y_predict = nb_classifier.predict(test_x)\n",
    "\n",
    "score = metrics.accuracy_score(v_test_y, y_predict)\n",
    "print('Accuracy ',score)\n",
    "\n",
    "print('Actual', '-----------------', 'Predicted')\n",
    "for i in range(len(v_test_y)):\n",
    "    print(v_test_y[i], '-----------------', y_predict[i])"
   ]
  },
  {
   "cell_type": "code",
   "execution_count": null,
   "metadata": {
    "collapsed": true
   },
   "outputs": [],
   "source": []
  }
 ],
 "metadata": {
  "kernelspec": {
   "display_name": "Python 3",
   "language": "python",
   "name": "python3"
  },
  "language_info": {
   "codemirror_mode": {
    "name": "ipython",
    "version": 3
   },
   "file_extension": ".py",
   "mimetype": "text/x-python",
   "name": "python",
   "nbconvert_exporter": "python",
   "pygments_lexer": "ipython3",
   "version": "3.6.3"
  }
 },
 "nbformat": 4,
 "nbformat_minor": 2
}
