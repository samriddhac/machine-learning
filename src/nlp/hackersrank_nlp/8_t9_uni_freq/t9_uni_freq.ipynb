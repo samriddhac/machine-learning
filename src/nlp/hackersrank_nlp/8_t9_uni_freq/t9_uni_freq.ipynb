{
 "cells": [
  {
   "cell_type": "code",
   "execution_count": 1,
   "metadata": {
    "collapsed": true
   },
   "outputs": [],
   "source": [
    "char_dict = {\n",
    "    2:['a','b','c'],\n",
    "    3:['d','e','f'],\n",
    "    4:['g','h','i'],\n",
    "    5:['j','k','l'],\n",
    "    6:['m','n','o'],\n",
    "    7:['p','q','r','s'],\n",
    "    8:['t','u','v'],\n",
    "    9:['w','x','y','z']\n",
    "}"
   ]
  },
  {
   "cell_type": "code",
   "execution_count": 2,
   "metadata": {
    "collapsed": true
   },
   "outputs": [],
   "source": [
    "seq = [] \n",
    "def word_seq(text):\n",
    "    text_len = len(text)\n",
    "    num_item = text[0]\n",
    "    char_seq = char_dict[int(num_item)]\n",
    "    for c in char_seq:\n",
    "        in_c = c\n",
    "        in_word = text[1:]\n",
    "        word_sequences(in_word, in_c)\n",
    "    \n",
    "    \n",
    "def word_sequences(text, in_c):\n",
    "    out_c = ''\n",
    "    if len(text)>0:\n",
    "        num_item = text[0]\n",
    "        char_seq = char_dict[int(num_item)]\n",
    "        for c in char_seq:\n",
    "            out_c = in_c + c\n",
    "            if len(text) > 0:\n",
    "                in_word = text[1:]\n",
    "                word_sequences(in_word, out_c)\n",
    "    else:\n",
    "        seq.append(in_c)"
   ]
  },
  {
   "cell_type": "code",
   "execution_count": 3,
   "metadata": {},
   "outputs": [
    {
     "name": "stdout",
     "output_type": "stream",
     "text": [
      "1\n",
      "6837\n"
     ]
    }
   ],
   "source": [
    "texts = []\n",
    "num = input()\n",
    "for i in range(int(num)):\n",
    "    text = input()\n",
    "    texts.append(text.strip())"
   ]
  },
  {
   "cell_type": "code",
   "execution_count": null,
   "metadata": {
    "collapsed": true
   },
   "outputs": [],
   "source": []
  },
  {
   "cell_type": "code",
   "execution_count": null,
   "metadata": {
    "collapsed": true
   },
   "outputs": [],
   "source": []
  },
  {
   "cell_type": "code",
   "execution_count": null,
   "metadata": {
    "collapsed": true
   },
   "outputs": [],
   "source": []
  }
 ],
 "metadata": {
  "kernelspec": {
   "display_name": "Python 3",
   "language": "python",
   "name": "python3"
  },
  "language_info": {
   "codemirror_mode": {
    "name": "ipython",
    "version": 3
   },
   "file_extension": ".py",
   "mimetype": "text/x-python",
   "name": "python",
   "nbconvert_exporter": "python",
   "pygments_lexer": "ipython3",
   "version": "3.6.3"
  }
 },
 "nbformat": 4,
 "nbformat_minor": 2
}
