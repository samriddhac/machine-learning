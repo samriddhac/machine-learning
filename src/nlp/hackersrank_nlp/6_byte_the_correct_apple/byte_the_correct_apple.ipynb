{
 "cells": [
  {
   "cell_type": "code",
   "execution_count": 1,
   "metadata": {
    "collapsed": true
   },
   "outputs": [],
   "source": [
    "from nltk import word_tokenize, sent_tokenize\n",
    "from nltk.corpus import stopwords\n",
    "en_stop = set(stopwords.words('english'))\n",
    "\n",
    "def tokenize(text):\n",
    "    words = list(sorted(set([ w.lower() for sent in sent_tokenize(text)\n",
    "                for w in word_tokenize(sent) if w not in en_stop\n",
    "            ])))\n",
    "    return words\n",
    "    "
   ]
  },
  {
   "cell_type": "code",
   "execution_count": 2,
   "metadata": {
    "collapsed": true
   },
   "outputs": [],
   "source": [
    "documents = []\n",
    "input_docs = []\n",
    "\n",
    "with open('apple-computers.txt', 'r', encoding='utf-8') as f:\n",
    "    text = f.read()\n",
    "    documents.append(text)\n",
    "    \n",
    "with open('apple-fruit.txt', 'r', encoding='utf-8') as f:\n",
    "    text = f.read()\n",
    "    documents.append(text)\n",
    "    "
   ]
  },
  {
   "cell_type": "code",
   "execution_count": 3,
   "metadata": {},
   "outputs": [
    {
     "name": "stdout",
     "output_type": "stream",
     "text": [
      "No of test cases :1\n",
      "Apple is a great fruit\n",
      "\n"
     ]
    }
   ],
   "source": [
    "num = int(input('No of test cases :'))\n",
    "for i in range(num):\n",
    "    text = input()\n",
    "    input_docs.append(text)\n",
    "print()"
   ]
  },
  {
   "cell_type": "code",
   "execution_count": 4,
   "metadata": {
    "collapsed": true
   },
   "outputs": [],
   "source": [
    "all_docs = documents + input_docs"
   ]
  },
  {
   "cell_type": "code",
   "execution_count": 5,
   "metadata": {
    "collapsed": true
   },
   "outputs": [],
   "source": [
    "from sklearn.feature_extraction.text import TfidfVectorizer\n",
    "\n",
    "vectorizer = TfidfVectorizer()\n",
    "tf_idf = vectorizer.fit_transform(all_docs)"
   ]
  },
  {
   "cell_type": "code",
   "execution_count": 9,
   "metadata": {},
   "outputs": [
    {
     "name": "stdout",
     "output_type": "stream",
     "text": [
      "tf-idf matrix shape  (3, 3999)\n",
      "0th document tf-idf values(with respect to features)    (0, 603)\t0.433707859509\n",
      "  (0, 2109)\t0.433707859509\n",
      "  (0, 1739)\t0.558477835371\n",
      "  (0, 1829)\t0.558477835371\n"
     ]
    }
   ],
   "source": [
    "feature_names = vectorizer.get_feature_names()\n",
    "#print('tf-idf matrix features ', feature_names)\n",
    "print('tf-idf matrix shape ', tf_idf.shape)\n",
    "print('0th document tf-idf values(with respect to features) ', tf_idf[2:3])"
   ]
  },
  {
   "cell_type": "code",
   "execution_count": 26,
   "metadata": {
    "collapsed": true
   },
   "outputs": [],
   "source": [
    "from sklearn.metrics.pairwise import linear_kernel"
   ]
  },
  {
   "cell_type": "code",
   "execution_count": 32,
   "metadata": {},
   "outputs": [
    {
     "name": "stdout",
     "output_type": "stream",
     "text": [
      "computer-company\n",
      "fruit\n",
      "computer-company\n"
     ]
    }
   ],
   "source": [
    "for i in range(num):\n",
    "    apple_inc_tf_idf = tf_idf[0:1]\n",
    "    apple_fruit_tf_idf = tf_idf[1:2]\n",
    "    \n",
    "    input_tf_idf = tf_idf[i+2:i+3]\n",
    "    cos_similarity_inc = linear_kernel(input_tf_idf,apple_inc_tf_idf)\n",
    "    cos_similarity_fruit = linear_kernel(input_tf_idf,apple_fruit_tf_idf)\n",
    "    \n",
    "    #print('Cosine similarity with Apple Inc = ',cos_similarity_inc)\n",
    "    #print('Cosine similarity with Apple fruit = ',cos_similarity_fruit)\n",
    "    if cos_similarity_inc>cos_similarity_fruit :\n",
    "        print('computer-company')\n",
    "    else:\n",
    "        print('fruit')"
   ]
  },
  {
   "cell_type": "code",
   "execution_count": null,
   "metadata": {
    "collapsed": true
   },
   "outputs": [],
   "source": []
  }
 ],
 "metadata": {
  "kernelspec": {
   "display_name": "Python 3",
   "language": "python",
   "name": "python3"
  },
  "language_info": {
   "codemirror_mode": {
    "name": "ipython",
    "version": 3
   },
   "file_extension": ".py",
   "mimetype": "text/x-python",
   "name": "python",
   "nbconvert_exporter": "python",
   "pygments_lexer": "ipython3",
   "version": "3.6.3"
  }
 },
 "nbformat": 4,
 "nbformat_minor": 2
}
