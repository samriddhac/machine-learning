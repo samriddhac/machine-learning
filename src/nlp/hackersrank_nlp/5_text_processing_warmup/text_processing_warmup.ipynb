{
 "cells": [
  {
   "cell_type": "code",
   "execution_count": 104,
   "metadata": {},
   "outputs": [
    {
     "name": "stdout",
     "output_type": "stream",
     "text": [
      "5\n",
      "Delhi, is a metropolitan and the capital region of India which includes the national capital city, New Delhi. It is the second most populous metropolis in India after Mumbai and the largest city in terms of area.\n",
      "Mumbai, also known as Bombay, is the capital city of the Indian state of Maharashtra. It is the most populous city in India, and the fourth most populous city in the world, with a total metropolitan area population of approximately 20.5 million.\n",
      "New York is a state in the Northeastern region of the United States. New York is the 27th-most extensive, the 3rd-most populous, and the 7th-most densely populated of the 50 United States.\n",
      "The Indian Rebellion of 1857 began as a mutiny of sepoys of the East India Company's army on 10 May 1857, in the town of Meerut, and soon escalated into other mutinies and civilian rebellions largely in the upper Gangetic plain and central India, with the major hostilities confined to present-day Uttar Pradesh, Bihar, northern Madhya Pradesh, and the Delhi region.\n",
      "The Boston Tea Party (referred to in its time simply as \"the destruction of the tea\" or by other informal names and so named until half a century later,[2]) was a political protest by the Sons of Liberty in Boston, a city in the British colony of Massachusetts, against the tax policy of the British government and the East India Company that controlled all the tea imported into the colonies. On December 16, 1773, after officials in Boston refused to return three shiploads of taxed tea to Britain, a group of colonists boarded the ships and destroyed the tea by throwing it into Boston Harbor. The incident remains an iconic event of American history, and other political protests often refer to it.\n",
      "['Delhi, is a metropolitan and the capital region of India which includes the national capital city, New Delhi. It is the second most populous metropolis in India after Mumbai and the largest city in terms of area.', 'Mumbai, also known as Bombay, is the capital city of the Indian state of Maharashtra. It is the most populous city in India, and the fourth most populous city in the world, with a total metropolitan area population of approximately 20.5 million.', 'New York is a state in the Northeastern region of the United States. New York is the 27th-most extensive, the 3rd-most populous, and the 7th-most densely populated of the 50 United States.', \"The Indian Rebellion of 1857 began as a mutiny of sepoys of the East India Company's army on 10 May 1857, in the town of Meerut, and soon escalated into other mutinies and civilian rebellions largely in the upper Gangetic plain and central India, with the major hostilities confined to present-day Uttar Pradesh, Bihar, northern Madhya Pradesh, and the Delhi region.\", 'The Boston Tea Party (referred to in its time simply as \"the destruction of the tea\" or by other informal names and so named until half a century later,[2]) was a political protest by the Sons of Liberty in Boston, a city in the British colony of Massachusetts, against the tax policy of the British government and the East India Company that controlled all the tea imported into the colonies. On December 16, 1773, after officials in Boston refused to return three shiploads of taxed tea to Britain, a group of colonists boarded the ships and destroyed the tea by throwing it into Boston Harbor. The incident remains an iconic event of American history, and other political protests often refer to it.']\n"
     ]
    }
   ],
   "source": [
    "num = int(input())\n",
    "paras = []\n",
    "for i in range(num):\n",
    "    text = input()\n",
    "    paras.append(text.strip())\n",
    "print(paras)"
   ]
  },
  {
   "cell_type": "code",
   "execution_count": 105,
   "metadata": {
    "collapsed": true
   },
   "outputs": [],
   "source": [
    "def word_tokenize(texts):\n",
    "    words = []\n",
    "    sentence_punct_splitter = ['.', '?']\n",
    "    sents = texts.split('\\n')\n",
    "    for char in sentence_punct_splitter:\n",
    "        s_array = []\n",
    "        for s in sents:\n",
    "            s_split = s.split(char)\n",
    "            s_array = s_array + [s_item.strip().lower() for s_item in s_split]\n",
    "        sents = s_array\n",
    "    for sentence in sents:\n",
    "        w = sentence.split()\n",
    "        words = words + w\n",
    "    return words"
   ]
  },
  {
   "cell_type": "code",
   "execution_count": 167,
   "metadata": {},
   "outputs": [
    {
     "name": "stdout",
     "output_type": "stream",
     "text": [
      "[]\n",
      "[]\n",
      "[]\n",
      "[]\n",
      "[]\n",
      "[]\n",
      "[]\n",
      "1\n",
      "0\n",
      "4\n",
      "0\n",
      "[]\n",
      "[]\n",
      "[]\n",
      "[]\n",
      "[]\n",
      "[]\n",
      "[]\n",
      "1\n",
      "0\n",
      "5\n",
      "0\n",
      "[]\n",
      "[]\n",
      "[]\n",
      "[]\n",
      "[]\n",
      "[]\n",
      "[]\n",
      "1\n",
      "0\n",
      "6\n",
      "0\n",
      "[]\n",
      "[]\n",
      "[]\n",
      "[('', 'may', '', '', '', '', '', '', '', '', '', '', '')]\n",
      "[]\n",
      "[]\n",
      "[]\n",
      "1\n",
      "0\n",
      "6\n",
      "1\n",
      "[]\n",
      "[]\n",
      "[]\n",
      "[]\n",
      "[]\n",
      "[]\n",
      "[]\n",
      "4\n",
      "1\n",
      "12\n",
      "0\n"
     ]
    }
   ],
   "source": [
    "import re\n",
    "regexps = ['\\d{1,2}/\\d{1,2}\\/\\d{1,4}', \n",
    "           '\\d{1,2}-\\d{1,2}-\\d{1,4}',\n",
    "           '[0-3]?[0-9][ /,\\-]{1,2}[01]?[0-9][ /,\\-]{1,2}\\d{2,4}'\n",
    "           '[0-3]?[0-9](st|nd|rd)?[ /,\\-]{1,2}[01]?[0-9][ /,\\-]{1,2}\\d{2,4}',\n",
    "           '[0-3]?[0-9](st|nd|rd)?[ /,\\-]{1,2}(jan(uary)?|feb(ruary)?|mar(ch)?|apr(il)?|may|jun(e)?|jul(y)?|aug(ust)?|sep(tember)?|oct(ober)?|nov(ember)?|dec(ember)?)[ /,\\-]{1,2}\\d{2,4}',\n",
    "           '[01]?[0-9][ /,\\-]{1,2}[0-3]?[0-9][ /,\\-]{1,2}\\d{2,4}',\n",
    "           '[01]?[0-9][ /,\\-]{1,2}[0-3]?[0-9](st|nd|rd)?[ /,\\-]{1,2}\\d{2,4}',\n",
    "           '(Jan(uary)?|Feb(ruary)?|Mar(ch)?|Apr(il)?|May|Jun(e)?|Jul(y)?|Aug(ust)?|Sep(tember)?|Oct(ober)?|Nov(ember)?|Dec(ember)?)[ /,\\-]{1,2}[0-3]?[0-9](st|nd|rd)?[ /,\\-]{1,2}\\d{2,4}'\n",
    "          ]\n",
    "for text in paras:\n",
    "    words = word_tokenize(text.lower())\n",
    "    a_count = words.count('a')\n",
    "    an_count = words.count('an')\n",
    "    the_count = words.count('the')\n",
    "    date_count = 0\n",
    "    for reg in regexps:\n",
    "        mat = re.findall(reg, text.lower())\n",
    "        if mat is not None:\n",
    "            print(mat)\n",
    "            date_count+= len(mat)\n",
    "    \n",
    "    print(a_count)\n",
    "    print(an_count)\n",
    "    print(the_count)\n",
    "    print(date_count)\n",
    "    \n",
    "    "
   ]
  },
  {
   "cell_type": "code",
   "execution_count": 138,
   "metadata": {},
   "outputs": [
    {
     "name": "stdout",
     "output_type": "stream",
     "text": [
      "[]\n",
      "0\n",
      "[]\n",
      "0\n",
      "[]\n",
      "0\n",
      "[('', '', '', '', '', '9', '', '99')]\n",
      "1\n"
     ]
    }
   ],
   "source": [
    "s ='hello 04/02/56  04/02/55 04-02-78 15/11/20 12 March 1999 20th of March, 1999'\n",
    "s1 = 'i was born in march 12, 1999'\n",
    "regexps = ['^\\d{1,2}/\\d{1,2}\\/\\d{1,4}', \n",
    "           '^\\d{1,2}-\\d{1,2}-\\d{1,4}',\n",
    "           '^(\\d{1,2})(th|st)*[.*](jan|feb|mar|apr|may|jun|jul|aug|sep|oct|nov|dec*)[.*](\\d{2,4})$',\n",
    "           '^((jan(uary))|feb|(mar(ch))|apr|may|jun|jul|aug|sep|oct|nov|dec*)*.*(\\d{1,2})(th|st)*.*(\\d{2,4})$'\n",
    "          ]\n",
    "for reg in regexps:\n",
    "    m = re.findall(reg, s1)\n",
    "    print(m)\n",
    "    if m is not None:\n",
    "        print(len(m))"
   ]
  },
  {
   "cell_type": "code",
   "execution_count": null,
   "metadata": {
    "collapsed": true
   },
   "outputs": [],
   "source": [
    "((jan(uary)?)|(feb(ruary)?)|(mar(ch)?)|(apr(il)?)|(may)|(june?)|(july?)|(aug(ust)?)|(sep(t(ember)?)?)|(oct(ober)?)|(nov(ember)?)|(dec(ember)?))"
   ]
  },
  {
   "cell_type": "code",
   "execution_count": null,
   "metadata": {
    "collapsed": true
   },
   "outputs": [],
   "source": []
  }
 ],
 "metadata": {
  "kernelspec": {
   "display_name": "Python 3",
   "language": "python",
   "name": "python3"
  },
  "language_info": {
   "codemirror_mode": {
    "name": "ipython",
    "version": 3
   },
   "file_extension": ".py",
   "mimetype": "text/x-python",
   "name": "python",
   "nbconvert_exporter": "python",
   "pygments_lexer": "ipython3",
   "version": "3.6.3"
  }
 },
 "nbformat": 4,
 "nbformat_minor": 2
}
