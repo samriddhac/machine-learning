{
 "cells": [
  {
   "cell_type": "code",
   "execution_count": 1,
   "metadata": {},
   "outputs": [
    {
     "name": "stdout",
     "output_type": "stream",
     "text": [
      "Please enter the document..Delhi (also known as the National Capital Territory of India) is a metropolitan region in India that includes the national capital city, New Delhi. With a population of 22 million in 2011, it is the world's second most populous city and the largest city in India in terms of area. The NCT and its urban region have been given the special status of National Capital Region (NCR) under the Constitution of India's 69th amendment act of 1991. The NCR includes the neighbouring cities of Baghpat, Gurgaon, Sonepat, Faridabad, Ghaziabad, Noida, Greater Noida and other nearby towns, and has nearly 22.2 million residents.\n",
      "Please enter the document..Seattle is a coastal seaport city and the seat of King County, in the U.S. state of Washington. With an estimated 634,535 residents as of 2012, Seattle is the largest city in the Pacific Northwest region of North America and one of the fastest-growing cities in the United States. The Seattle metropolitan area of around 4 million inhabitants is the 15th largest metropolitan area in the nation.[6] The city is situated on a narrow isthmus between Puget Sound (an inlet of the Pacific Ocean) and Lake Washington, about 100 miles (160 km) south of the Canada–United States border. A major gateway for trade with Asia, Seattle is the 8th largest port in the United States and 9th largest in North America in terms of container handling.\n",
      "Please enter the document..Martin Luther OSA (10 November 1483 – 18 February 1546) was a German monk, Catholic priest, professor of theology and seminal figure of a reform movement in 16th century Christianity, subsequently known as the Protestant Reformation.[1] He strongly disputed the claim that freedom from God's punishment for sin could be purchased with money. He confronted indulgence salesman Johann Tetzel, a Dominican friar, with his Ninety-Five Theses in 1517. His refusal to retract all of his writings at the demand of Pope Leo X in 1520 and the Holy Roman Emperor Charles V at the Diet of Worms in 1521 resulted in his excommunication by the Pope and condemnation as an outlaw by the Emperor.\n",
      "Please enter the document..The Seattle area had been inhabited by Native Americans for at least 4,000 years before the first permanent European settlers. Arthur A. Denny and his group of travelers, subsequently known as the Denny Party, arrived at Alki Point on November 13, 1851. The settlement was moved to its current site and named \"Seattle\" in 1853, after Chief Si'ahl of the local Duwamish and Suquamish tribes.\n",
      "Please enter the document..Although technically a federally administered union territory, the political administration of the NCT of Delhi today more closely resembles that of a state of India, with its own legislature, high court and an executive council of ministers headed by a Chief Minister. New Delhi is jointly administered by the federal government of India and the local government of Delhi, and is the capital of the NCT of Delhi.\n",
      "Please enter the document..Luther taught that salvation and subsequently eternity in heaven is not earned by good deeds but is received only as a free gift of God's grace through faith in Jesus Christ as redeemer from sin and subsequently eternity in hell. His theology challenged the authority of the Pope of the Roman Catholic Church by teaching that the Bible is the only source of divinely revealed knowledge from God and opposed sacerdotalism by considering all baptized Christians to be a holy priesthood. Those who identify with these, and all of Luther's wider teachings, are called Lutherans.\n",
      "Please enter the document..END\n"
     ]
    }
   ],
   "source": [
    "documents = []\n",
    "while(True):\n",
    "    doc = input('Please enter the document..')\n",
    "    if doc == 'END':\n",
    "        break\n",
    "    else:\n",
    "        documents.append(doc)"
   ]
  },
  {
   "cell_type": "code",
   "execution_count": 9,
   "metadata": {},
   "outputs": [
    {
     "data": {
      "text/plain": [
       "[\"Delhi (also known as the National Capital Territory of India) is a metropolitan region in India that includes the national capital city, New Delhi. With a population of 22 million in 2011, it is the world's second most populous city and the largest city in India in terms of area. The NCT and its urban region have been given the special status of National Capital Region (NCR) under the Constitution of India's 69th amendment act of 1991. The NCR includes the neighbouring cities of Baghpat, Gurgaon, Sonepat, Faridabad, Ghaziabad, Noida, Greater Noida and other nearby towns, and has nearly 22.2 million residents.\",\n",
       " 'Seattle is a coastal seaport city and the seat of King County, in the U.S. state of Washington. With an estimated 634,535 residents as of 2012, Seattle is the largest city in the Pacific Northwest region of North America and one of the fastest-growing cities in the United States. The Seattle metropolitan area of around 4 million inhabitants is the 15th largest metropolitan area in the nation.[6] The city is situated on a narrow isthmus between Puget Sound (an inlet of the Pacific Ocean) and Lake Washington, about 100 miles (160 km) south of the Canada–United States border. A major gateway for trade with Asia, Seattle is the 8th largest port in the United States and 9th largest in North America in terms of container handling.',\n",
       " \"Martin Luther OSA (10 November 1483 – 18 February 1546) was a German monk, Catholic priest, professor of theology and seminal figure of a reform movement in 16th century Christianity, subsequently known as the Protestant Reformation.[1] He strongly disputed the claim that freedom from God's punishment for sin could be purchased with money. He confronted indulgence salesman Johann Tetzel, a Dominican friar, with his Ninety-Five Theses in 1517. His refusal to retract all of his writings at the demand of Pope Leo X in 1520 and the Holy Roman Emperor Charles V at the Diet of Worms in 1521 resulted in his excommunication by the Pope and condemnation as an outlaw by the Emperor.\",\n",
       " 'The Seattle area had been inhabited by Native Americans for at least 4,000 years before the first permanent European settlers. Arthur A. Denny and his group of travelers, subsequently known as the Denny Party, arrived at Alki Point on November 13, 1851. The settlement was moved to its current site and named \"Seattle\" in 1853, after Chief Si\\'ahl of the local Duwamish and Suquamish tribes.',\n",
       " 'Although technically a federally administered union territory, the political administration of the NCT of Delhi today more closely resembles that of a state of India, with its own legislature, high court and an executive council of ministers headed by a Chief Minister. New Delhi is jointly administered by the federal government of India and the local government of Delhi, and is the capital of the NCT of Delhi.',\n",
       " \"Luther taught that salvation and subsequently eternity in heaven is not earned by good deeds but is received only as a free gift of God's grace through faith in Jesus Christ as redeemer from sin and subsequently eternity in hell. His theology challenged the authority of the Pope of the Roman Catholic Church by teaching that the Bible is the only source of divinely revealed knowledge from God and opposed sacerdotalism by considering all baptized Christians to be a holy priesthood. Those who identify with these, and all of Luther's wider teachings, are called Lutherans.\"]"
      ]
     },
     "execution_count": 9,
     "metadata": {},
     "output_type": "execute_result"
    }
   ],
   "source": [
    "documents"
   ]
  },
  {
   "cell_type": "code",
   "execution_count": 84,
   "metadata": {},
   "outputs": [],
   "source": [
    "import string\n",
    "from nltk import sent_tokenize, word_tokenize\n",
    "from nltk.corpus import stopwords\n",
    "\n",
    "stop = set(stopwords.words('english'))\n",
    "vocab = set([word.strip().lower() \n",
    "         for doc in documents\n",
    "         for sent in sent_tokenize(doc)\n",
    "         for word in word_tokenize(sent) if word not in string.punctuation and word not in stop\n",
    "         ])"
   ]
  },
  {
   "cell_type": "code",
   "execution_count": 85,
   "metadata": {},
   "outputs": [
    {
     "name": "stdout",
     "output_type": "stream",
     "text": [
      "263\n",
      "[\"''\", \"'s\", '1', '10', '100', '13', '1483', '1517', '1520', '1521', '1546', '15th', '160', '16th', '18', '1851', '1853', '1991', '2011', '2012', '22', '22.2', '4', '4,000', '6', '634,535', '69th', '8th', '9th', '``', 'a', 'a.', 'act', 'administered', 'administration', 'alki', 'also', 'although', 'amendment', 'america', 'americans', 'area', 'around', 'arrived', 'arthur', 'asia', 'authority', 'baghpat', 'baptized', 'bible']\n"
     ]
    }
   ],
   "source": [
    "unique_vocab = len(vocab)\n",
    "print(unique_vocab)\n",
    "vocab = sorted(list(vocab))\n",
    "print(list(vocab)[:50])"
   ]
  },
  {
   "cell_type": "code",
   "execution_count": 86,
   "metadata": {},
   "outputs": [],
   "source": [
    "doc_idx_dict = {idx:doc for idx,doc in enumerate(documents)}\n",
    "#print(doc_idx_dict)"
   ]
  },
  {
   "cell_type": "code",
   "execution_count": 87,
   "metadata": {},
   "outputs": [],
   "source": [
    "doc_idx_term_count = {}\n",
    "doc_idx_term = {}\n",
    "for idx,doc in doc_idx_dict.items():\n",
    "    words = []\n",
    "    for sent in sent_tokenize(doc):\n",
    "        for word in word_tokenize(sent):\n",
    "            if word not in string.punctuation and word not in stop:\n",
    "                words.append(word.lower())\n",
    "    doc_idx_term[idx] = words\n",
    "    doc_idx_term_count[idx] = len(words)\n",
    "#print(doc_idx_term_count)\n",
    "#print(doc_idx_term)"
   ]
  },
  {
   "cell_type": "code",
   "execution_count": 88,
   "metadata": {},
   "outputs": [],
   "source": [
    "doc_term_frequency_dict = {}\n",
    "for i in range(0,len(documents)):\n",
    "    term_freq_dict = {}\n",
    "    for term in vocab:\n",
    "        count = doc_idx_term.get(i).count(term)\n",
    "        term_freq_dict[term] = count\n",
    "    doc_term_frequency_dict[i] = term_freq_dict\n",
    "#print(doc_term_frequency_dict)"
   ]
  },
  {
   "cell_type": "code",
   "execution_count": 89,
   "metadata": {
    "collapsed": true
   },
   "outputs": [],
   "source": [
    "import numpy as np\n",
    "def cosine_similarity(doc_1, doc_2):\n",
    "    vec_1 = list(doc_1.values())\n",
    "    vec_2 = list(doc_2.values())\n",
    "    dot_v1_v2 = np.dot(vec_1,vec_2)\n",
    "    mag_vec_1 = np.linalg.norm(vec_1)\n",
    "    mag_vec_2 = np.linalg.norm(vec_2)\n",
    "    dot_mv1_mv2 = mag_vec_1*mag_vec_2\n",
    "    cos_theta = dot_v1_v2/dot_mv1_mv2\n",
    "    return cos_theta\n",
    "    "
   ]
  },
  {
   "cell_type": "code",
   "execution_count": 90,
   "metadata": {},
   "outputs": [
    {
     "name": "stdout",
     "output_type": "stream",
     "text": [
      "Cosine similarity :::  {(0, 1): 0.2403772074240785, (0, 2): 0.030877011359723181, (0, 3): 0.078113346588494323, (0, 4): 0.28044609975479717, (0, 5): 0.04639260004261473, (1, 2): 0.0, (1, 3): 0.17232808737106581, (1, 4): 0.01152857439776791, (1, 5): 0.0, (2, 3): 0.047434164902525687, (2, 4): 0.0, (2, 5): 0.2253744679276044, (3, 4): 0.037463432463267755, (3, 5): 0.035634832254989916, (4, 5): 0.0}\n"
     ]
    }
   ],
   "source": [
    "doc_len = len(documents)\n",
    "cos_similarity_dict = {}\n",
    "for i in range(0, doc_len-1):\n",
    "    for j in range(i+1, doc_len):\n",
    "        doc_tuple = (i,j)\n",
    "        doc_1 = doc_term_frequency_dict[i]\n",
    "        doc_2 = doc_term_frequency_dict[j]\n",
    "        cos_similarity = cosine_similarity(doc_1,doc_2)\n",
    "        cos_similarity_dict[doc_tuple] = cos_similarity\n",
    "\n",
    "print('Cosine similarity ::: ', cos_similarity_dict)"
   ]
  },
  {
   "cell_type": "code",
   "execution_count": 94,
   "metadata": {},
   "outputs": [
    {
     "name": "stdout",
     "output_type": "stream",
     "text": [
      "[((0, 4), 0.28044609975479717), ((0, 1), 0.2403772074240785), ((2, 5), 0.2253744679276044), ((1, 3), 0.17232808737106581), ((0, 3), 0.078113346588494323), ((2, 3), 0.047434164902525687), ((0, 5), 0.04639260004261473), ((3, 4), 0.037463432463267755), ((3, 5), 0.035634832254989916), ((0, 2), 0.030877011359723181), ((1, 4), 0.01152857439776791), ((1, 2), 0.0), ((1, 5), 0.0), ((2, 4), 0.0), ((4, 5), 0.0)]\n"
     ]
    }
   ],
   "source": [
    "import operator\n",
    "cos_similarity_dict_sorted = sorted(cos_similarity_dict.items(), key=operator.itemgetter(1), reverse=True)\n",
    "print(cos_similarity_dict_sorted)"
   ]
  },
  {
   "cell_type": "code",
   "execution_count": 92,
   "metadata": {},
   "outputs": [
    {
     "data": {
      "text/plain": [
       "[\"Delhi (also known as the National Capital Territory of India) is a metropolitan region in India that includes the national capital city, New Delhi. With a population of 22 million in 2011, it is the world's second most populous city and the largest city in India in terms of area. The NCT and its urban region have been given the special status of National Capital Region (NCR) under the Constitution of India's 69th amendment act of 1991. The NCR includes the neighbouring cities of Baghpat, Gurgaon, Sonepat, Faridabad, Ghaziabad, Noida, Greater Noida and other nearby towns, and has nearly 22.2 million residents.\",\n",
       " 'Seattle is a coastal seaport city and the seat of King County, in the U.S. state of Washington. With an estimated 634,535 residents as of 2012, Seattle is the largest city in the Pacific Northwest region of North America and one of the fastest-growing cities in the United States. The Seattle metropolitan area of around 4 million inhabitants is the 15th largest metropolitan area in the nation.[6] The city is situated on a narrow isthmus between Puget Sound (an inlet of the Pacific Ocean) and Lake Washington, about 100 miles (160 km) south of the Canada–United States border. A major gateway for trade with Asia, Seattle is the 8th largest port in the United States and 9th largest in North America in terms of container handling.',\n",
       " \"Martin Luther OSA (10 November 1483 – 18 February 1546) was a German monk, Catholic priest, professor of theology and seminal figure of a reform movement in 16th century Christianity, subsequently known as the Protestant Reformation.[1] He strongly disputed the claim that freedom from God's punishment for sin could be purchased with money. He confronted indulgence salesman Johann Tetzel, a Dominican friar, with his Ninety-Five Theses in 1517. His refusal to retract all of his writings at the demand of Pope Leo X in 1520 and the Holy Roman Emperor Charles V at the Diet of Worms in 1521 resulted in his excommunication by the Pope and condemnation as an outlaw by the Emperor.\",\n",
       " 'The Seattle area had been inhabited by Native Americans for at least 4,000 years before the first permanent European settlers. Arthur A. Denny and his group of travelers, subsequently known as the Denny Party, arrived at Alki Point on November 13, 1851. The settlement was moved to its current site and named \"Seattle\" in 1853, after Chief Si\\'ahl of the local Duwamish and Suquamish tribes.',\n",
       " 'Although technically a federally administered union territory, the political administration of the NCT of Delhi today more closely resembles that of a state of India, with its own legislature, high court and an executive council of ministers headed by a Chief Minister. New Delhi is jointly administered by the federal government of India and the local government of Delhi, and is the capital of the NCT of Delhi.',\n",
       " \"Luther taught that salvation and subsequently eternity in heaven is not earned by good deeds but is received only as a free gift of God's grace through faith in Jesus Christ as redeemer from sin and subsequently eternity in hell. His theology challenged the authority of the Pope of the Roman Catholic Church by teaching that the Bible is the only source of divinely revealed knowledge from God and opposed sacerdotalism by considering all baptized Christians to be a holy priesthood. Those who identify with these, and all of Luther's wider teachings, are called Lutherans.\"]"
      ]
     },
     "execution_count": 92,
     "metadata": {},
     "output_type": "execute_result"
    }
   ],
   "source": [
    "documents"
   ]
  },
  {
   "cell_type": "code",
   "execution_count": 93,
   "metadata": {},
   "outputs": [
    {
     "data": {
      "text/plain": [
       "'TF-IDF approach'"
      ]
     },
     "execution_count": 93,
     "metadata": {},
     "output_type": "execute_result"
    }
   ],
   "source": [
    "\"\"\"TF-IDF approach\"\"\""
   ]
  },
  {
   "cell_type": "code",
   "execution_count": null,
   "metadata": {
    "collapsed": true
   },
   "outputs": [],
   "source": []
  }
 ],
 "metadata": {
  "kernelspec": {
   "display_name": "Python 3",
   "language": "python",
   "name": "python3"
  },
  "language_info": {
   "codemirror_mode": {
    "name": "ipython",
    "version": 3
   },
   "file_extension": ".py",
   "mimetype": "text/x-python",
   "name": "python",
   "nbconvert_exporter": "python",
   "pygments_lexer": "ipython3",
   "version": "3.6.3"
  }
 },
 "nbformat": 4,
 "nbformat_minor": 2
}
