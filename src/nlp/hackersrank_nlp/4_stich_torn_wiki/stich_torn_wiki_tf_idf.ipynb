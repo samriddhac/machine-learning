{
 "cells": [
  {
   "cell_type": "code",
   "execution_count": 1,
   "metadata": {},
   "outputs": [
    {
     "name": "stdout",
     "output_type": "stream",
     "text": [
      "Please enter the document..Delhi (also known as the National Capital Territory of India) is a metropolitan region in India that includes the national capital city, New Delhi. With a population of 22 million in 2011, it is the world's second most populous city and the largest city in India in terms of area. The NCT and its urban region have been given the special status of National Capital Region (NCR) under the Constitution of India's 69th amendment act of 1991. The NCR includes the neighbouring cities of Baghpat, Gurgaon, Sonepat, Faridabad, Ghaziabad, Noida, Greater Noida and other nearby towns, and has nearly 22.2 million residents.\n",
      "Please enter the document..Seattle is a coastal seaport city and the seat of King County, in the U.S. state of Washington. With an estimated 634,535 residents as of 2012, Seattle is the largest city in the Pacific Northwest region of North America and one of the fastest-growing cities in the United States. The Seattle metropolitan area of around 4 million inhabitants is the 15th largest metropolitan area in the nation.[6] The city is situated on a narrow isthmus between Puget Sound (an inlet of the Pacific Ocean) and Lake Washington, about 100 miles (160 km) south of the Canada–United States border. A major gateway for trade with Asia, Seattle is the 8th largest port in the United States and 9th largest in North America in terms of container handling.\n",
      "Please enter the document..Martin Luther OSA (10 November 1483 – 18 February 1546) was a German monk, Catholic priest, professor of theology and seminal figure of a reform movement in 16th century Christianity, subsequently known as the Protestant Reformation.[1] He strongly disputed the claim that freedom from God's punishment for sin could be purchased with money. He confronted indulgence salesman Johann Tetzel, a Dominican friar, with his Ninety-Five Theses in 1517. His refusal to retract all of his writings at the demand of Pope Leo X in 1520 and the Holy Roman Emperor Charles V at the Diet of Worms in 1521 resulted in his excommunication by the Pope and condemnation as an outlaw by the Emperor.\n",
      "Please enter the document..The Seattle area had been inhabited by Native Americans for at least 4,000 years before the first permanent European settlers. Arthur A. Denny and his group of travelers, subsequently known as the Denny Party, arrived at Alki Point on November 13, 1851. The settlement was moved to its current site and named \"Seattle\" in 1853, after Chief Si'ahl of the local Duwamish and Suquamish tribes.\n",
      "Please enter the document..Although technically a federally administered union territory, the political administration of the NCT of Delhi today more closely resembles that of a state of India, with its own legislature, high court and an executive council of ministers headed by a Chief Minister. New Delhi is jointly administered by the federal government of India and the local government of Delhi, and is the capital of the NCT of Delhi.\n",
      "Please enter the document..Luther taught that salvation and subsequently eternity in heaven is not earned by good deeds but is received only as a free gift of God's grace through faith in Jesus Christ as redeemer from sin and subsequently eternity in hell. His theology challenged the authority of the Pope of the Roman Catholic Church by teaching that the Bible is the only source of divinely revealed knowledge from God and opposed sacerdotalism by considering all baptized Christians to be a holy priesthood. Those who identify with these, and all of Luther's wider teachings, are called Lutherans.\n",
      "Please enter the document..END\n"
     ]
    }
   ],
   "source": [
    "documents = []\n",
    "while(True):\n",
    "    doc = input('Please enter the document..')\n",
    "    if doc == 'END':\n",
    "        break\n",
    "    else:\n",
    "        documents.append(doc)"
   ]
  },
  {
   "cell_type": "code",
   "execution_count": 9,
   "metadata": {},
   "outputs": [
    {
     "data": {
      "text/plain": [
       "[\"Delhi (also known as the National Capital Territory of India) is a metropolitan region in India that includes the national capital city, New Delhi. With a population of 22 million in 2011, it is the world's second most populous city and the largest city in India in terms of area. The NCT and its urban region have been given the special status of National Capital Region (NCR) under the Constitution of India's 69th amendment act of 1991. The NCR includes the neighbouring cities of Baghpat, Gurgaon, Sonepat, Faridabad, Ghaziabad, Noida, Greater Noida and other nearby towns, and has nearly 22.2 million residents.\",\n",
       " 'Seattle is a coastal seaport city and the seat of King County, in the U.S. state of Washington. With an estimated 634,535 residents as of 2012, Seattle is the largest city in the Pacific Northwest region of North America and one of the fastest-growing cities in the United States. The Seattle metropolitan area of around 4 million inhabitants is the 15th largest metropolitan area in the nation.[6] The city is situated on a narrow isthmus between Puget Sound (an inlet of the Pacific Ocean) and Lake Washington, about 100 miles (160 km) south of the Canada–United States border. A major gateway for trade with Asia, Seattle is the 8th largest port in the United States and 9th largest in North America in terms of container handling.',\n",
       " \"Martin Luther OSA (10 November 1483 – 18 February 1546) was a German monk, Catholic priest, professor of theology and seminal figure of a reform movement in 16th century Christianity, subsequently known as the Protestant Reformation.[1] He strongly disputed the claim that freedom from God's punishment for sin could be purchased with money. He confronted indulgence salesman Johann Tetzel, a Dominican friar, with his Ninety-Five Theses in 1517. His refusal to retract all of his writings at the demand of Pope Leo X in 1520 and the Holy Roman Emperor Charles V at the Diet of Worms in 1521 resulted in his excommunication by the Pope and condemnation as an outlaw by the Emperor.\",\n",
       " 'The Seattle area had been inhabited by Native Americans for at least 4,000 years before the first permanent European settlers. Arthur A. Denny and his group of travelers, subsequently known as the Denny Party, arrived at Alki Point on November 13, 1851. The settlement was moved to its current site and named \"Seattle\" in 1853, after Chief Si\\'ahl of the local Duwamish and Suquamish tribes.',\n",
       " 'Although technically a federally administered union territory, the political administration of the NCT of Delhi today more closely resembles that of a state of India, with its own legislature, high court and an executive council of ministers headed by a Chief Minister. New Delhi is jointly administered by the federal government of India and the local government of Delhi, and is the capital of the NCT of Delhi.',\n",
       " \"Luther taught that salvation and subsequently eternity in heaven is not earned by good deeds but is received only as a free gift of God's grace through faith in Jesus Christ as redeemer from sin and subsequently eternity in hell. His theology challenged the authority of the Pope of the Roman Catholic Church by teaching that the Bible is the only source of divinely revealed knowledge from God and opposed sacerdotalism by considering all baptized Christians to be a holy priesthood. Those who identify with these, and all of Luther's wider teachings, are called Lutherans.\"]"
      ]
     },
     "execution_count": 9,
     "metadata": {},
     "output_type": "execute_result"
    }
   ],
   "source": [
    "documents"
   ]
  },
  {
   "cell_type": "code",
   "execution_count": 34,
   "metadata": {},
   "outputs": [],
   "source": [
    "import string\n",
    "from nltk import sent_tokenize, word_tokenize\n",
    "from nltk.corpus import stopwords\n",
    "\n",
    "stop = set(stopwords.words('english'))\n",
    "vocab = set([word.strip().lower() \n",
    "         for doc in documents\n",
    "         for sent in sent_tokenize(doc)\n",
    "         for word in word_tokenize(sent) if word not in string.punctuation and word not in stop\n",
    "         ])"
   ]
  },
  {
   "cell_type": "code",
   "execution_count": 51,
   "metadata": {},
   "outputs": [
    {
     "name": "stdout",
     "output_type": "stream",
     "text": [
      "263\n",
      "[\"''\", \"'s\", '1', '10', '100', '13', '1483', '1517', '1520', '1521', '1546', '15th', '160', '16th', '18', '1851', '1853', '1991', '2011', '2012', '22', '22.2', '4', '4,000', '6', '634,535', '69th', '8th', '9th', '``', 'a', 'a.', 'act', 'administered', 'administration', 'alki', 'also', 'although', 'amendment', 'america', 'americans', 'area', 'around', 'arrived', 'arthur', 'asia', 'authority', 'baghpat', 'baptized', 'bible']\n"
     ]
    }
   ],
   "source": [
    "unique_vocab = len(vocab)\n",
    "print(unique_vocab)\n",
    "vocab = sorted(list(vocab))\n",
    "print(list(vocab)[:50])"
   ]
  },
  {
   "cell_type": "code",
   "execution_count": 38,
   "metadata": {},
   "outputs": [
    {
     "name": "stdout",
     "output_type": "stream",
     "text": [
      "{0: \"Delhi (also known as the National Capital Territory of India) is a metropolitan region in India that includes the national capital city, New Delhi. With a population of 22 million in 2011, it is the world's second most populous city and the largest city in India in terms of area. The NCT and its urban region have been given the special status of National Capital Region (NCR) under the Constitution of India's 69th amendment act of 1991. The NCR includes the neighbouring cities of Baghpat, Gurgaon, Sonepat, Faridabad, Ghaziabad, Noida, Greater Noida and other nearby towns, and has nearly 22.2 million residents.\", 1: 'Seattle is a coastal seaport city and the seat of King County, in the U.S. state of Washington. With an estimated 634,535 residents as of 2012, Seattle is the largest city in the Pacific Northwest region of North America and one of the fastest-growing cities in the United States. The Seattle metropolitan area of around 4 million inhabitants is the 15th largest metropolitan area in the nation.[6] The city is situated on a narrow isthmus between Puget Sound (an inlet of the Pacific Ocean) and Lake Washington, about 100 miles (160 km) south of the Canada–United States border. A major gateway for trade with Asia, Seattle is the 8th largest port in the United States and 9th largest in North America in terms of container handling.', 2: \"Martin Luther OSA (10 November 1483 – 18 February 1546) was a German monk, Catholic priest, professor of theology and seminal figure of a reform movement in 16th century Christianity, subsequently known as the Protestant Reformation.[1] He strongly disputed the claim that freedom from God's punishment for sin could be purchased with money. He confronted indulgence salesman Johann Tetzel, a Dominican friar, with his Ninety-Five Theses in 1517. His refusal to retract all of his writings at the demand of Pope Leo X in 1520 and the Holy Roman Emperor Charles V at the Diet of Worms in 1521 resulted in his excommunication by the Pope and condemnation as an outlaw by the Emperor.\", 3: 'The Seattle area had been inhabited by Native Americans for at least 4,000 years before the first permanent European settlers. Arthur A. Denny and his group of travelers, subsequently known as the Denny Party, arrived at Alki Point on November 13, 1851. The settlement was moved to its current site and named \"Seattle\" in 1853, after Chief Si\\'ahl of the local Duwamish and Suquamish tribes.', 4: 'Although technically a federally administered union territory, the political administration of the NCT of Delhi today more closely resembles that of a state of India, with its own legislature, high court and an executive council of ministers headed by a Chief Minister. New Delhi is jointly administered by the federal government of India and the local government of Delhi, and is the capital of the NCT of Delhi.', 5: \"Luther taught that salvation and subsequently eternity in heaven is not earned by good deeds but is received only as a free gift of God's grace through faith in Jesus Christ as redeemer from sin and subsequently eternity in hell. His theology challenged the authority of the Pope of the Roman Catholic Church by teaching that the Bible is the only source of divinely revealed knowledge from God and opposed sacerdotalism by considering all baptized Christians to be a holy priesthood. Those who identify with these, and all of Luther's wider teachings, are called Lutherans.\"}\n"
     ]
    }
   ],
   "source": [
    "doc_idx_dict = {idx:doc for idx,doc in enumerate(documents)}\n",
    "print(doc_idx_dict)"
   ]
  },
  {
   "cell_type": "code",
   "execution_count": 54,
   "metadata": {},
   "outputs": [
    {
     "name": "stdout",
     "output_type": "stream",
     "text": [
      "{0: 68, 1: 80, 2: 74, 3: 44, 4: 37, 5: 53}\n",
      "{0: ['delhi', 'also', 'known', 'national', 'capital', 'territory', 'india', 'metropolitan', 'region', 'india', 'includes', 'national', 'capital', 'city', 'new', 'delhi', 'with', 'population', '22', 'million', '2011', 'world', \"'s\", 'second', 'populous', 'city', 'largest', 'city', 'india', 'terms', 'area', 'the', 'nct', 'urban', 'region', 'given', 'special', 'status', 'national', 'capital', 'region', 'ncr', 'constitution', 'india', \"'s\", '69th', 'amendment', 'act', '1991', 'the', 'ncr', 'includes', 'neighbouring', 'cities', 'baghpat', 'gurgaon', 'sonepat', 'faridabad', 'ghaziabad', 'noida', 'greater', 'noida', 'nearby', 'towns', 'nearly', '22.2', 'million', 'residents'], 1: ['seattle', 'coastal', 'seaport', 'city', 'seat', 'king', 'county', 'u.s.', 'state', 'washington', 'with', 'estimated', '634,535', 'residents', '2012', 'seattle', 'largest', 'city', 'pacific', 'northwest', 'region', 'north', 'america', 'one', 'fastest-growing', 'cities', 'united', 'states', 'the', 'seattle', 'metropolitan', 'area', 'around', '4', 'million', 'inhabitants', '15th', 'largest', 'metropolitan', 'area', 'nation', '6', 'the', 'city', 'situated', 'narrow', 'isthmus', 'puget', 'sound', 'inlet', 'pacific', 'ocean', 'lake', 'washington', '100', 'miles', '160', 'km', 'south', 'canada–united', 'states', 'border', 'a', 'major', 'gateway', 'trade', 'asia', 'seattle', '8th', 'largest', 'port', 'united', 'states', '9th', 'largest', 'north', 'america', 'terms', 'container', 'handling'], 2: ['martin', 'luther', 'osa', '10', 'november', '1483', '–', '18', 'february', '1546', 'german', 'monk', 'catholic', 'priest', 'professor', 'theology', 'seminal', 'figure', 'reform', 'movement', '16th', 'century', 'christianity', 'subsequently', 'known', 'protestant', 'reformation', '1', 'he', 'strongly', 'disputed', 'claim', 'freedom', 'god', \"'s\", 'punishment', 'sin', 'could', 'purchased', 'money', 'he', 'confronted', 'indulgence', 'salesman', 'johann', 'tetzel', 'dominican', 'friar', 'ninety-five', 'theses', '1517', 'his', 'refusal', 'retract', 'writings', 'demand', 'pope', 'leo', 'x', '1520', 'holy', 'roman', 'emperor', 'charles', 'v', 'diet', 'worms', '1521', 'resulted', 'excommunication', 'pope', 'condemnation', 'outlaw', 'emperor'], 3: ['the', 'seattle', 'area', 'inhabited', 'native', 'americans', 'least', '4,000', 'years', 'first', 'permanent', 'european', 'settlers', 'arthur', 'a.', 'denny', 'group', 'travelers', 'subsequently', 'known', 'denny', 'party', 'arrived', 'alki', 'point', 'november', '13', '1851', 'the', 'settlement', 'moved', 'current', 'site', 'named', '``', 'seattle', \"''\", '1853', 'chief', \"si'ahl\", 'local', 'duwamish', 'suquamish', 'tribes'], 4: ['although', 'technically', 'federally', 'administered', 'union', 'territory', 'political', 'administration', 'nct', 'delhi', 'today', 'closely', 'resembles', 'state', 'india', 'legislature', 'high', 'court', 'executive', 'council', 'ministers', 'headed', 'chief', 'minister', 'new', 'delhi', 'jointly', 'administered', 'federal', 'government', 'india', 'local', 'government', 'delhi', 'capital', 'nct', 'delhi'], 5: ['luther', 'taught', 'salvation', 'subsequently', 'eternity', 'heaven', 'earned', 'good', 'deeds', 'received', 'free', 'gift', 'god', \"'s\", 'grace', 'faith', 'jesus', 'christ', 'redeemer', 'sin', 'subsequently', 'eternity', 'hell', 'his', 'theology', 'challenged', 'authority', 'pope', 'roman', 'catholic', 'church', 'teaching', 'bible', 'source', 'divinely', 'revealed', 'knowledge', 'god', 'opposed', 'sacerdotalism', 'considering', 'baptized', 'christians', 'holy', 'priesthood', 'those', 'identify', 'luther', \"'s\", 'wider', 'teachings', 'called', 'lutherans']}\n"
     ]
    }
   ],
   "source": [
    "doc_idx_term_count = {}\n",
    "doc_idx_term = {}\n",
    "for idx,doc in doc_idx_dict.items():\n",
    "    words = []\n",
    "    for sent in sent_tokenize(doc):\n",
    "        for word in word_tokenize(sent):\n",
    "            if word not in string.punctuation and word not in stop:\n",
    "                words.append(word.lower())\n",
    "    doc_idx_term[idx] = words\n",
    "    doc_idx_term_count[idx] = len(words)\n",
    "print(doc_idx_term_count)\n",
    "print(doc_idx_term)"
   ]
  },
  {
   "cell_type": "code",
   "execution_count": 68,
   "metadata": {},
   "outputs": [
    {
     "name": "stdout",
     "output_type": "stream",
     "text": [
      "{0: {\"''\": 0, \"'s\": 2, '1': 0, '10': 0, '100': 0, '13': 0, '1483': 0, '1517': 0, '1520': 0, '1521': 0, '1546': 0, '15th': 0, '160': 0, '16th': 0, '18': 0, '1851': 0, '1853': 0, '1991': 1, '2011': 1, '2012': 0, '22': 1, '22.2': 1, '4': 0, '4,000': 0, '6': 0, '634,535': 0, '69th': 1, '8th': 0, '9th': 0, '``': 0, 'a': 0, 'a.': 0, 'act': 1, 'administered': 0, 'administration': 0, 'alki': 0, 'also': 1, 'although': 0, 'amendment': 1, 'america': 0, 'americans': 0, 'area': 1, 'around': 0, 'arrived': 0, 'arthur': 0, 'asia': 0, 'authority': 0, 'baghpat': 1, 'baptized': 0, 'bible': 0, 'border': 0, 'called': 0, 'canada–united': 0, 'capital': 3, 'catholic': 0, 'century': 0, 'challenged': 0, 'charles': 0, 'chief': 0, 'christ': 0, 'christianity': 0, 'christians': 0, 'church': 0, 'cities': 1, 'city': 3, 'claim': 0, 'closely': 0, 'coastal': 0, 'condemnation': 0, 'confronted': 0, 'considering': 0, 'constitution': 1, 'container': 0, 'could': 0, 'council': 0, 'county': 0, 'court': 0, 'current': 0, 'deeds': 0, 'delhi': 2, 'demand': 0, 'denny': 0, 'diet': 0, 'disputed': 0, 'divinely': 0, 'dominican': 0, 'duwamish': 0, 'earned': 0, 'emperor': 0, 'estimated': 0, 'eternity': 0, 'european': 0, 'excommunication': 0, 'executive': 0, 'faith': 0, 'faridabad': 1, 'fastest-growing': 0, 'february': 0, 'federal': 0, 'federally': 0, 'figure': 0, 'first': 0, 'free': 0, 'freedom': 0, 'friar': 0, 'gateway': 0, 'german': 0, 'ghaziabad': 1, 'gift': 0, 'given': 1, 'god': 0, 'good': 0, 'government': 0, 'grace': 0, 'greater': 1, 'group': 0, 'gurgaon': 1, 'handling': 0, 'he': 0, 'headed': 0, 'heaven': 0, 'hell': 0, 'high': 0, 'his': 0, 'holy': 0, 'identify': 0, 'includes': 2, 'india': 4, 'indulgence': 0, 'inhabitants': 0, 'inhabited': 0, 'inlet': 0, 'isthmus': 0, 'jesus': 0, 'johann': 0, 'jointly': 0, 'king': 0, 'km': 0, 'knowledge': 0, 'known': 1, 'lake': 0, 'largest': 1, 'least': 0, 'legislature': 0, 'leo': 0, 'local': 0, 'luther': 0, 'lutherans': 0, 'major': 0, 'martin': 0, 'metropolitan': 1, 'miles': 0, 'million': 2, 'minister': 0, 'ministers': 0, 'money': 0, 'monk': 0, 'moved': 0, 'movement': 0, 'named': 0, 'narrow': 0, 'nation': 0, 'national': 3, 'native': 0, 'ncr': 2, 'nct': 1, 'nearby': 1, 'nearly': 1, 'neighbouring': 1, 'new': 1, 'ninety-five': 0, 'noida': 2, 'north': 0, 'northwest': 0, 'november': 0, 'ocean': 0, 'one': 0, 'opposed': 0, 'osa': 0, 'outlaw': 0, 'pacific': 0, 'party': 0, 'permanent': 0, 'point': 0, 'political': 0, 'pope': 0, 'population': 1, 'populous': 1, 'port': 0, 'priest': 0, 'priesthood': 0, 'professor': 0, 'protestant': 0, 'puget': 0, 'punishment': 0, 'purchased': 0, 'received': 0, 'redeemer': 0, 'reform': 0, 'reformation': 0, 'refusal': 0, 'region': 3, 'resembles': 0, 'residents': 1, 'resulted': 0, 'retract': 0, 'revealed': 0, 'roman': 0, 'sacerdotalism': 0, 'salesman': 0, 'salvation': 0, 'seaport': 0, 'seat': 0, 'seattle': 0, 'second': 1, 'seminal': 0, 'settlement': 0, 'settlers': 0, \"si'ahl\": 0, 'sin': 0, 'site': 0, 'situated': 0, 'sonepat': 1, 'sound': 0, 'source': 0, 'south': 0, 'special': 1, 'state': 0, 'states': 0, 'status': 1, 'strongly': 0, 'subsequently': 0, 'suquamish': 0, 'taught': 0, 'teaching': 0, 'teachings': 0, 'technically': 0, 'terms': 1, 'territory': 1, 'tetzel': 0, 'the': 2, 'theology': 0, 'theses': 0, 'those': 0, 'today': 0, 'towns': 1, 'trade': 0, 'travelers': 0, 'tribes': 0, 'u.s.': 0, 'union': 0, 'united': 0, 'urban': 1, 'v': 0, 'washington': 0, 'wider': 0, 'with': 1, 'world': 1, 'worms': 0, 'writings': 0, 'x': 0, 'years': 0, '–': 0}, 1: {\"''\": 0, \"'s\": 0, '1': 0, '10': 0, '100': 1, '13': 0, '1483': 0, '1517': 0, '1520': 0, '1521': 0, '1546': 0, '15th': 1, '160': 1, '16th': 0, '18': 0, '1851': 0, '1853': 0, '1991': 0, '2011': 0, '2012': 1, '22': 0, '22.2': 0, '4': 1, '4,000': 0, '6': 1, '634,535': 1, '69th': 0, '8th': 1, '9th': 1, '``': 0, 'a': 1, 'a.': 0, 'act': 0, 'administered': 0, 'administration': 0, 'alki': 0, 'also': 0, 'although': 0, 'amendment': 0, 'america': 2, 'americans': 0, 'area': 2, 'around': 1, 'arrived': 0, 'arthur': 0, 'asia': 1, 'authority': 0, 'baghpat': 0, 'baptized': 0, 'bible': 0, 'border': 1, 'called': 0, 'canada–united': 1, 'capital': 0, 'catholic': 0, 'century': 0, 'challenged': 0, 'charles': 0, 'chief': 0, 'christ': 0, 'christianity': 0, 'christians': 0, 'church': 0, 'cities': 1, 'city': 3, 'claim': 0, 'closely': 0, 'coastal': 1, 'condemnation': 0, 'confronted': 0, 'considering': 0, 'constitution': 0, 'container': 1, 'could': 0, 'council': 0, 'county': 1, 'court': 0, 'current': 0, 'deeds': 0, 'delhi': 0, 'demand': 0, 'denny': 0, 'diet': 0, 'disputed': 0, 'divinely': 0, 'dominican': 0, 'duwamish': 0, 'earned': 0, 'emperor': 0, 'estimated': 1, 'eternity': 0, 'european': 0, 'excommunication': 0, 'executive': 0, 'faith': 0, 'faridabad': 0, 'fastest-growing': 1, 'february': 0, 'federal': 0, 'federally': 0, 'figure': 0, 'first': 0, 'free': 0, 'freedom': 0, 'friar': 0, 'gateway': 1, 'german': 0, 'ghaziabad': 0, 'gift': 0, 'given': 0, 'god': 0, 'good': 0, 'government': 0, 'grace': 0, 'greater': 0, 'group': 0, 'gurgaon': 0, 'handling': 1, 'he': 0, 'headed': 0, 'heaven': 0, 'hell': 0, 'high': 0, 'his': 0, 'holy': 0, 'identify': 0, 'includes': 0, 'india': 0, 'indulgence': 0, 'inhabitants': 1, 'inhabited': 0, 'inlet': 1, 'isthmus': 1, 'jesus': 0, 'johann': 0, 'jointly': 0, 'king': 1, 'km': 1, 'knowledge': 0, 'known': 0, 'lake': 1, 'largest': 4, 'least': 0, 'legislature': 0, 'leo': 0, 'local': 0, 'luther': 0, 'lutherans': 0, 'major': 1, 'martin': 0, 'metropolitan': 2, 'miles': 1, 'million': 1, 'minister': 0, 'ministers': 0, 'money': 0, 'monk': 0, 'moved': 0, 'movement': 0, 'named': 0, 'narrow': 1, 'nation': 1, 'national': 0, 'native': 0, 'ncr': 0, 'nct': 0, 'nearby': 0, 'nearly': 0, 'neighbouring': 0, 'new': 0, 'ninety-five': 0, 'noida': 0, 'north': 2, 'northwest': 1, 'november': 0, 'ocean': 1, 'one': 1, 'opposed': 0, 'osa': 0, 'outlaw': 0, 'pacific': 2, 'party': 0, 'permanent': 0, 'point': 0, 'political': 0, 'pope': 0, 'population': 0, 'populous': 0, 'port': 1, 'priest': 0, 'priesthood': 0, 'professor': 0, 'protestant': 0, 'puget': 1, 'punishment': 0, 'purchased': 0, 'received': 0, 'redeemer': 0, 'reform': 0, 'reformation': 0, 'refusal': 0, 'region': 1, 'resembles': 0, 'residents': 1, 'resulted': 0, 'retract': 0, 'revealed': 0, 'roman': 0, 'sacerdotalism': 0, 'salesman': 0, 'salvation': 0, 'seaport': 1, 'seat': 1, 'seattle': 4, 'second': 0, 'seminal': 0, 'settlement': 0, 'settlers': 0, \"si'ahl\": 0, 'sin': 0, 'site': 0, 'situated': 1, 'sonepat': 0, 'sound': 1, 'source': 0, 'south': 1, 'special': 0, 'state': 1, 'states': 3, 'status': 0, 'strongly': 0, 'subsequently': 0, 'suquamish': 0, 'taught': 0, 'teaching': 0, 'teachings': 0, 'technically': 0, 'terms': 1, 'territory': 0, 'tetzel': 0, 'the': 2, 'theology': 0, 'theses': 0, 'those': 0, 'today': 0, 'towns': 0, 'trade': 1, 'travelers': 0, 'tribes': 0, 'u.s.': 1, 'union': 0, 'united': 2, 'urban': 0, 'v': 0, 'washington': 2, 'wider': 0, 'with': 1, 'world': 0, 'worms': 0, 'writings': 0, 'x': 0, 'years': 0, '–': 0}, 2: {\"''\": 0, \"'s\": 1, '1': 1, '10': 1, '100': 0, '13': 0, '1483': 1, '1517': 1, '1520': 1, '1521': 1, '1546': 1, '15th': 0, '160': 0, '16th': 1, '18': 1, '1851': 0, '1853': 0, '1991': 0, '2011': 0, '2012': 0, '22': 0, '22.2': 0, '4': 0, '4,000': 0, '6': 0, '634,535': 0, '69th': 0, '8th': 0, '9th': 0, '``': 0, 'a': 0, 'a.': 0, 'act': 0, 'administered': 0, 'administration': 0, 'alki': 0, 'also': 0, 'although': 0, 'amendment': 0, 'america': 0, 'americans': 0, 'area': 0, 'around': 0, 'arrived': 0, 'arthur': 0, 'asia': 0, 'authority': 0, 'baghpat': 0, 'baptized': 0, 'bible': 0, 'border': 0, 'called': 0, 'canada–united': 0, 'capital': 0, 'catholic': 1, 'century': 1, 'challenged': 0, 'charles': 1, 'chief': 0, 'christ': 0, 'christianity': 1, 'christians': 0, 'church': 0, 'cities': 0, 'city': 0, 'claim': 1, 'closely': 0, 'coastal': 0, 'condemnation': 1, 'confronted': 1, 'considering': 0, 'constitution': 0, 'container': 0, 'could': 1, 'council': 0, 'county': 0, 'court': 0, 'current': 0, 'deeds': 0, 'delhi': 0, 'demand': 1, 'denny': 0, 'diet': 1, 'disputed': 1, 'divinely': 0, 'dominican': 1, 'duwamish': 0, 'earned': 0, 'emperor': 2, 'estimated': 0, 'eternity': 0, 'european': 0, 'excommunication': 1, 'executive': 0, 'faith': 0, 'faridabad': 0, 'fastest-growing': 0, 'february': 1, 'federal': 0, 'federally': 0, 'figure': 1, 'first': 0, 'free': 0, 'freedom': 1, 'friar': 1, 'gateway': 0, 'german': 1, 'ghaziabad': 0, 'gift': 0, 'given': 0, 'god': 1, 'good': 0, 'government': 0, 'grace': 0, 'greater': 0, 'group': 0, 'gurgaon': 0, 'handling': 0, 'he': 2, 'headed': 0, 'heaven': 0, 'hell': 0, 'high': 0, 'his': 1, 'holy': 1, 'identify': 0, 'includes': 0, 'india': 0, 'indulgence': 1, 'inhabitants': 0, 'inhabited': 0, 'inlet': 0, 'isthmus': 0, 'jesus': 0, 'johann': 1, 'jointly': 0, 'king': 0, 'km': 0, 'knowledge': 0, 'known': 1, 'lake': 0, 'largest': 0, 'least': 0, 'legislature': 0, 'leo': 1, 'local': 0, 'luther': 1, 'lutherans': 0, 'major': 0, 'martin': 1, 'metropolitan': 0, 'miles': 0, 'million': 0, 'minister': 0, 'ministers': 0, 'money': 1, 'monk': 1, 'moved': 0, 'movement': 1, 'named': 0, 'narrow': 0, 'nation': 0, 'national': 0, 'native': 0, 'ncr': 0, 'nct': 0, 'nearby': 0, 'nearly': 0, 'neighbouring': 0, 'new': 0, 'ninety-five': 1, 'noida': 0, 'north': 0, 'northwest': 0, 'november': 1, 'ocean': 0, 'one': 0, 'opposed': 0, 'osa': 1, 'outlaw': 1, 'pacific': 0, 'party': 0, 'permanent': 0, 'point': 0, 'political': 0, 'pope': 2, 'population': 0, 'populous': 0, 'port': 0, 'priest': 1, 'priesthood': 0, 'professor': 1, 'protestant': 1, 'puget': 0, 'punishment': 1, 'purchased': 1, 'received': 0, 'redeemer': 0, 'reform': 1, 'reformation': 1, 'refusal': 1, 'region': 0, 'resembles': 0, 'residents': 0, 'resulted': 1, 'retract': 1, 'revealed': 0, 'roman': 1, 'sacerdotalism': 0, 'salesman': 1, 'salvation': 0, 'seaport': 0, 'seat': 0, 'seattle': 0, 'second': 0, 'seminal': 1, 'settlement': 0, 'settlers': 0, \"si'ahl\": 0, 'sin': 1, 'site': 0, 'situated': 0, 'sonepat': 0, 'sound': 0, 'source': 0, 'south': 0, 'special': 0, 'state': 0, 'states': 0, 'status': 0, 'strongly': 1, 'subsequently': 1, 'suquamish': 0, 'taught': 0, 'teaching': 0, 'teachings': 0, 'technically': 0, 'terms': 0, 'territory': 0, 'tetzel': 1, 'the': 0, 'theology': 1, 'theses': 1, 'those': 0, 'today': 0, 'towns': 0, 'trade': 0, 'travelers': 0, 'tribes': 0, 'u.s.': 0, 'union': 0, 'united': 0, 'urban': 0, 'v': 1, 'washington': 0, 'wider': 0, 'with': 0, 'world': 0, 'worms': 1, 'writings': 1, 'x': 1, 'years': 0, '–': 1}, 3: {\"''\": 1, \"'s\": 0, '1': 0, '10': 0, '100': 0, '13': 1, '1483': 0, '1517': 0, '1520': 0, '1521': 0, '1546': 0, '15th': 0, '160': 0, '16th': 0, '18': 0, '1851': 1, '1853': 1, '1991': 0, '2011': 0, '2012': 0, '22': 0, '22.2': 0, '4': 0, '4,000': 1, '6': 0, '634,535': 0, '69th': 0, '8th': 0, '9th': 0, '``': 1, 'a': 0, 'a.': 1, 'act': 0, 'administered': 0, 'administration': 0, 'alki': 1, 'also': 0, 'although': 0, 'amendment': 0, 'america': 0, 'americans': 1, 'area': 1, 'around': 0, 'arrived': 1, 'arthur': 1, 'asia': 0, 'authority': 0, 'baghpat': 0, 'baptized': 0, 'bible': 0, 'border': 0, 'called': 0, 'canada–united': 0, 'capital': 0, 'catholic': 0, 'century': 0, 'challenged': 0, 'charles': 0, 'chief': 1, 'christ': 0, 'christianity': 0, 'christians': 0, 'church': 0, 'cities': 0, 'city': 0, 'claim': 0, 'closely': 0, 'coastal': 0, 'condemnation': 0, 'confronted': 0, 'considering': 0, 'constitution': 0, 'container': 0, 'could': 0, 'council': 0, 'county': 0, 'court': 0, 'current': 1, 'deeds': 0, 'delhi': 0, 'demand': 0, 'denny': 2, 'diet': 0, 'disputed': 0, 'divinely': 0, 'dominican': 0, 'duwamish': 1, 'earned': 0, 'emperor': 0, 'estimated': 0, 'eternity': 0, 'european': 1, 'excommunication': 0, 'executive': 0, 'faith': 0, 'faridabad': 0, 'fastest-growing': 0, 'february': 0, 'federal': 0, 'federally': 0, 'figure': 0, 'first': 1, 'free': 0, 'freedom': 0, 'friar': 0, 'gateway': 0, 'german': 0, 'ghaziabad': 0, 'gift': 0, 'given': 0, 'god': 0, 'good': 0, 'government': 0, 'grace': 0, 'greater': 0, 'group': 1, 'gurgaon': 0, 'handling': 0, 'he': 0, 'headed': 0, 'heaven': 0, 'hell': 0, 'high': 0, 'his': 0, 'holy': 0, 'identify': 0, 'includes': 0, 'india': 0, 'indulgence': 0, 'inhabitants': 0, 'inhabited': 1, 'inlet': 0, 'isthmus': 0, 'jesus': 0, 'johann': 0, 'jointly': 0, 'king': 0, 'km': 0, 'knowledge': 0, 'known': 1, 'lake': 0, 'largest': 0, 'least': 1, 'legislature': 0, 'leo': 0, 'local': 1, 'luther': 0, 'lutherans': 0, 'major': 0, 'martin': 0, 'metropolitan': 0, 'miles': 0, 'million': 0, 'minister': 0, 'ministers': 0, 'money': 0, 'monk': 0, 'moved': 1, 'movement': 0, 'named': 1, 'narrow': 0, 'nation': 0, 'national': 0, 'native': 1, 'ncr': 0, 'nct': 0, 'nearby': 0, 'nearly': 0, 'neighbouring': 0, 'new': 0, 'ninety-five': 0, 'noida': 0, 'north': 0, 'northwest': 0, 'november': 1, 'ocean': 0, 'one': 0, 'opposed': 0, 'osa': 0, 'outlaw': 0, 'pacific': 0, 'party': 1, 'permanent': 1, 'point': 1, 'political': 0, 'pope': 0, 'population': 0, 'populous': 0, 'port': 0, 'priest': 0, 'priesthood': 0, 'professor': 0, 'protestant': 0, 'puget': 0, 'punishment': 0, 'purchased': 0, 'received': 0, 'redeemer': 0, 'reform': 0, 'reformation': 0, 'refusal': 0, 'region': 0, 'resembles': 0, 'residents': 0, 'resulted': 0, 'retract': 0, 'revealed': 0, 'roman': 0, 'sacerdotalism': 0, 'salesman': 0, 'salvation': 0, 'seaport': 0, 'seat': 0, 'seattle': 2, 'second': 0, 'seminal': 0, 'settlement': 1, 'settlers': 1, \"si'ahl\": 1, 'sin': 0, 'site': 1, 'situated': 0, 'sonepat': 0, 'sound': 0, 'source': 0, 'south': 0, 'special': 0, 'state': 0, 'states': 0, 'status': 0, 'strongly': 0, 'subsequently': 1, 'suquamish': 1, 'taught': 0, 'teaching': 0, 'teachings': 0, 'technically': 0, 'terms': 0, 'territory': 0, 'tetzel': 0, 'the': 2, 'theology': 0, 'theses': 0, 'those': 0, 'today': 0, 'towns': 0, 'trade': 0, 'travelers': 1, 'tribes': 1, 'u.s.': 0, 'union': 0, 'united': 0, 'urban': 0, 'v': 0, 'washington': 0, 'wider': 0, 'with': 0, 'world': 0, 'worms': 0, 'writings': 0, 'x': 0, 'years': 1, '–': 0}, 4: {\"''\": 0, \"'s\": 0, '1': 0, '10': 0, '100': 0, '13': 0, '1483': 0, '1517': 0, '1520': 0, '1521': 0, '1546': 0, '15th': 0, '160': 0, '16th': 0, '18': 0, '1851': 0, '1853': 0, '1991': 0, '2011': 0, '2012': 0, '22': 0, '22.2': 0, '4': 0, '4,000': 0, '6': 0, '634,535': 0, '69th': 0, '8th': 0, '9th': 0, '``': 0, 'a': 0, 'a.': 0, 'act': 0, 'administered': 2, 'administration': 1, 'alki': 0, 'also': 0, 'although': 1, 'amendment': 0, 'america': 0, 'americans': 0, 'area': 0, 'around': 0, 'arrived': 0, 'arthur': 0, 'asia': 0, 'authority': 0, 'baghpat': 0, 'baptized': 0, 'bible': 0, 'border': 0, 'called': 0, 'canada–united': 0, 'capital': 1, 'catholic': 0, 'century': 0, 'challenged': 0, 'charles': 0, 'chief': 1, 'christ': 0, 'christianity': 0, 'christians': 0, 'church': 0, 'cities': 0, 'city': 0, 'claim': 0, 'closely': 1, 'coastal': 0, 'condemnation': 0, 'confronted': 0, 'considering': 0, 'constitution': 0, 'container': 0, 'could': 0, 'council': 1, 'county': 0, 'court': 1, 'current': 0, 'deeds': 0, 'delhi': 4, 'demand': 0, 'denny': 0, 'diet': 0, 'disputed': 0, 'divinely': 0, 'dominican': 0, 'duwamish': 0, 'earned': 0, 'emperor': 0, 'estimated': 0, 'eternity': 0, 'european': 0, 'excommunication': 0, 'executive': 1, 'faith': 0, 'faridabad': 0, 'fastest-growing': 0, 'february': 0, 'federal': 1, 'federally': 1, 'figure': 0, 'first': 0, 'free': 0, 'freedom': 0, 'friar': 0, 'gateway': 0, 'german': 0, 'ghaziabad': 0, 'gift': 0, 'given': 0, 'god': 0, 'good': 0, 'government': 2, 'grace': 0, 'greater': 0, 'group': 0, 'gurgaon': 0, 'handling': 0, 'he': 0, 'headed': 1, 'heaven': 0, 'hell': 0, 'high': 1, 'his': 0, 'holy': 0, 'identify': 0, 'includes': 0, 'india': 2, 'indulgence': 0, 'inhabitants': 0, 'inhabited': 0, 'inlet': 0, 'isthmus': 0, 'jesus': 0, 'johann': 0, 'jointly': 1, 'king': 0, 'km': 0, 'knowledge': 0, 'known': 0, 'lake': 0, 'largest': 0, 'least': 0, 'legislature': 1, 'leo': 0, 'local': 1, 'luther': 0, 'lutherans': 0, 'major': 0, 'martin': 0, 'metropolitan': 0, 'miles': 0, 'million': 0, 'minister': 1, 'ministers': 1, 'money': 0, 'monk': 0, 'moved': 0, 'movement': 0, 'named': 0, 'narrow': 0, 'nation': 0, 'national': 0, 'native': 0, 'ncr': 0, 'nct': 2, 'nearby': 0, 'nearly': 0, 'neighbouring': 0, 'new': 1, 'ninety-five': 0, 'noida': 0, 'north': 0, 'northwest': 0, 'november': 0, 'ocean': 0, 'one': 0, 'opposed': 0, 'osa': 0, 'outlaw': 0, 'pacific': 0, 'party': 0, 'permanent': 0, 'point': 0, 'political': 1, 'pope': 0, 'population': 0, 'populous': 0, 'port': 0, 'priest': 0, 'priesthood': 0, 'professor': 0, 'protestant': 0, 'puget': 0, 'punishment': 0, 'purchased': 0, 'received': 0, 'redeemer': 0, 'reform': 0, 'reformation': 0, 'refusal': 0, 'region': 0, 'resembles': 1, 'residents': 0, 'resulted': 0, 'retract': 0, 'revealed': 0, 'roman': 0, 'sacerdotalism': 0, 'salesman': 0, 'salvation': 0, 'seaport': 0, 'seat': 0, 'seattle': 0, 'second': 0, 'seminal': 0, 'settlement': 0, 'settlers': 0, \"si'ahl\": 0, 'sin': 0, 'site': 0, 'situated': 0, 'sonepat': 0, 'sound': 0, 'source': 0, 'south': 0, 'special': 0, 'state': 1, 'states': 0, 'status': 0, 'strongly': 0, 'subsequently': 0, 'suquamish': 0, 'taught': 0, 'teaching': 0, 'teachings': 0, 'technically': 1, 'terms': 0, 'territory': 1, 'tetzel': 0, 'the': 0, 'theology': 0, 'theses': 0, 'those': 0, 'today': 1, 'towns': 0, 'trade': 0, 'travelers': 0, 'tribes': 0, 'u.s.': 0, 'union': 1, 'united': 0, 'urban': 0, 'v': 0, 'washington': 0, 'wider': 0, 'with': 0, 'world': 0, 'worms': 0, 'writings': 0, 'x': 0, 'years': 0, '–': 0}, 5: {\"''\": 0, \"'s\": 2, '1': 0, '10': 0, '100': 0, '13': 0, '1483': 0, '1517': 0, '1520': 0, '1521': 0, '1546': 0, '15th': 0, '160': 0, '16th': 0, '18': 0, '1851': 0, '1853': 0, '1991': 0, '2011': 0, '2012': 0, '22': 0, '22.2': 0, '4': 0, '4,000': 0, '6': 0, '634,535': 0, '69th': 0, '8th': 0, '9th': 0, '``': 0, 'a': 0, 'a.': 0, 'act': 0, 'administered': 0, 'administration': 0, 'alki': 0, 'also': 0, 'although': 0, 'amendment': 0, 'america': 0, 'americans': 0, 'area': 0, 'around': 0, 'arrived': 0, 'arthur': 0, 'asia': 0, 'authority': 1, 'baghpat': 0, 'baptized': 1, 'bible': 1, 'border': 0, 'called': 1, 'canada–united': 0, 'capital': 0, 'catholic': 1, 'century': 0, 'challenged': 1, 'charles': 0, 'chief': 0, 'christ': 1, 'christianity': 0, 'christians': 1, 'church': 1, 'cities': 0, 'city': 0, 'claim': 0, 'closely': 0, 'coastal': 0, 'condemnation': 0, 'confronted': 0, 'considering': 1, 'constitution': 0, 'container': 0, 'could': 0, 'council': 0, 'county': 0, 'court': 0, 'current': 0, 'deeds': 1, 'delhi': 0, 'demand': 0, 'denny': 0, 'diet': 0, 'disputed': 0, 'divinely': 1, 'dominican': 0, 'duwamish': 0, 'earned': 1, 'emperor': 0, 'estimated': 0, 'eternity': 2, 'european': 0, 'excommunication': 0, 'executive': 0, 'faith': 1, 'faridabad': 0, 'fastest-growing': 0, 'february': 0, 'federal': 0, 'federally': 0, 'figure': 0, 'first': 0, 'free': 1, 'freedom': 0, 'friar': 0, 'gateway': 0, 'german': 0, 'ghaziabad': 0, 'gift': 1, 'given': 0, 'god': 2, 'good': 1, 'government': 0, 'grace': 1, 'greater': 0, 'group': 0, 'gurgaon': 0, 'handling': 0, 'he': 0, 'headed': 0, 'heaven': 1, 'hell': 1, 'high': 0, 'his': 1, 'holy': 1, 'identify': 1, 'includes': 0, 'india': 0, 'indulgence': 0, 'inhabitants': 0, 'inhabited': 0, 'inlet': 0, 'isthmus': 0, 'jesus': 1, 'johann': 0, 'jointly': 0, 'king': 0, 'km': 0, 'knowledge': 1, 'known': 0, 'lake': 0, 'largest': 0, 'least': 0, 'legislature': 0, 'leo': 0, 'local': 0, 'luther': 2, 'lutherans': 1, 'major': 0, 'martin': 0, 'metropolitan': 0, 'miles': 0, 'million': 0, 'minister': 0, 'ministers': 0, 'money': 0, 'monk': 0, 'moved': 0, 'movement': 0, 'named': 0, 'narrow': 0, 'nation': 0, 'national': 0, 'native': 0, 'ncr': 0, 'nct': 0, 'nearby': 0, 'nearly': 0, 'neighbouring': 0, 'new': 0, 'ninety-five': 0, 'noida': 0, 'north': 0, 'northwest': 0, 'november': 0, 'ocean': 0, 'one': 0, 'opposed': 1, 'osa': 0, 'outlaw': 0, 'pacific': 0, 'party': 0, 'permanent': 0, 'point': 0, 'political': 0, 'pope': 1, 'population': 0, 'populous': 0, 'port': 0, 'priest': 0, 'priesthood': 1, 'professor': 0, 'protestant': 0, 'puget': 0, 'punishment': 0, 'purchased': 0, 'received': 1, 'redeemer': 1, 'reform': 0, 'reformation': 0, 'refusal': 0, 'region': 0, 'resembles': 0, 'residents': 0, 'resulted': 0, 'retract': 0, 'revealed': 1, 'roman': 1, 'sacerdotalism': 1, 'salesman': 0, 'salvation': 1, 'seaport': 0, 'seat': 0, 'seattle': 0, 'second': 0, 'seminal': 0, 'settlement': 0, 'settlers': 0, \"si'ahl\": 0, 'sin': 1, 'site': 0, 'situated': 0, 'sonepat': 0, 'sound': 0, 'source': 1, 'south': 0, 'special': 0, 'state': 0, 'states': 0, 'status': 0, 'strongly': 0, 'subsequently': 2, 'suquamish': 0, 'taught': 1, 'teaching': 1, 'teachings': 1, 'technically': 0, 'terms': 0, 'territory': 0, 'tetzel': 0, 'the': 0, 'theology': 1, 'theses': 0, 'those': 1, 'today': 0, 'towns': 0, 'trade': 0, 'travelers': 0, 'tribes': 0, 'u.s.': 0, 'union': 0, 'united': 0, 'urban': 0, 'v': 0, 'washington': 0, 'wider': 1, 'with': 0, 'world': 0, 'worms': 0, 'writings': 0, 'x': 0, 'years': 0, '–': 0}}\n"
     ]
    }
   ],
   "source": [
    "doc_term_frequency_dict = {}\n",
    "for i in range(0,len(documents)):\n",
    "    term_freq_dict = {}\n",
    "    for term in vocab:\n",
    "        count = doc_idx_term.get(i).count(term)\n",
    "        term_freq_dict[term] = count\n",
    "    doc_term_frequency_dict[i] = term_freq_dict\n",
    "print(doc_term_frequency_dict)"
   ]
  },
  {
   "cell_type": "code",
   "execution_count": 75,
   "metadata": {
    "collapsed": true
   },
   "outputs": [],
   "source": [
    "import numpy as np\n",
    "def cosine_similarity(doc_1, doc_2):\n",
    "    vec_1 = list(doc_1.values())\n",
    "    vec_2 = list(doc_2.values())\n",
    "    dot_v1_v2 = np.dot(vec_1,vec_2)\n",
    "    mag_vec_1 = np.linalg.norm(vec_1)\n",
    "    mag_vec_2 = np.linalg.norm(vec_2)\n",
    "    dot_mv1_mv2 = mag_vec_1*mag_vec_2\n",
    "    cos_theta = dot_v1_v2/dot_mv1_mv2\n",
    "    return cos_theta\n",
    "    "
   ]
  },
  {
   "cell_type": "code",
   "execution_count": 80,
   "metadata": {},
   "outputs": [
    {
     "name": "stdout",
     "output_type": "stream",
     "text": [
      "Cosine similarity :::  {(0, 1): 0.2403772074240785, (0, 2): 0.030877011359723181, (0, 3): 0.078113346588494323, (0, 4): 0.28044609975479717, (0, 5): 0.04639260004261473, (1, 2): 0.0, (1, 3): 0.17232808737106581, (1, 4): 0.01152857439776791, (1, 5): 0.0, (2, 3): 0.047434164902525687, (2, 4): 0.0, (2, 5): 0.2253744679276044, (3, 4): 0.037463432463267755, (3, 5): 0.035634832254989916, (4, 5): 0.0}\n"
     ]
    }
   ],
   "source": [
    "doc_len = len(documents)\n",
    "cos_similarity_dict = {}\n",
    "for i in range(0, doc_len-1):\n",
    "    for j in range(i+1, doc_len):\n",
    "        doc_tuple = (i,j)\n",
    "        doc_1 = doc_term_frequency_dict[i]\n",
    "        doc_2 = doc_term_frequency_dict[j]\n",
    "        cos_similarity = cosine_similarity(doc_1,doc_2)\n",
    "        cos_similarity_dict[doc_tuple] = cos_similarity\n",
    "\n",
    "print('Cosine similarity ::: ', cos_similarity_dict)"
   ]
  },
  {
   "cell_type": "code",
   "execution_count": 81,
   "metadata": {},
   "outputs": [
    {
     "name": "stdout",
     "output_type": "stream",
     "text": [
      "[((1, 2), 0.0), ((1, 5), 0.0), ((2, 4), 0.0), ((4, 5), 0.0), ((1, 4), 0.01152857439776791), ((0, 2), 0.030877011359723181), ((3, 5), 0.035634832254989916), ((3, 4), 0.037463432463267755), ((0, 5), 0.04639260004261473), ((2, 3), 0.047434164902525687), ((0, 3), 0.078113346588494323), ((1, 3), 0.17232808737106581), ((2, 5), 0.2253744679276044), ((0, 1), 0.2403772074240785), ((0, 4), 0.28044609975479717)]\n"
     ]
    }
   ],
   "source": [
    "import operator\n",
    "cos_similarity_dict_sorted = sorted(cos_similarity_dict.items(), key=operator.itemgetter(1))\n",
    "print(cos_similarity_dict_sorted)"
   ]
  },
  {
   "cell_type": "code",
   "execution_count": 82,
   "metadata": {},
   "outputs": [
    {
     "data": {
      "text/plain": [
       "[\"Delhi (also known as the National Capital Territory of India) is a metropolitan region in India that includes the national capital city, New Delhi. With a population of 22 million in 2011, it is the world's second most populous city and the largest city in India in terms of area. The NCT and its urban region have been given the special status of National Capital Region (NCR) under the Constitution of India's 69th amendment act of 1991. The NCR includes the neighbouring cities of Baghpat, Gurgaon, Sonepat, Faridabad, Ghaziabad, Noida, Greater Noida and other nearby towns, and has nearly 22.2 million residents.\",\n",
       " 'Seattle is a coastal seaport city and the seat of King County, in the U.S. state of Washington. With an estimated 634,535 residents as of 2012, Seattle is the largest city in the Pacific Northwest region of North America and one of the fastest-growing cities in the United States. The Seattle metropolitan area of around 4 million inhabitants is the 15th largest metropolitan area in the nation.[6] The city is situated on a narrow isthmus between Puget Sound (an inlet of the Pacific Ocean) and Lake Washington, about 100 miles (160 km) south of the Canada–United States border. A major gateway for trade with Asia, Seattle is the 8th largest port in the United States and 9th largest in North America in terms of container handling.',\n",
       " \"Martin Luther OSA (10 November 1483 – 18 February 1546) was a German monk, Catholic priest, professor of theology and seminal figure of a reform movement in 16th century Christianity, subsequently known as the Protestant Reformation.[1] He strongly disputed the claim that freedom from God's punishment for sin could be purchased with money. He confronted indulgence salesman Johann Tetzel, a Dominican friar, with his Ninety-Five Theses in 1517. His refusal to retract all of his writings at the demand of Pope Leo X in 1520 and the Holy Roman Emperor Charles V at the Diet of Worms in 1521 resulted in his excommunication by the Pope and condemnation as an outlaw by the Emperor.\",\n",
       " 'The Seattle area had been inhabited by Native Americans for at least 4,000 years before the first permanent European settlers. Arthur A. Denny and his group of travelers, subsequently known as the Denny Party, arrived at Alki Point on November 13, 1851. The settlement was moved to its current site and named \"Seattle\" in 1853, after Chief Si\\'ahl of the local Duwamish and Suquamish tribes.',\n",
       " 'Although technically a federally administered union territory, the political administration of the NCT of Delhi today more closely resembles that of a state of India, with its own legislature, high court and an executive council of ministers headed by a Chief Minister. New Delhi is jointly administered by the federal government of India and the local government of Delhi, and is the capital of the NCT of Delhi.',\n",
       " \"Luther taught that salvation and subsequently eternity in heaven is not earned by good deeds but is received only as a free gift of God's grace through faith in Jesus Christ as redeemer from sin and subsequently eternity in hell. His theology challenged the authority of the Pope of the Roman Catholic Church by teaching that the Bible is the only source of divinely revealed knowledge from God and opposed sacerdotalism by considering all baptized Christians to be a holy priesthood. Those who identify with these, and all of Luther's wider teachings, are called Lutherans.\"]"
      ]
     },
     "execution_count": 82,
     "metadata": {},
     "output_type": "execute_result"
    }
   ],
   "source": [
    "documents"
   ]
  },
  {
   "cell_type": "code",
   "execution_count": null,
   "metadata": {
    "collapsed": true
   },
   "outputs": [],
   "source": []
  }
 ],
 "metadata": {
  "kernelspec": {
   "display_name": "Python 3",
   "language": "python",
   "name": "python3"
  },
  "language_info": {
   "codemirror_mode": {
    "name": "ipython",
    "version": 3
   },
   "file_extension": ".py",
   "mimetype": "text/x-python",
   "name": "python",
   "nbconvert_exporter": "python",
   "pygments_lexer": "ipython3",
   "version": "3.6.3"
  }
 },
 "nbformat": 4,
 "nbformat_minor": 2
}
