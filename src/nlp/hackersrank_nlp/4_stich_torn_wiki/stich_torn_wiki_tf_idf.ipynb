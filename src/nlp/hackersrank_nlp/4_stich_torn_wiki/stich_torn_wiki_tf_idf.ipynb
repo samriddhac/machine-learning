{
 "cells": [
  {
   "cell_type": "code",
   "execution_count": 1,
   "metadata": {},
   "outputs": [
    {
     "name": "stdout",
     "output_type": "stream",
     "text": [
      "Please enter the document..Delhi (also known as the National Capital Territory of India) is a metropolitan region in India that includes the national capital city, New Delhi. With a population of 22 million in 2011, it is the world's second most populous city and the largest city in India in terms of area. The NCT and its urban region have been given the special status of National Capital Region (NCR) under the Constitution of India's 69th amendment act of 1991. The NCR includes the neighbouring cities of Baghpat, Gurgaon, Sonepat, Faridabad, Ghaziabad, Noida, Greater Noida and other nearby towns, and has nearly 22.2 million residents.\n",
      "Please enter the document..Seattle is a coastal seaport city and the seat of King County, in the U.S. state of Washington. With an estimated 634,535 residents as of 2012, Seattle is the largest city in the Pacific Northwest region of North America and one of the fastest-growing cities in the United States. The Seattle metropolitan area of around 4 million inhabitants is the 15th largest metropolitan area in the nation.[6] The city is situated on a narrow isthmus between Puget Sound (an inlet of the Pacific Ocean) and Lake Washington, about 100 miles (160 km) south of the Canada–United States border. A major gateway for trade with Asia, Seattle is the 8th largest port in the United States and 9th largest in North America in terms of container handling.\n",
      "Please enter the document..Martin Luther OSA (10 November 1483 – 18 February 1546) was a German monk, Catholic priest, professor of theology and seminal figure of a reform movement in 16th century Christianity, subsequently known as the Protestant Reformation.[1] He strongly disputed the claim that freedom from God's punishment for sin could be purchased with money. He confronted indulgence salesman Johann Tetzel, a Dominican friar, with his Ninety-Five Theses in 1517. His refusal to retract all of his writings at the demand of Pope Leo X in 1520 and the Holy Roman Emperor Charles V at the Diet of Worms in 1521 resulted in his excommunication by the Pope and condemnation as an outlaw by the Emperor.\n",
      "Please enter the document..The Seattle area had been inhabited by Native Americans for at least 4,000 years before the first permanent European settlers. Arthur A. Denny and his group of travelers, subsequently known as the Denny Party, arrived at Alki Point on November 13, 1851. The settlement was moved to its current site and named \"Seattle\" in 1853, after Chief Si'ahl of the local Duwamish and Suquamish tribes.\n",
      "Please enter the document..Although technically a federally administered union territory, the political administration of the NCT of Delhi today more closely resembles that of a state of India, with its own legislature, high court and an executive council of ministers headed by a Chief Minister. New Delhi is jointly administered by the federal government of India and the local government of Delhi, and is the capital of the NCT of Delhi.\n",
      "Please enter the document..Luther taught that salvation and subsequently eternity in heaven is not earned by good deeds but is received only as a free gift of God's grace through faith in Jesus Christ as redeemer from sin and subsequently eternity in hell. His theology challenged the authority of the Pope of the Roman Catholic Church by teaching that the Bible is the only source of divinely revealed knowledge from God and opposed sacerdotalism by considering all baptized Christians to be a holy priesthood. Those who identify with these, and all of Luther's wider teachings, are called Lutherans.\n",
      "Please enter the document..END\n"
     ]
    }
   ],
   "source": [
    "documents = []\n",
    "while(True):\n",
    "    doc = input('Please enter the document..')\n",
    "    if doc == 'END':\n",
    "        break\n",
    "    else:\n",
    "        documents.append(doc)"
   ]
  },
  {
   "cell_type": "code",
   "execution_count": 9,
   "metadata": {},
   "outputs": [
    {
     "data": {
      "text/plain": [
       "[\"Delhi (also known as the National Capital Territory of India) is a metropolitan region in India that includes the national capital city, New Delhi. With a population of 22 million in 2011, it is the world's second most populous city and the largest city in India in terms of area. The NCT and its urban region have been given the special status of National Capital Region (NCR) under the Constitution of India's 69th amendment act of 1991. The NCR includes the neighbouring cities of Baghpat, Gurgaon, Sonepat, Faridabad, Ghaziabad, Noida, Greater Noida and other nearby towns, and has nearly 22.2 million residents.\",\n",
       " 'Seattle is a coastal seaport city and the seat of King County, in the U.S. state of Washington. With an estimated 634,535 residents as of 2012, Seattle is the largest city in the Pacific Northwest region of North America and one of the fastest-growing cities in the United States. The Seattle metropolitan area of around 4 million inhabitants is the 15th largest metropolitan area in the nation.[6] The city is situated on a narrow isthmus between Puget Sound (an inlet of the Pacific Ocean) and Lake Washington, about 100 miles (160 km) south of the Canada–United States border. A major gateway for trade with Asia, Seattle is the 8th largest port in the United States and 9th largest in North America in terms of container handling.',\n",
       " \"Martin Luther OSA (10 November 1483 – 18 February 1546) was a German monk, Catholic priest, professor of theology and seminal figure of a reform movement in 16th century Christianity, subsequently known as the Protestant Reformation.[1] He strongly disputed the claim that freedom from God's punishment for sin could be purchased with money. He confronted indulgence salesman Johann Tetzel, a Dominican friar, with his Ninety-Five Theses in 1517. His refusal to retract all of his writings at the demand of Pope Leo X in 1520 and the Holy Roman Emperor Charles V at the Diet of Worms in 1521 resulted in his excommunication by the Pope and condemnation as an outlaw by the Emperor.\",\n",
       " 'The Seattle area had been inhabited by Native Americans for at least 4,000 years before the first permanent European settlers. Arthur A. Denny and his group of travelers, subsequently known as the Denny Party, arrived at Alki Point on November 13, 1851. The settlement was moved to its current site and named \"Seattle\" in 1853, after Chief Si\\'ahl of the local Duwamish and Suquamish tribes.',\n",
       " 'Although technically a federally administered union territory, the political administration of the NCT of Delhi today more closely resembles that of a state of India, with its own legislature, high court and an executive council of ministers headed by a Chief Minister. New Delhi is jointly administered by the federal government of India and the local government of Delhi, and is the capital of the NCT of Delhi.',\n",
       " \"Luther taught that salvation and subsequently eternity in heaven is not earned by good deeds but is received only as a free gift of God's grace through faith in Jesus Christ as redeemer from sin and subsequently eternity in hell. His theology challenged the authority of the Pope of the Roman Catholic Church by teaching that the Bible is the only source of divinely revealed knowledge from God and opposed sacerdotalism by considering all baptized Christians to be a holy priesthood. Those who identify with these, and all of Luther's wider teachings, are called Lutherans.\"]"
      ]
     },
     "execution_count": 9,
     "metadata": {},
     "output_type": "execute_result"
    }
   ],
   "source": [
    "documents"
   ]
  },
  {
   "cell_type": "code",
   "execution_count": 84,
   "metadata": {
    "collapsed": true
   },
   "outputs": [],
   "source": [
    "import string\n",
    "from nltk import sent_tokenize, word_tokenize\n",
    "from nltk.corpus import stopwords\n",
    "\n",
    "stop = set(stopwords.words('english'))\n",
    "vocab = set([word.strip().lower() \n",
    "         for doc in documents\n",
    "         for sent in sent_tokenize(doc)\n",
    "         for word in word_tokenize(sent) if word not in string.punctuation and word not in stop\n",
    "         ])"
   ]
  },
  {
   "cell_type": "code",
   "execution_count": 85,
   "metadata": {},
   "outputs": [
    {
     "name": "stdout",
     "output_type": "stream",
     "text": [
      "263\n",
      "[\"''\", \"'s\", '1', '10', '100', '13', '1483', '1517', '1520', '1521', '1546', '15th', '160', '16th', '18', '1851', '1853', '1991', '2011', '2012', '22', '22.2', '4', '4,000', '6', '634,535', '69th', '8th', '9th', '``', 'a', 'a.', 'act', 'administered', 'administration', 'alki', 'also', 'although', 'amendment', 'america', 'americans', 'area', 'around', 'arrived', 'arthur', 'asia', 'authority', 'baghpat', 'baptized', 'bible']\n"
     ]
    }
   ],
   "source": [
    "unique_vocab = len(vocab)\n",
    "print(unique_vocab)\n",
    "vocab = sorted(list(vocab))\n",
    "print(list(vocab)[:50])"
   ]
  },
  {
   "cell_type": "code",
   "execution_count": 86,
   "metadata": {
    "collapsed": true
   },
   "outputs": [],
   "source": [
    "doc_idx_dict = {idx:doc for idx,doc in enumerate(documents)}\n",
    "#print(doc_idx_dict)"
   ]
  },
  {
   "cell_type": "code",
   "execution_count": 87,
   "metadata": {
    "collapsed": true
   },
   "outputs": [],
   "source": [
    "doc_idx_term_count = {}\n",
    "doc_idx_term = {}\n",
    "for idx,doc in doc_idx_dict.items():\n",
    "    words = []\n",
    "    for sent in sent_tokenize(doc):\n",
    "        for word in word_tokenize(sent):\n",
    "            if word not in string.punctuation and word not in stop:\n",
    "                words.append(word.lower())\n",
    "    doc_idx_term[idx] = words\n",
    "    doc_idx_term_count[idx] = len(words)\n",
    "#print(doc_idx_term_count)\n",
    "#print(doc_idx_term)"
   ]
  },
  {
   "cell_type": "code",
   "execution_count": 88,
   "metadata": {
    "collapsed": true
   },
   "outputs": [],
   "source": [
    "doc_term_frequency_dict = {}\n",
    "for i in range(0,len(documents)):\n",
    "    term_freq_dict = {}\n",
    "    for term in vocab:\n",
    "        count = doc_idx_term.get(i).count(term)\n",
    "        term_freq_dict[term] = count\n",
    "    doc_term_frequency_dict[i] = term_freq_dict\n",
    "#print(doc_term_frequency_dict)"
   ]
  },
  {
   "cell_type": "code",
   "execution_count": 89,
   "metadata": {
    "collapsed": true
   },
   "outputs": [],
   "source": [
    "import numpy as np\n",
    "def cosine_similarity(doc_1, doc_2):\n",
    "    vec_1 = list(doc_1.values())\n",
    "    vec_2 = list(doc_2.values())\n",
    "    dot_v1_v2 = np.dot(vec_1,vec_2)\n",
    "    mag_vec_1 = np.linalg.norm(vec_1)\n",
    "    mag_vec_2 = np.linalg.norm(vec_2)\n",
    "    dot_mv1_mv2 = mag_vec_1*mag_vec_2\n",
    "    cos_theta = dot_v1_v2/dot_mv1_mv2\n",
    "    return cos_theta\n",
    "    "
   ]
  },
  {
   "cell_type": "code",
   "execution_count": 90,
   "metadata": {},
   "outputs": [
    {
     "name": "stdout",
     "output_type": "stream",
     "text": [
      "Cosine similarity :::  {(0, 1): 0.2403772074240785, (0, 2): 0.030877011359723181, (0, 3): 0.078113346588494323, (0, 4): 0.28044609975479717, (0, 5): 0.04639260004261473, (1, 2): 0.0, (1, 3): 0.17232808737106581, (1, 4): 0.01152857439776791, (1, 5): 0.0, (2, 3): 0.047434164902525687, (2, 4): 0.0, (2, 5): 0.2253744679276044, (3, 4): 0.037463432463267755, (3, 5): 0.035634832254989916, (4, 5): 0.0}\n"
     ]
    }
   ],
   "source": [
    "doc_len = len(documents)\n",
    "cos_similarity_dict = {}\n",
    "for i in range(0, doc_len-1):\n",
    "    for j in range(i+1, doc_len):\n",
    "        doc_tuple = (i,j)\n",
    "        doc_1 = doc_term_frequency_dict[i]\n",
    "        doc_2 = doc_term_frequency_dict[j]\n",
    "        cos_similarity = cosine_similarity(doc_1,doc_2)\n",
    "        cos_similarity_dict[doc_tuple] = cos_similarity\n",
    "\n",
    "print('Cosine similarity ::: ', cos_similarity_dict)"
   ]
  },
  {
   "cell_type": "code",
   "execution_count": 94,
   "metadata": {},
   "outputs": [
    {
     "name": "stdout",
     "output_type": "stream",
     "text": [
      "[((0, 4), 0.28044609975479717), ((0, 1), 0.2403772074240785), ((2, 5), 0.2253744679276044), ((1, 3), 0.17232808737106581), ((0, 3), 0.078113346588494323), ((2, 3), 0.047434164902525687), ((0, 5), 0.04639260004261473), ((3, 4), 0.037463432463267755), ((3, 5), 0.035634832254989916), ((0, 2), 0.030877011359723181), ((1, 4), 0.01152857439776791), ((1, 2), 0.0), ((1, 5), 0.0), ((2, 4), 0.0), ((4, 5), 0.0)]\n"
     ]
    }
   ],
   "source": [
    "import operator\n",
    "cos_similarity_dict_sorted = sorted(cos_similarity_dict.items(), key=operator.itemgetter(1), reverse=True)\n",
    "print(cos_similarity_dict_sorted)"
   ]
  },
  {
   "cell_type": "code",
   "execution_count": 92,
   "metadata": {},
   "outputs": [
    {
     "data": {
      "text/plain": [
       "[\"Delhi (also known as the National Capital Territory of India) is a metropolitan region in India that includes the national capital city, New Delhi. With a population of 22 million in 2011, it is the world's second most populous city and the largest city in India in terms of area. The NCT and its urban region have been given the special status of National Capital Region (NCR) under the Constitution of India's 69th amendment act of 1991. The NCR includes the neighbouring cities of Baghpat, Gurgaon, Sonepat, Faridabad, Ghaziabad, Noida, Greater Noida and other nearby towns, and has nearly 22.2 million residents.\",\n",
       " 'Seattle is a coastal seaport city and the seat of King County, in the U.S. state of Washington. With an estimated 634,535 residents as of 2012, Seattle is the largest city in the Pacific Northwest region of North America and one of the fastest-growing cities in the United States. The Seattle metropolitan area of around 4 million inhabitants is the 15th largest metropolitan area in the nation.[6] The city is situated on a narrow isthmus between Puget Sound (an inlet of the Pacific Ocean) and Lake Washington, about 100 miles (160 km) south of the Canada–United States border. A major gateway for trade with Asia, Seattle is the 8th largest port in the United States and 9th largest in North America in terms of container handling.',\n",
       " \"Martin Luther OSA (10 November 1483 – 18 February 1546) was a German monk, Catholic priest, professor of theology and seminal figure of a reform movement in 16th century Christianity, subsequently known as the Protestant Reformation.[1] He strongly disputed the claim that freedom from God's punishment for sin could be purchased with money. He confronted indulgence salesman Johann Tetzel, a Dominican friar, with his Ninety-Five Theses in 1517. His refusal to retract all of his writings at the demand of Pope Leo X in 1520 and the Holy Roman Emperor Charles V at the Diet of Worms in 1521 resulted in his excommunication by the Pope and condemnation as an outlaw by the Emperor.\",\n",
       " 'The Seattle area had been inhabited by Native Americans for at least 4,000 years before the first permanent European settlers. Arthur A. Denny and his group of travelers, subsequently known as the Denny Party, arrived at Alki Point on November 13, 1851. The settlement was moved to its current site and named \"Seattle\" in 1853, after Chief Si\\'ahl of the local Duwamish and Suquamish tribes.',\n",
       " 'Although technically a federally administered union territory, the political administration of the NCT of Delhi today more closely resembles that of a state of India, with its own legislature, high court and an executive council of ministers headed by a Chief Minister. New Delhi is jointly administered by the federal government of India and the local government of Delhi, and is the capital of the NCT of Delhi.',\n",
       " \"Luther taught that salvation and subsequently eternity in heaven is not earned by good deeds but is received only as a free gift of God's grace through faith in Jesus Christ as redeemer from sin and subsequently eternity in hell. His theology challenged the authority of the Pope of the Roman Catholic Church by teaching that the Bible is the only source of divinely revealed knowledge from God and opposed sacerdotalism by considering all baptized Christians to be a holy priesthood. Those who identify with these, and all of Luther's wider teachings, are called Lutherans.\"]"
      ]
     },
     "execution_count": 92,
     "metadata": {},
     "output_type": "execute_result"
    }
   ],
   "source": [
    "documents"
   ]
  },
  {
   "cell_type": "code",
   "execution_count": 93,
   "metadata": {},
   "outputs": [
    {
     "data": {
      "text/plain": [
       "'TF-IDF approach'"
      ]
     },
     "execution_count": 93,
     "metadata": {},
     "output_type": "execute_result"
    }
   ],
   "source": [
    "\"\"\"TF-IDF approach\"\"\""
   ]
  },
  {
   "cell_type": "code",
   "execution_count": 95,
   "metadata": {
    "collapsed": true
   },
   "outputs": [],
   "source": [
    "from sklearn.feature_extraction.text import TfidfVectorizer"
   ]
  },
  {
   "cell_type": "code",
   "execution_count": 96,
   "metadata": {
    "collapsed": true
   },
   "outputs": [],
   "source": [
    "vectorizer = TfidfVectorizer()\n",
    "tf_idf_matrix = vectorizer.fit_transform(documents)\n"
   ]
  },
  {
   "cell_type": "code",
   "execution_count": 122,
   "metadata": {},
   "outputs": [
    {
     "name": "stdout",
     "output_type": "stream",
     "text": [
      "tf-idf matrix features  ['000', '10', '100', '13', '1483', '1517', '1520', '1521', '1546', '15th', '160', '16th', '18', '1851', '1853', '1991', '2011', '2012', '22', '535', '634', '69th', '8th', '9th', 'about', 'act', 'administered', 'administration', 'after', 'ahl', 'alki', 'all', 'also', 'although', 'amendment', 'america', 'americans', 'an', 'and', 'are', 'area', 'around', 'arrived', 'arthur', 'as', 'asia', 'at', 'authority', 'baghpat', 'baptized', 'be', 'been', 'before', 'between', 'bible', 'border', 'but', 'by', 'called', 'canada', 'capital', 'catholic', 'century', 'challenged', 'charles', 'chief', 'christ', 'christianity', 'christians', 'church', 'cities', 'city', 'claim', 'closely', 'coastal', 'condemnation', 'confronted', 'considering', 'constitution', 'container', 'could', 'council', 'county', 'court', 'current', 'deeds', 'delhi', 'demand', 'denny', 'diet', 'disputed', 'divinely', 'dominican', 'duwamish', 'earned', 'emperor', 'estimated', 'eternity', 'european', 'excommunication', 'executive', 'faith', 'faridabad', 'fastest', 'february', 'federal', 'federally', 'figure', 'first', 'five', 'for', 'free', 'freedom', 'friar', 'from', 'gateway', 'german', 'ghaziabad', 'gift', 'given', 'god', 'good', 'government', 'grace', 'greater', 'group', 'growing', 'gurgaon', 'had', 'handling', 'has', 'have', 'he', 'headed', 'heaven', 'hell', 'high', 'his', 'holy', 'identify', 'in', 'includes', 'india', 'indulgence', 'inhabitants', 'inhabited', 'inlet', 'is', 'isthmus', 'it', 'its', 'jesus', 'johann', 'jointly', 'king', 'km', 'knowledge', 'known', 'lake', 'largest', 'least', 'legislature', 'leo', 'local', 'luther', 'lutherans', 'major', 'martin', 'metropolitan', 'miles', 'million', 'minister', 'ministers', 'money', 'monk', 'more', 'most', 'moved', 'movement', 'named', 'narrow', 'nation', 'national', 'native', 'ncr', 'nct', 'nearby', 'nearly', 'neighbouring', 'new', 'ninety', 'noida', 'north', 'northwest', 'not', 'november', 'ocean', 'of', 'on', 'one', 'only', 'opposed', 'osa', 'other', 'outlaw', 'own', 'pacific', 'party', 'permanent', 'point', 'political', 'pope', 'population', 'populous', 'port', 'priest', 'priesthood', 'professor', 'protestant', 'puget', 'punishment', 'purchased', 'received', 'redeemer', 'reform', 'reformation', 'refusal', 'region', 'resembles', 'residents', 'resulted', 'retract', 'revealed', 'roman', 'sacerdotalism', 'salesman', 'salvation', 'seaport', 'seat', 'seattle', 'second', 'seminal', 'settlement', 'settlers', 'si', 'sin', 'site', 'situated', 'sonepat', 'sound', 'source', 'south', 'special', 'state', 'states', 'status', 'strongly', 'subsequently', 'suquamish', 'taught', 'teaching', 'teachings', 'technically', 'terms', 'territory', 'tetzel', 'that', 'the', 'theology', 'these', 'theses', 'those', 'through', 'to', 'today', 'towns', 'trade', 'travelers', 'tribes', 'under', 'union', 'united', 'urban', 'was', 'washington', 'who', 'wider', 'with', 'world', 'worms', 'writings', 'years']\n",
      "tf-idf matrix shape  (6, 292)\n",
      "0th document tf-idf values(with respect to features)    (0, 86)\t0.142189004803\n",
      "  (0, 32)\t0.0866991001873\n",
      "  (0, 157)\t0.0600228640753\n",
      "  (0, 44)\t0.0444182662894\n",
      "  (0, 267)\t0.346371061935\n",
      "  (0, 182)\t0.260097300562\n",
      "  (0, 60)\t0.213283507204\n",
      "  (0, 264)\t0.0710945024014\n",
      "  (0, 197)\t0.269399714838\n",
      "  (0, 142)\t0.284378009606\n",
      "  (0, 147)\t0.10287006841\n",
      "  (0, 168)\t0.0710945024014\n",
      "  (0, 227)\t0.213283507204\n",
      "  (0, 140)\t0.177673065158\n",
      "  (0, 266)\t0.051435034205\n",
      "  (0, 141)\t0.173398200375\n",
      "  (0, 71)\t0.213283507204\n",
      "  (0, 189)\t0.0710945024014\n",
      "  (0, 287)\t0.0444182662894\n",
      "  (0, 212)\t0.0866991001873\n",
      "  (0, 18)\t0.173398200375\n",
      "  (0, 170)\t0.142189004803\n",
      "  (0, 16)\t0.0866991001873\n",
      "  (0, 149)\t0.0866991001873\n",
      "  (0, 288)\t0.0866991001873\n",
      "  :\t:\n",
      "  (0, 119)\t0.0866991001873\n",
      "  (0, 252)\t0.0866991001873\n",
      "  (0, 255)\t0.0866991001873\n",
      "  (0, 184)\t0.173398200375\n",
      "  (0, 279)\t0.0866991001873\n",
      "  (0, 78)\t0.0866991001873\n",
      "  (0, 21)\t0.0866991001873\n",
      "  (0, 34)\t0.0866991001873\n",
      "  (0, 25)\t0.0866991001873\n",
      "  (0, 15)\t0.0866991001873\n",
      "  (0, 188)\t0.0866991001873\n",
      "  (0, 70)\t0.0710945024014\n",
      "  (0, 48)\t0.0866991001873\n",
      "  (0, 127)\t0.0866991001873\n",
      "  (0, 248)\t0.0866991001873\n",
      "  (0, 102)\t0.0866991001873\n",
      "  (0, 117)\t0.0866991001873\n",
      "  (0, 191)\t0.173398200375\n",
      "  (0, 124)\t0.0866991001873\n",
      "  (0, 203)\t0.0866991001873\n",
      "  (0, 186)\t0.0866991001873\n",
      "  (0, 275)\t0.0866991001873\n",
      "  (0, 130)\t0.0866991001873\n",
      "  (0, 187)\t0.0866991001873\n",
      "  (0, 229)\t0.0710945024014\n"
     ]
    }
   ],
   "source": [
    "feature_names = vectorizer.get_feature_names()\n",
    "print('tf-idf matrix features ', feature_names)\n",
    "print('tf-idf matrix shape ', tf_idf_matrix.shape)\n",
    "print('0th document tf-idf values(with respect to features) ', tf_idf_matrix[0:1])"
   ]
  },
  {
   "cell_type": "code",
   "execution_count": 105,
   "metadata": {},
   "outputs": [
    {
     "data": {
      "text/plain": [
       "' To find the cosine distances of one document (e.g. the first in the dataset) and all of the others you \\njust need to compute the dot products of the first vector with all of \\nthe others as the tfidf vectors are already row-normalized'"
      ]
     },
     "execution_count": 105,
     "metadata": {},
     "output_type": "execute_result"
    }
   ],
   "source": [
    "\"\"\" To find the cosine distances of one document (e.g. the first in the dataset) and all of the others you \n",
    "just need to compute the dot products of the first vector with all of \n",
    "the others as the tfidf vectors are already row-normalized\"\"\""
   ]
  },
  {
   "cell_type": "code",
   "execution_count": 129,
   "metadata": {},
   "outputs": [
    {
     "name": "stdout",
     "output_type": "stream",
     "text": [
      "Comparing with  0 th document cosine similarity :::  [ 1.          0.42298951  0.2367376   0.19800432  0.42485335  0.23106716]\n",
      "Comparing with  1 th document cosine similarity :::  [ 0.42298951  1.          0.2886722   0.27374657  0.32634245  0.27855217]\n",
      "Comparing with  2 th document cosine similarity :::  [ 0.2367376   0.2886722   1.          0.26171229  0.23212018  0.36049989]\n",
      "Comparing with  3 th document cosine similarity :::  [ 0.19800432  0.27374657  0.26171229  1.          0.20382957  0.18447058]\n",
      "Comparing with  4 th document cosine similarity :::  [ 0.42485335  0.32634245  0.23212018  0.20382957  1.          0.26189476]\n"
     ]
    }
   ],
   "source": [
    "from sklearn.metrics.pairwise import linear_kernel\n",
    "for i in range(0, len(documents)-1):\n",
    "    cos_similarity_tfidf = linear_kernel(tf_idf_matrix[i:i+1], tf_idf_matrix)\n",
    "    print('Comparing with ',i,'th document' , 'cosine similarity ::: ', cos_similarity_tfidf[0])"
   ]
  },
  {
   "cell_type": "code",
   "execution_count": null,
   "metadata": {
    "collapsed": true
   },
   "outputs": [],
   "source": [
    "\n",
    "    "
   ]
  }
 ],
 "metadata": {
  "kernelspec": {
   "display_name": "Python 3",
   "language": "python",
   "name": "python3"
  },
  "language_info": {
   "codemirror_mode": {
    "name": "ipython",
    "version": 3
   },
   "file_extension": ".py",
   "mimetype": "text/x-python",
   "name": "python",
   "nbconvert_exporter": "python",
   "pygments_lexer": "ipython3",
   "version": "3.6.3"
  }
 },
 "nbformat": 4,
 "nbformat_minor": 2
}
