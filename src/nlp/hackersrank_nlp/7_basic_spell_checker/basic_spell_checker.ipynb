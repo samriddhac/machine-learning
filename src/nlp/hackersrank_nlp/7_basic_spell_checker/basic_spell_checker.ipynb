{
 "cells": [
  {
   "cell_type": "code",
   "execution_count": 3,
   "metadata": {
    "collapsed": true
   },
   "outputs": [],
   "source": [
    "import re\n",
    "from collections import Counter\n",
    "from string import ascii_lowercase\n",
    "import sys\n",
    "\n",
    "def words(text):\n",
    "    return re.findall(r'(?:[a-z]+[a-z\\'\\-]?[a-z]|[a-z]+)', text.lower())\n",
    "\n",
    "\n",
    "def createVocab():\n",
    "    v = Counter(words(open('corpus.txt').read()))\n",
    "    return v\n",
    "\n",
    "Vocabulary = createVocab()"
   ]
  },
  {
   "cell_type": "code",
   "execution_count": 8,
   "metadata": {
    "collapsed": true
   },
   "outputs": [],
   "source": [
    "def valueOf(word):\n",
    "    return Vocabulary[word]\n",
    "\n",
    "def spellCheck(word):\n",
    "    suggestionSet = suggestions(word)    \n",
    "    if len(suggestionSet) > 0:\n",
    "        maxScoreWord = max(suggestionSet, key=valueOf)\n",
    "        return sorted([w for w in suggestionSet if Vocabulary[w] == Vocabulary[maxScoreWord]])[0]\n",
    "    return word\n",
    "\n",
    "def suggestions(word):\n",
    "    return set(filterValidWords(singleCharCorrections(word)))\n",
    "\n",
    "def filterValidWords(words):\n",
    "    return [word for word in words if word in Vocabulary]\n",
    "\n",
    "\n",
    "def singleCharCorrections(word):\n",
    "    fragments = [(word[:i], word[i:]) for i in range(len(word)+1)]\n",
    "    print(fragments)\n",
    "    singleCharDeleted = [left + right[1:] for left, right in fragments]\n",
    "    singleCharSwitch = [left + right[1] + right[0] + right[2:] for left, right in fragments if len(right)>1]\n",
    "    singleCharSub = [left + char + right[1:] for left, right in fragments for char in ascii_lowercase]\n",
    "    singleCharAdd = [left + char + right for left, right in fragments for char in ascii_lowercase]\n",
    "    \n",
    "    print(singleCharDeleted)\n",
    "    print(singleCharSwitch)\n",
    "    print(singleCharSub)\n",
    "    print(singleCharAdd)\n",
    "    \n",
    "    return singleCharDeleted + singleCharSwitch + singleCharSub + singleCharAdd"
   ]
  },
  {
   "cell_type": "code",
   "execution_count": 9,
   "metadata": {},
   "outputs": [
    {
     "name": "stdout",
     "output_type": "stream",
     "text": [
      "1\n",
      "seroius  \n",
      "[('', 'seroius'), ('s', 'eroius'), ('se', 'roius'), ('ser', 'oius'), ('sero', 'ius'), ('seroi', 'us'), ('seroiu', 's'), ('seroius', '')]\n",
      "['eroius', 'sroius', 'seoius', 'serius', 'serous', 'serois', 'seroiu', 'seroius']\n",
      "['esroius', 'sreoius', 'seorius', 'serious', 'serouis', 'seroisu']\n",
      "['aeroius', 'beroius', 'ceroius', 'deroius', 'eeroius', 'feroius', 'geroius', 'heroius', 'ieroius', 'jeroius', 'keroius', 'leroius', 'meroius', 'neroius', 'oeroius', 'peroius', 'qeroius', 'reroius', 'seroius', 'teroius', 'ueroius', 'veroius', 'weroius', 'xeroius', 'yeroius', 'zeroius', 'saroius', 'sbroius', 'scroius', 'sdroius', 'seroius', 'sfroius', 'sgroius', 'shroius', 'siroius', 'sjroius', 'skroius', 'slroius', 'smroius', 'snroius', 'soroius', 'sproius', 'sqroius', 'srroius', 'ssroius', 'stroius', 'suroius', 'svroius', 'swroius', 'sxroius', 'syroius', 'szroius', 'seaoius', 'seboius', 'secoius', 'sedoius', 'seeoius', 'sefoius', 'segoius', 'sehoius', 'seioius', 'sejoius', 'sekoius', 'seloius', 'semoius', 'senoius', 'seooius', 'sepoius', 'seqoius', 'seroius', 'sesoius', 'setoius', 'seuoius', 'sevoius', 'sewoius', 'sexoius', 'seyoius', 'sezoius', 'seraius', 'serbius', 'sercius', 'serdius', 'sereius', 'serfius', 'sergius', 'serhius', 'seriius', 'serjius', 'serkius', 'serlius', 'sermius', 'sernius', 'seroius', 'serpius', 'serqius', 'serrius', 'sersius', 'sertius', 'seruius', 'servius', 'serwius', 'serxius', 'seryius', 'serzius', 'seroaus', 'serobus', 'serocus', 'serodus', 'seroeus', 'serofus', 'serogus', 'serohus', 'seroius', 'serojus', 'serokus', 'serolus', 'seromus', 'seronus', 'seroous', 'seropus', 'seroqus', 'serorus', 'serosus', 'serotus', 'serouus', 'serovus', 'serowus', 'seroxus', 'seroyus', 'serozus', 'seroias', 'seroibs', 'seroics', 'seroids', 'seroies', 'seroifs', 'seroigs', 'seroihs', 'seroiis', 'seroijs', 'seroiks', 'seroils', 'seroims', 'seroins', 'seroios', 'seroips', 'seroiqs', 'seroirs', 'seroiss', 'seroits', 'seroius', 'seroivs', 'seroiws', 'seroixs', 'seroiys', 'seroizs', 'seroiua', 'seroiub', 'seroiuc', 'seroiud', 'seroiue', 'seroiuf', 'seroiug', 'seroiuh', 'seroiui', 'seroiuj', 'seroiuk', 'seroiul', 'seroium', 'seroiun', 'seroiuo', 'seroiup', 'seroiuq', 'seroiur', 'seroius', 'seroiut', 'seroiuu', 'seroiuv', 'seroiuw', 'seroiux', 'seroiuy', 'seroiuz', 'seroiusa', 'seroiusb', 'seroiusc', 'seroiusd', 'seroiuse', 'seroiusf', 'seroiusg', 'seroiush', 'seroiusi', 'seroiusj', 'seroiusk', 'seroiusl', 'seroiusm', 'seroiusn', 'seroiuso', 'seroiusp', 'seroiusq', 'seroiusr', 'seroiuss', 'seroiust', 'seroiusu', 'seroiusv', 'seroiusw', 'seroiusx', 'seroiusy', 'seroiusz']\n",
      "['aseroius', 'bseroius', 'cseroius', 'dseroius', 'eseroius', 'fseroius', 'gseroius', 'hseroius', 'iseroius', 'jseroius', 'kseroius', 'lseroius', 'mseroius', 'nseroius', 'oseroius', 'pseroius', 'qseroius', 'rseroius', 'sseroius', 'tseroius', 'useroius', 'vseroius', 'wseroius', 'xseroius', 'yseroius', 'zseroius', 'saeroius', 'sberoius', 'sceroius', 'sderoius', 'seeroius', 'sferoius', 'sgeroius', 'sheroius', 'sieroius', 'sjeroius', 'skeroius', 'sleroius', 'smeroius', 'sneroius', 'soeroius', 'speroius', 'sqeroius', 'sreroius', 'sseroius', 'steroius', 'sueroius', 'sveroius', 'sweroius', 'sxeroius', 'syeroius', 'szeroius', 'searoius', 'sebroius', 'secroius', 'sedroius', 'seeroius', 'sefroius', 'segroius', 'sehroius', 'seiroius', 'sejroius', 'sekroius', 'selroius', 'semroius', 'senroius', 'seoroius', 'seproius', 'seqroius', 'serroius', 'sesroius', 'setroius', 'seuroius', 'sevroius', 'sewroius', 'sexroius', 'seyroius', 'sezroius', 'seraoius', 'serboius', 'sercoius', 'serdoius', 'sereoius', 'serfoius', 'sergoius', 'serhoius', 'serioius', 'serjoius', 'serkoius', 'serloius', 'sermoius', 'sernoius', 'serooius', 'serpoius', 'serqoius', 'serroius', 'sersoius', 'sertoius', 'seruoius', 'servoius', 'serwoius', 'serxoius', 'seryoius', 'serzoius', 'seroaius', 'serobius', 'serocius', 'serodius', 'seroeius', 'serofius', 'serogius', 'serohius', 'seroiius', 'serojius', 'serokius', 'serolius', 'seromius', 'seronius', 'serooius', 'seropius', 'seroqius', 'serorius', 'serosius', 'serotius', 'serouius', 'serovius', 'serowius', 'seroxius', 'seroyius', 'serozius', 'seroiaus', 'seroibus', 'seroicus', 'seroidus', 'seroieus', 'seroifus', 'seroigus', 'seroihus', 'seroiius', 'seroijus', 'seroikus', 'seroilus', 'seroimus', 'seroinus', 'seroious', 'seroipus', 'seroiqus', 'seroirus', 'seroisus', 'seroitus', 'seroiuus', 'seroivus', 'seroiwus', 'seroixus', 'seroiyus', 'seroizus', 'seroiuas', 'seroiubs', 'seroiucs', 'seroiuds', 'seroiues', 'seroiufs', 'seroiugs', 'seroiuhs', 'seroiuis', 'seroiujs', 'seroiuks', 'seroiuls', 'seroiums', 'seroiuns', 'seroiuos', 'seroiups', 'seroiuqs', 'seroiurs', 'seroiuss', 'seroiuts', 'seroiuus', 'seroiuvs', 'seroiuws', 'seroiuxs', 'seroiuys', 'seroiuzs', 'seroiusa', 'seroiusb', 'seroiusc', 'seroiusd', 'seroiuse', 'seroiusf', 'seroiusg', 'seroiush', 'seroiusi', 'seroiusj', 'seroiusk', 'seroiusl', 'seroiusm', 'seroiusn', 'seroiuso', 'seroiusp', 'seroiusq', 'seroiusr', 'seroiuss', 'seroiust', 'seroiusu', 'seroiusv', 'seroiusw', 'seroiusx', 'seroiusy', 'seroiusz']\n",
      "serious\n"
     ]
    }
   ],
   "source": [
    "ws = []\n",
    "num = int(input())\n",
    "for i in range(num):\n",
    "    text = input()\n",
    "    ws.append(text)\n",
    "    \n",
    "for word in ws:\n",
    "    word = word.strip().lower()\n",
    "    if word in Vocabulary:\n",
    "        output = word\n",
    "    else:\n",
    "        output = spellCheck(word)\n",
    "        \n",
    "    print(output)"
   ]
  },
  {
   "cell_type": "code",
   "execution_count": null,
   "metadata": {
    "collapsed": true
   },
   "outputs": [],
   "source": []
  }
 ],
 "metadata": {
  "kernelspec": {
   "display_name": "Python 3",
   "language": "python",
   "name": "python3"
  },
  "language_info": {
   "codemirror_mode": {
    "name": "ipython",
    "version": 3
   },
   "file_extension": ".py",
   "mimetype": "text/x-python",
   "name": "python",
   "nbconvert_exporter": "python",
   "pygments_lexer": "ipython3",
   "version": "3.6.3"
  }
 },
 "nbformat": 4,
 "nbformat_minor": 2
}
