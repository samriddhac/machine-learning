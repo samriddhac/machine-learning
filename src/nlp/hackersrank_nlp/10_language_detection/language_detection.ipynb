{
 "cells": [
  {
   "cell_type": "code",
   "execution_count": 56,
   "metadata": {
    "collapsed": true
   },
   "outputs": [],
   "source": [
    "documents = []\n",
    "with open('english_stopwords.txt', 'r', encoding='utf-8') as f:\n",
    "    text = f.read()\n",
    "    documents.append(\" \".join(text.split('\\n')))\n",
    "with open('german_stopwords.txt', 'r', encoding='utf-8') as f:\n",
    "    text = f.read()\n",
    "    documents.append(\" \".join(text.split('\\n')))\n",
    "with open('french_stopwords.txt', 'r', encoding='utf-8') as f:\n",
    "    text = f.read()\n",
    "    documents.append(\" \".join(text.split('\\n')))\n",
    "with open('spanish_stopwords.txt', 'r', encoding='utf-8') as f:\n",
    "    text = f.read()\n",
    "    documents.append(\" \".join(text.split('\\n')))\n",
    "with open('bengali_stopwords.txt', 'r', encoding='utf-8') as f:\n",
    "    text = f.read()\n",
    "    documents.append(\" \".join(text.split('\\n')))"
   ]
  },
  {
   "cell_type": "code",
   "execution_count": 57,
   "metadata": {},
   "outputs": [
    {
     "name": "stdout",
     "output_type": "stream",
     "text": [
      "বছর দুয়েক আগে ও পরে আমেরিকার বিপ্লবী যুদ্ধের পর রিপ ভ্যান উইঙ্কল ইতিহাস প্রতিষ্ঠিত হয় । নিউ ইয়র্কের Catskill পাহাড়ের পায়ে হেঁটেই একটি সুন্দর গ্রামে লাইভ পুলি রিপ ভ্যান উইঙ্কল, একটি ডাচ villager । ভ্যান উইঙ্কল নির্জন কাজকর্ম উপভোগ করে, কিন্তু শহরের সবাইকে ভালোবাসে — বিশেষ করে শিশুরা সে গল্প বলে এবং খেলনা দেয় । তবে এটা elude, তার স্ত্রীকে কষ্ট দেয়, যা তার বাড়ি ও খামারে পরিণত করেছে । এক শরতের দিন, স্ত্রীর অভিযোগ এড়িয়ে যাওয়ার জন্য ভ্যান উইঙ্কল তাঁর কুকুর, নেকড়ে নিয়ে পাহাড়ে ঘুরিয়া ওঠে । তার নাম চিৎকার, ডাচ সেকেলে কাপড় পরা একজন মানুষকে দেখে হারেন; সে পাহাড়ের উপর keg আছে আর তার সাহায্য দরকার । \n"
     ]
    }
   ],
   "source": [
    "input_text = input()\n",
    "documents.append(input_text.strip())"
   ]
  },
  {
   "cell_type": "code",
   "execution_count": 58,
   "metadata": {},
   "outputs": [
    {
     "name": "stdout",
     "output_type": "stream",
     "text": [
      "tf-idf matrix shape  (6, 709)\n",
      "0th document tf-idf values(with respect to features)    (0, 0)\t0.0549077959741\n"
     ]
    }
   ],
   "source": [
    "from sklearn.feature_extraction.text import TfidfVectorizer\n",
    "\n",
    "vectorizer = TfidfVectorizer()\n",
    "tf_idf = vectorizer.fit_transform(documents)\n",
    "\n",
    "feature_names = vectorizer.get_feature_names()\n",
    "#print('tf-idf matrix features ', feature_names)\n",
    "print('tf-idf matrix shape ', tf_idf.shape)\n",
    "print('0th document tf-idf values(with respect to features) ', tf_idf[:,2:3])"
   ]
  },
  {
   "cell_type": "code",
   "execution_count": 59,
   "metadata": {},
   "outputs": [
    {
     "name": "stdout",
     "output_type": "stream",
     "text": [
      "{'English': 0.0, 'German': 0.0, 'French': 0.0, 'Spanish': 0.0, 'Bangla': 0.30264002794208072}\n",
      "\n",
      "Bangla\n"
     ]
    }
   ],
   "source": [
    "from sklearn.metrics.pairwise import linear_kernel\n",
    "score_dict = {}\n",
    "\n",
    "eng_tf_idf = tf_idf[0:1]\n",
    "german_tf_idf = tf_idf[1:2]\n",
    "french_tf_idf = tf_idf[2:3]\n",
    "spanish_tf_idf = tf_idf[3:4]\n",
    "bengali_tf_idf = tf_idf[4:5]\n",
    "\n",
    "\n",
    "\n",
    "doc_tf_idf = tf_idf[5:6]\n",
    "\n",
    "score_dict['English'] = linear_kernel(eng_tf_idf, doc_tf_idf)[0][0]\n",
    "score_dict['German'] = linear_kernel(german_tf_idf, doc_tf_idf)[0][0]\n",
    "score_dict['French'] = linear_kernel(french_tf_idf, doc_tf_idf)[0][0]\n",
    "score_dict['Spanish'] = linear_kernel(spanish_tf_idf, doc_tf_idf)[0][0]\n",
    "score_dict['Bangla'] = linear_kernel(bengali_tf_idf, doc_tf_idf)[0][0]\n",
    "\n",
    "print(score_dict)\n",
    "\n",
    "match = ''\n",
    "max_score = -0.999\n",
    "for key, value in score_dict.items():\n",
    "    if value > max_score:\n",
    "        max_score = value\n",
    "        match = key\n",
    "\n",
    "print()\n",
    "print(match)"
   ]
  },
  {
   "cell_type": "code",
   "execution_count": null,
   "metadata": {
    "collapsed": true
   },
   "outputs": [],
   "source": []
  },
  {
   "cell_type": "code",
   "execution_count": null,
   "metadata": {
    "collapsed": true
   },
   "outputs": [],
   "source": []
  }
 ],
 "metadata": {
  "kernelspec": {
   "display_name": "Python 3",
   "language": "python",
   "name": "python3"
  },
  "language_info": {
   "codemirror_mode": {
    "name": "ipython",
    "version": 3
   },
   "file_extension": ".py",
   "mimetype": "text/x-python",
   "name": "python",
   "nbconvert_exporter": "python",
   "pygments_lexer": "ipython3",
   "version": "3.6.3"
  }
 },
 "nbformat": 4,
 "nbformat_minor": 2
}
