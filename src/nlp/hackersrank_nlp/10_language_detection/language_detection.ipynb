{
 "cells": [
  {
   "cell_type": "code",
   "execution_count": 38,
   "metadata": {
    "collapsed": true
   },
   "outputs": [],
   "source": [
    "documents = []\n",
    "with open('english_stopwords.txt', 'r', encoding='utf-8') as f:\n",
    "    text = f.read()\n",
    "    documents.append(\" \".join(text.split('\\n')))\n",
    "with open('german_stopwords.txt', 'r', encoding='utf-8') as f:\n",
    "    text = f.read()\n",
    "    documents.append(\" \".join(text.split('\\n')))\n",
    "with open('french_stopwords.txt', 'r', encoding='utf-8') as f:\n",
    "    text = f.read()\n",
    "    documents.append(\" \".join(text.split('\\n')))\n",
    "with open('spanish_stopwords.txt', 'r', encoding='utf-8') as f:\n",
    "    text = f.read()\n",
    "    documents.append(\" \".join(text.split('\\n')))"
   ]
  },
  {
   "cell_type": "code",
   "execution_count": 39,
   "metadata": {},
   "outputs": [
    {
     "name": "stdout",
     "output_type": "stream",
     "text": [
      "Geschichte von Rip Van Winkle ist in den Jahren vor und nach dem amerikanischen Unabhängigkeitskrieg gesetzt. In einem angenehmen Dorf, am Fuße des New Yorks Catskill Mountains, lebt freundlicherweise Rip Van Winkle, ein niederländischer Dorfbewohner. Van Winkle genießt einsame Aktivitäten in der Wildnis, aber er ist auch von allen in der Stadt geliebt-vor allem die Kinder, denen er erzählt Geschichten und gibt Spielzeug. Allerdings neigt er dazu, harte Arbeit zu entziehen, um seine quälende Frau Bestürzung, die seine Heimat und Bauernhof verursacht hat, in Unordnung fallen. Ein Herbsttag, um seiner Frau zu entkommen, wandert Van Winkle mit seinem Hund Wolf in die Berge. Als er seinen Namen hörte, sieht RIP einen Mann, der veraltete holländische Kleidung trägt; Er trägt ein Fass auf dem Berg und benötigt Hilfe.\n"
     ]
    }
   ],
   "source": [
    "input_text = input()\n",
    "documents.append(input_text.strip())"
   ]
  },
  {
   "cell_type": "code",
   "execution_count": 40,
   "metadata": {},
   "outputs": [
    {
     "name": "stdout",
     "output_type": "stream",
     "text": [
      "tf-idf matrix shape  (5, 624)\n",
      "0th document tf-idf values(with respect to features)    (0, 0)\t0.0549484673866\n"
     ]
    }
   ],
   "source": [
    "from sklearn.feature_extraction.text import TfidfVectorizer\n",
    "\n",
    "vectorizer = TfidfVectorizer()\n",
    "tf_idf = vectorizer.fit_transform(documents)\n",
    "\n",
    "feature_names = vectorizer.get_feature_names()\n",
    "#print('tf-idf matrix features ', feature_names)\n",
    "print('tf-idf matrix shape ', tf_idf.shape)\n",
    "print('0th document tf-idf values(with respect to features) ', tf_idf[:,2:3])"
   ]
  },
  {
   "cell_type": "code",
   "execution_count": 41,
   "metadata": {},
   "outputs": [
    {
     "name": "stdout",
     "output_type": "stream",
     "text": [
      "German\n"
     ]
    }
   ],
   "source": [
    "from sklearn.metrics.pairwise import linear_kernel\n",
    "score_dict = {}\n",
    "\n",
    "eng_tf_idf = tf_idf[0:1]\n",
    "german_tf_idf = tf_idf[1:2]\n",
    "french_tf_idf = tf_idf[2:3]\n",
    "spanish_tf_idf = tf_idf[3:4]\n",
    "\n",
    "\n",
    "\n",
    "doc_tf_idf = tf_idf[4:5]\n",
    "\n",
    "score_dict['English'] = linear_kernel(eng_tf_idf, doc_tf_idf)[0][0]\n",
    "score_dict['German'] = linear_kernel(german_tf_idf, doc_tf_idf)[0][0]\n",
    "score_dict['French'] = linear_kernel(french_tf_idf, doc_tf_idf)[0][0]\n",
    "score_dict['Spanish'] = linear_kernel(spanish_tf_idf, doc_tf_idf)[0][0]\n",
    "\n",
    "#print(score_dict)\n",
    "\n",
    "match = ''\n",
    "max_score = -0.999\n",
    "for key, value in score_dict.items():\n",
    "    if value > max_score:\n",
    "        max_score = value\n",
    "        match = key\n",
    "\n",
    "print(match)"
   ]
  },
  {
   "cell_type": "code",
   "execution_count": null,
   "metadata": {
    "collapsed": true
   },
   "outputs": [],
   "source": []
  },
  {
   "cell_type": "code",
   "execution_count": null,
   "metadata": {
    "collapsed": true
   },
   "outputs": [],
   "source": []
  }
 ],
 "metadata": {
  "kernelspec": {
   "display_name": "Python 3",
   "language": "python",
   "name": "python3"
  },
  "language_info": {
   "codemirror_mode": {
    "name": "ipython",
    "version": 3
   },
   "file_extension": ".py",
   "mimetype": "text/x-python",
   "name": "python",
   "nbconvert_exporter": "python",
   "pygments_lexer": "ipython3",
   "version": "3.6.3"
  }
 },
 "nbformat": 4,
 "nbformat_minor": 2
}
