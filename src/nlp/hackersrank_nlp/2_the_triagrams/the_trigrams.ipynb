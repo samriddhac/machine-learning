{
 "cells": [
  {
   "cell_type": "code",
   "execution_count": 26,
   "metadata": {},
   "outputs": [
    {
     "name": "stdout",
     "output_type": "stream",
     "text": [
      "I promised to look after a friends cat for the week. My place has a glass atrium that goes through two levels I have put the cat in there with enough food and water to last the week. I am looking forward to the end of the week. It is just sitting there glaring at me it doesnt do anything else. I can tell it would like to kill me. If I knew I could get a perfect replacement cat I would kill this one now and replace it Friday afternoon. As we sit here glaring at each other I have already worked out several ways to kill it. The simplest would be to drop heavy items on it from the upstairs bedroom though I have enough basic engineering knowledge to assume that I could build some form of spear like projectile device from parts in the downstairs shed. If the atrium was waterproof the most entertaining would be to flood it with water. It wouldnt have to be that deep just deeper than the cat. I dont know how long cats can swim but I doubt it would be for a whole week. If it kept the swimming up for too long I could always try dropping things on it as well. I have read that drowning is one of the most peaceful ways to die so really it would be a win win situation for me and the cat I think. My offsprings birthday is next week. Last birthday I told him to draw pictures of what he wanted as a visual list. When I inquired as to one image which I first took to be a box of coloured crayons I deciphered his explanations as it being tampons. In particular the multicoloured brand. His only references to the product were the adverts featuring a girl jumping out of a window onto a tree which lowered her into a bmw convertible full of friends an electric green street racing car with black flames and the ability to do a single handed handstand starjump on a dance machine to crowd applause. I bought him a box and figured he would work it out. Yesterday I asked him what he wants for his birthday and he replied not tampons. My offsprings birthday is next week. Last birthday I told him to draw pictures of what he wanted as a visual list. When I inquired as to one image which I first took to be a box of coloured crayons I deciphered his explanations as it being tampons. In particular the multicoloured brand. His only references to the product were the adverts featuring a girl jumping out of a window onto a tree which lowered her into a bmw convertible full of friends an electric green street racing car with black flames and the ability to do a single handed handstand starjump on a dance machine to crowd applause. I bought him a box and figured he would work it out. Yesterday I asked him what he wants for his birthday and he replied not tampons. At the local swimming pool canteen not realising until afterwards that my cat was caught in the elastic of my swimming shorts with the tip sticking out I purchased a packet of twisties and a can of coke before asking out the cat who served me but she said no. I love you I. love you. I love. you.\n"
     ]
    }
   ],
   "source": [
    "texts = input().strip()\n",
    "sentence_punct_splitter = ['.', '?']"
   ]
  },
  {
   "cell_type": "code",
   "execution_count": 27,
   "metadata": {},
   "outputs": [
    {
     "name": "stdout",
     "output_type": "stream",
     "text": [
      "['i promised to look after a friends cat for the week', 'my place has a glass atrium that goes through two levels i have put the cat in there with enough food and water to last the week', 'i am looking forward to the end of the week', 'it is just sitting there glaring at me it doesnt do anything else', 'i can tell it would like to kill me', 'if i knew i could get a perfect replacement cat i would kill this one now and replace it friday afternoon', 'as we sit here glaring at each other i have already worked out several ways to kill it', 'the simplest would be to drop heavy items on it from the upstairs bedroom though i have enough basic engineering knowledge to assume that i could build some form of spear like projectile device from parts in the downstairs shed', 'if the atrium was waterproof the most entertaining would be to flood it with water', 'it wouldnt have to be that deep just deeper than the cat', 'i dont know how long cats can swim but i doubt it would be for a whole week', 'if it kept the swimming up for too long i could always try dropping things on it as well', 'i have read that drowning is one of the most peaceful ways to die so really it would be a win win situation for me and the cat i think', 'my offsprings birthday is next week', 'last birthday i told him to draw pictures of what he wanted as a visual list', 'when i inquired as to one image which i first took to be a box of coloured crayons i deciphered his explanations as it being tampons', 'in particular the multicoloured brand', 'his only references to the product were the adverts featuring a girl jumping out of a window onto a tree which lowered her into a bmw convertible full of friends an electric green street racing car with black flames and the ability to do a single handed handstand starjump on a dance machine to crowd applause', 'i bought him a box and figured he would work it out', 'yesterday i asked him what he wants for his birthday and he replied not tampons', 'my offsprings birthday is next week', 'last birthday i told him to draw pictures of what he wanted as a visual list', 'when i inquired as to one image which i first took to be a box of coloured crayons i deciphered his explanations as it being tampons', 'in particular the multicoloured brand', 'his only references to the product were the adverts featuring a girl jumping out of a window onto a tree which lowered her into a bmw convertible full of friends an electric green street racing car with black flames and the ability to do a single handed handstand starjump on a dance machine to crowd applause', 'i bought him a box and figured he would work it out', 'yesterday i asked him what he wants for his birthday and he replied not tampons', 'at the local swimming pool canteen not realising until afterwards that my cat was caught in the elastic of my swimming shorts with the tip sticking out i purchased a packet of twisties and a can of coke before asking out the cat who served me but she said no', 'i love you i', 'love you', 'i love', 'you', '']\n"
     ]
    }
   ],
   "source": [
    "def split_sentences(texts):\n",
    "    sents = texts.split('\\n')\n",
    "    for char in sentence_punct_splitter:\n",
    "        s_array = []\n",
    "        for s in sents:\n",
    "            s_split = s.split(char)\n",
    "            s_array = s_array + [s_item.strip().lower() for s_item in s_split]\n",
    "        sents = s_array\n",
    "    return sents\n",
    "\n",
    "sentences = split_sentences(texts)\n",
    "print(sentences)"
   ]
  },
  {
   "cell_type": "code",
   "execution_count": 28,
   "metadata": {},
   "outputs": [
    {
     "name": "stdout",
     "output_type": "stream",
     "text": [
      "{'i promised to': 1, 'promised to look': 1, 'to look after': 1, 'look after a': 1, 'after a friends': 1, 'a friends cat': 1, 'friends cat for': 1, 'cat for the': 1, 'for the week': 1, 'my place has': 1, 'place has a': 1, 'has a glass': 1, 'a glass atrium': 1, 'glass atrium that': 1, 'atrium that goes': 1, 'that goes through': 1, 'goes through two': 1, 'through two levels': 1, 'two levels i': 1, 'levels i have': 1, 'i have put': 1, 'have put the': 1, 'put the cat': 1, 'the cat in': 1, 'cat in there': 1, 'in there with': 1, 'there with enough': 1, 'with enough food': 1, 'enough food and': 1, 'food and water': 1, 'and water to': 1, 'water to last': 1, 'to last the': 1, 'last the week': 1, 'i am looking': 1, 'am looking forward': 1, 'looking forward to': 1, 'forward to the': 1, 'to the end': 1, 'the end of': 1, 'end of the': 1, 'of the week': 1, 'it is just': 1, 'is just sitting': 1, 'just sitting there': 1, 'sitting there glaring': 1, 'there glaring at': 1, 'glaring at me': 1, 'at me it': 1, 'me it doesnt': 1, 'it doesnt do': 1, 'doesnt do anything': 1, 'do anything else': 1, 'i can tell': 1, 'can tell it': 1, 'tell it would': 1, 'it would like': 1, 'would like to': 1, 'like to kill': 1, 'to kill me': 1, 'if i knew': 1, 'i knew i': 1, 'knew i could': 1, 'i could get': 1, 'could get a': 1, 'get a perfect': 1, 'a perfect replacement': 1, 'perfect replacement cat': 1, 'replacement cat i': 1, 'cat i would': 1, 'i would kill': 1, 'would kill this': 1, 'kill this one': 1, 'this one now': 1, 'one now and': 1, 'now and replace': 1, 'and replace it': 1, 'replace it friday': 1, 'it friday afternoon': 1, 'as we sit': 1, 'we sit here': 1, 'sit here glaring': 1, 'here glaring at': 1, 'glaring at each': 1, 'at each other': 1, 'each other i': 1, 'other i have': 1, 'i have already': 1, 'have already worked': 1, 'already worked out': 1, 'worked out several': 1, 'out several ways': 1, 'several ways to': 1, 'ways to kill': 1, 'to kill it': 1, 'the simplest would': 1, 'simplest would be': 1, 'would be to': 2, 'be to drop': 1, 'to drop heavy': 1, 'drop heavy items': 1, 'heavy items on': 1, 'items on it': 1, 'on it from': 1, 'it from the': 1, 'from the upstairs': 1, 'the upstairs bedroom': 1, 'upstairs bedroom though': 1, 'bedroom though i': 1, 'though i have': 1, 'i have enough': 1, 'have enough basic': 1, 'enough basic engineering': 1, 'basic engineering knowledge': 1, 'engineering knowledge to': 1, 'knowledge to assume': 1, 'to assume that': 1, 'assume that i': 1, 'that i could': 1, 'i could build': 1, 'could build some': 1, 'build some form': 1, 'some form of': 1, 'form of spear': 1, 'of spear like': 1, 'spear like projectile': 1, 'like projectile device': 1, 'projectile device from': 1, 'device from parts': 1, 'from parts in': 1, 'parts in the': 1, 'in the downstairs': 1, 'the downstairs shed': 1, 'if the atrium': 1, 'the atrium was': 1, 'atrium was waterproof': 1, 'was waterproof the': 1, 'waterproof the most': 1, 'the most entertaining': 1, 'most entertaining would': 1, 'entertaining would be': 1, 'be to flood': 1, 'to flood it': 1, 'flood it with': 1, 'it with water': 1, 'it wouldnt have': 1, 'wouldnt have to': 1, 'have to be': 1, 'to be that': 1, 'be that deep': 1, 'that deep just': 1, 'deep just deeper': 1, 'just deeper than': 1, 'deeper than the': 1, 'than the cat': 1, 'i dont know': 1, 'dont know how': 1, 'know how long': 1, 'how long cats': 1, 'long cats can': 1, 'cats can swim': 1, 'can swim but': 1, 'swim but i': 1, 'but i doubt': 1, 'i doubt it': 1, 'doubt it would': 1, 'it would be': 2, 'would be for': 1, 'be for a': 1, 'for a whole': 1, 'a whole week': 1, 'if it kept': 1, 'it kept the': 1, 'kept the swimming': 1, 'the swimming up': 1, 'swimming up for': 1, 'up for too': 1, 'for too long': 1, 'too long i': 1, 'long i could': 1, 'i could always': 1, 'could always try': 1, 'always try dropping': 1, 'try dropping things': 1, 'dropping things on': 1, 'things on it': 1, 'on it as': 1, 'it as well': 1, 'i have read': 1, 'have read that': 1, 'read that drowning': 1, 'that drowning is': 1, 'drowning is one': 1, 'is one of': 1, 'one of the': 1, 'of the most': 1, 'the most peaceful': 1, 'most peaceful ways': 1, 'peaceful ways to': 1, 'ways to die': 1, 'to die so': 1, 'die so really': 1, 'so really it': 1, 'really it would': 1, 'would be a': 1, 'be a win': 1, 'a win win': 1, 'win win situation': 1, 'win situation for': 1, 'situation for me': 1, 'for me and': 1, 'me and the': 1, 'and the cat': 1, 'the cat i': 1, 'cat i think': 1, 'my offsprings birthday': 2, 'offsprings birthday is': 2, 'birthday is next': 2, 'is next week': 2, 'last birthday i': 2, 'birthday i told': 2, 'i told him': 2, 'told him to': 2, 'him to draw': 2, 'to draw pictures': 2, 'draw pictures of': 2, 'pictures of what': 2, 'of what he': 2, 'what he wanted': 2, 'he wanted as': 2, 'wanted as a': 2, 'as a visual': 2, 'a visual list': 2, 'when i inquired': 2, 'i inquired as': 2, 'inquired as to': 2, 'as to one': 2, 'to one image': 2, 'one image which': 2, 'image which i': 2, 'which i first': 2, 'i first took': 2, 'first took to': 2, 'took to be': 2, 'to be a': 2, 'be a box': 2, 'a box of': 2, 'box of coloured': 2, 'of coloured crayons': 2, 'coloured crayons i': 2, 'crayons i deciphered': 2, 'i deciphered his': 2, 'deciphered his explanations': 2, 'his explanations as': 2, 'explanations as it': 2, 'as it being': 2, 'it being tampons': 2, 'in particular the': 2, 'particular the multicoloured': 2, 'the multicoloured brand': 2, 'his only references': 2, 'only references to': 2, 'references to the': 2, 'to the product': 2, 'the product were': 2, 'product were the': 2, 'were the adverts': 2, 'the adverts featuring': 2, 'adverts featuring a': 2, 'featuring a girl': 2, 'a girl jumping': 2, 'girl jumping out': 2, 'jumping out of': 2, 'out of a': 2, 'of a window': 2, 'a window onto': 2, 'window onto a': 2, 'onto a tree': 2, 'a tree which': 2, 'tree which lowered': 2, 'which lowered her': 2, 'lowered her into': 2, 'her into a': 2, 'into a bmw': 2, 'a bmw convertible': 2, 'bmw convertible full': 2, 'convertible full of': 2, 'full of friends': 2, 'of friends an': 2, 'friends an electric': 2, 'an electric green': 2, 'electric green street': 2, 'green street racing': 2, 'street racing car': 2, 'racing car with': 2, 'car with black': 2, 'with black flames': 2, 'black flames and': 2, 'flames and the': 2, 'and the ability': 2, 'the ability to': 2, 'ability to do': 2, 'to do a': 2, 'do a single': 2, 'a single handed': 2, 'single handed handstand': 2, 'handed handstand starjump': 2, 'handstand starjump on': 2, 'starjump on a': 2, 'on a dance': 2, 'a dance machine': 2, 'dance machine to': 2, 'machine to crowd': 2, 'to crowd applause': 2, 'i bought him': 2, 'bought him a': 2, 'him a box': 2, 'a box and': 2, 'box and figured': 2, 'and figured he': 2, 'figured he would': 2, 'he would work': 2, 'would work it': 2, 'work it out': 2, 'yesterday i asked': 2, 'i asked him': 2, 'asked him what': 2, 'him what he': 2, 'what he wants': 2, 'he wants for': 2, 'wants for his': 2, 'for his birthday': 2, 'his birthday and': 2, 'birthday and he': 2, 'and he replied': 2, 'he replied not': 2, 'replied not tampons': 2, 'at the local': 1, 'the local swimming': 1, 'local swimming pool': 1, 'swimming pool canteen': 1, 'pool canteen not': 1, 'canteen not realising': 1, 'not realising until': 1, 'realising until afterwards': 1, 'until afterwards that': 1, 'afterwards that my': 1, 'that my cat': 1, 'my cat was': 1, 'cat was caught': 1, 'was caught in': 1, 'caught in the': 1, 'in the elastic': 1, 'the elastic of': 1, 'elastic of my': 1, 'of my swimming': 1, 'my swimming shorts': 1, 'swimming shorts with': 1, 'shorts with the': 1, 'with the tip': 1, 'the tip sticking': 1, 'tip sticking out': 1, 'sticking out i': 1, 'out i purchased': 1, 'i purchased a': 1, 'purchased a packet': 1, 'a packet of': 1, 'packet of twisties': 1, 'of twisties and': 1, 'twisties and a': 1, 'and a can': 1, 'a can of': 1, 'can of coke': 1, 'of coke before': 1, 'coke before asking': 1, 'before asking out': 1, 'asking out the': 1, 'out the cat': 1, 'the cat who': 1, 'cat who served': 1, 'who served me': 1, 'served me but': 1, 'me but she': 1, 'but she said': 1, 'she said no': 1, 'i love you': 1, 'love you i': 1}\n",
      "would be to   2\n"
     ]
    }
   ],
   "source": [
    "triagram_dict = {}\n",
    "max_triagrams = 0\n",
    "max_triagram_text = ''\n",
    "for sentence in sentences:\n",
    "    words = sentence.split()\n",
    "    for i in range(0, len(words)-2):\n",
    "        tri = words[i] + ' '+ words[i+1] + ' ' + words[i+2]\n",
    "        if tri in triagram_dict:\n",
    "            triagram_dict[tri] +=1\n",
    "        else:\n",
    "            triagram_dict[tri] = 1\n",
    "\n",
    "for item, value in triagram_dict.items():\n",
    "    if value>max_triagrams:\n",
    "        max_triagrams = value\n",
    "        max_triagram_text = item\n",
    "\n",
    "print(triagram_dict)\n",
    "print(max_triagram_text , ' ', max_triagrams)        "
   ]
  },
  {
   "cell_type": "code",
   "execution_count": null,
   "metadata": {
    "collapsed": true
   },
   "outputs": [],
   "source": []
  }
 ],
 "metadata": {
  "kernelspec": {
   "display_name": "Python 3",
   "language": "python",
   "name": "python3"
  },
  "language_info": {
   "codemirror_mode": {
    "name": "ipython",
    "version": 3
   },
   "file_extension": ".py",
   "mimetype": "text/x-python",
   "name": "python",
   "nbconvert_exporter": "python",
   "pygments_lexer": "ipython3",
   "version": "3.6.3"
  }
 },
 "nbformat": 4,
 "nbformat_minor": 2
}
