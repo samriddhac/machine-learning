{
 "cells": [
  {
   "cell_type": "code",
   "execution_count": 2,
   "metadata": {},
   "outputs": [
    {
     "name": "stdout",
     "output_type": "stream",
     "text": [
      "['AIDS', 'AM', 'African', 'African-American', 'American', 'Arab', 'Asian', 'Bible', 'British', 'CEO']\n"
     ]
    }
   ],
   "source": [
    "with open('words.txt', 'r', encoding='UTF-8') as f:\n",
    "    words = sorted(set(f.read().split()))\n",
    "\n",
    "print(words[:10])"
   ]
  },
  {
   "cell_type": "code",
   "execution_count": 3,
   "metadata": {
    "collapsed": true
   },
   "outputs": [],
   "source": [
    "import re\n"
   ]
  },
  {
   "cell_type": "code",
   "execution_count": 29,
   "metadata": {},
   "outputs": [],
   "source": [
    "regexp = [re.compile(r'\\d+(?:\\.\\d+)?')]\n",
    "for w in words:\n",
    "    regexp.append(re.compile(w, flags=re.IGNORECASE))"
   ]
  },
  {
   "cell_type": "code",
   "execution_count": 31,
   "metadata": {},
   "outputs": [
    {
     "data": {
      "text/plain": [
       "[re.compile(r'\\d+(?:\\.\\d+)?', re.UNICODE),\n",
       " re.compile(r'AIDS', re.IGNORECASE|re.UNICODE),\n",
       " re.compile(r'AM', re.IGNORECASE|re.UNICODE),\n",
       " re.compile(r'African', re.IGNORECASE|re.UNICODE),\n",
       " re.compile(r'African-American', re.IGNORECASE|re.UNICODE),\n",
       " re.compile(r'American', re.IGNORECASE|re.UNICODE),\n",
       " re.compile(r'Arab', re.IGNORECASE|re.UNICODE),\n",
       " re.compile(r'Asian', re.IGNORECASE|re.UNICODE),\n",
       " re.compile(r'Bible', re.IGNORECASE|re.UNICODE),\n",
       " re.compile(r'British', re.IGNORECASE|re.UNICODE),\n",
       " re.compile(r'CEO', re.IGNORECASE|re.UNICODE)]"
      ]
     },
     "execution_count": 31,
     "metadata": {},
     "output_type": "execute_result"
    }
   ],
   "source": [
    "regexp[:11]"
   ]
  },
  {
   "cell_type": "code",
   "execution_count": 41,
   "metadata": {
    "collapsed": true
   },
   "outputs": [],
   "source": [
    "def split_data(line, tokens):\n",
    "    if not line:\n",
    "        return tokens\n",
    "    else:\n",
    "        for reg in regexp:\n",
    "            m = reg.match(line)\n",
    "            if m:\n",
    "                matched = m.group(0)\n",
    "                suffix = line[len(matched):]\n",
    "                new_tokens = tokens + [matched]\n",
    "                ans = split_data(suffix, new_tokens)\n",
    "                if ans:\n",
    "                    return ans\n",
    "    return None"
   ]
  },
  {
   "cell_type": "code",
   "execution_count": 45,
   "metadata": {},
   "outputs": [
    {
     "name": "stdout",
     "output_type": "stream",
     "text": [
      "2\n",
      "#iamhappy\n",
      "i am happy\n",
      "www.iamsad.com\n",
      "i am sad\n"
     ]
    }
   ],
   "source": [
    "test_num = int(input())\n",
    "for n in range(test_num):\n",
    "    raw_data = input()\n",
    "    line = ''\n",
    "    if raw_data[0] == '#':\n",
    "        line = raw_data[1:]\n",
    "    else:\n",
    "        m = re.findall(r'(?:www\\.)?(\\w+)\\..*', raw_data)\n",
    "        if m:\n",
    "            line = m[0]\n",
    "    ans = split_data(line, [])\n",
    "    if ans:\n",
    "        print(' '.join(ans))\n",
    "    else:\n",
    "        print(raw_data)"
   ]
  },
  {
   "cell_type": "code",
   "execution_count": null,
   "metadata": {
    "collapsed": true
   },
   "outputs": [],
   "source": []
  }
 ],
 "metadata": {
  "kernelspec": {
   "display_name": "Python 3",
   "language": "python",
   "name": "python3"
  },
  "language_info": {
   "codemirror_mode": {
    "name": "ipython",
    "version": 3
   },
   "file_extension": ".py",
   "mimetype": "text/x-python",
   "name": "python",
   "nbconvert_exporter": "python",
   "pygments_lexer": "ipython3",
   "version": "3.6.3"
  }
 },
 "nbformat": 4,
 "nbformat_minor": 2
}
