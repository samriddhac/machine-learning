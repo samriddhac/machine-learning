{
 "cells": [
  {
   "cell_type": "markdown",
   "metadata": {},
   "source": [
    "# Problem 1"
   ]
  },
  {
   "cell_type": "code",
   "execution_count": 1,
   "metadata": {},
   "outputs": [
    {
     "name": "stderr",
     "output_type": "stream",
     "text": [
      "Using TensorFlow backend.\n"
     ]
    }
   ],
   "source": [
    "from sklearn.feature_extraction.text import TfidfVectorizer\n",
    "from sklearn.model_selection import train_test_split\n",
    "from keras.models import Sequential\n",
    "from keras.layers import Dense, Dropout, Activation\n",
    "from keras.utils import to_categorical\n",
    "import pandas as pd\n",
    "import numpy as np\n",
    "import matplotlib.pyplot as plt"
   ]
  },
  {
   "cell_type": "code",
   "execution_count": 2,
   "metadata": {
    "collapsed": true
   },
   "outputs": [],
   "source": [
    "dataset = pd.read_csv('Sheet_1.csv')"
   ]
  },
  {
   "cell_type": "code",
   "execution_count": 74,
   "metadata": {
    "collapsed": true
   },
   "outputs": [],
   "source": [
    "x_col = dataset.iloc[1:, 2] \n",
    "y_col = dataset.iloc[1:, 1] "
   ]
  },
  {
   "cell_type": "code",
   "execution_count": 75,
   "metadata": {},
   "outputs": [
    {
     "name": "stdout",
     "output_type": "stream",
     "text": [
      "[1 1 0 0 0 1 1 0 1 0 1 0 0 0 1 0 0 0 0 0 1 1 0 0 1 1 0 1 0 0 0 0 0 0 0 1 0\n",
      " 1 0 1 0 0 0 0 0 0 0 1 0 0 1 0 0 0 0 0 1 0 1 0 1 0 0 1 0 0 0 0 0 0 0 1 0 1\n",
      " 0 1 0 1 0]\n"
     ]
    }
   ],
   "source": [
    "num_classes = len(list(set(y_col)))\n",
    "y_int_to_label = {idx:label for idx,label in enumerate(set(y_col))}\n",
    "y_label_to_int = {label:idx for idx,label in enumerate(set(y_col))}\n",
    "y_int = np.array([y_label_to_int[label] for label in y_col])\n",
    "print(y_int)"
   ]
  },
  {
   "cell_type": "code",
   "execution_count": 76,
   "metadata": {
    "collapsed": true
   },
   "outputs": [],
   "source": [
    "vectorizer = TfidfVectorizer()\n",
    "x_vect = vectorizer.fit_transform(x_col)\n",
    "y_vect = to_categorical(y_int)\n",
    "\n",
    "print(y_vect)"
   ]
  },
  {
   "cell_type": "code",
   "execution_count": 77,
   "metadata": {
    "collapsed": true
   },
   "outputs": [],
   "source": [
    "x_train, x_test, y_train, y_test = train_test_split(x_vect, y_vect, test_size=0.3)"
   ]
  },
  {
   "cell_type": "code",
   "execution_count": 78,
   "metadata": {},
   "outputs": [
    {
     "name": "stdout",
     "output_type": "stream",
     "text": [
      "_________________________________________________________________\n",
      "Layer (type)                 Output Shape              Param #   \n",
      "=================================================================\n",
      "dense_23 (Dense)             (None, 128)               84224     \n",
      "_________________________________________________________________\n",
      "dropout_17 (Dropout)         (None, 128)               0         \n",
      "_________________________________________________________________\n",
      "dense_24 (Dense)             (None, 64)                8256      \n",
      "_________________________________________________________________\n",
      "dropout_18 (Dropout)         (None, 64)                0         \n",
      "_________________________________________________________________\n",
      "dense_25 (Dense)             (None, 2)                 130       \n",
      "=================================================================\n",
      "Total params: 92,610\n",
      "Trainable params: 92,610\n",
      "Non-trainable params: 0\n",
      "_________________________________________________________________\n"
     ]
    }
   ],
   "source": [
    "model = Sequential()\n",
    "model.add(Dense(128, activation='tanh', input_dim=x_vect.shape[1]))\n",
    "model.add(Dropout(0.2))\n",
    "model.add(Dense(64, activation='tanh'))\n",
    "model.add(Dropout(0.1))\n",
    "model.add(Dense(num_classes, activation='softmax'))\n",
    "\n",
    "model.compile(loss='categorical_crossentropy', optimizer='adam', metrics=['accuracy'])\n",
    "model.summary()"
   ]
  },
  {
   "cell_type": "code",
   "execution_count": 79,
   "metadata": {},
   "outputs": [
    {
     "name": "stdout",
     "output_type": "stream",
     "text": [
      "Train on 41 samples, validate on 14 samples\n",
      "Epoch 1/50\n",
      " - 1s - loss: 0.6766 - acc: 0.5610 - val_loss: 0.6668 - val_acc: 0.5714\n",
      "Epoch 2/50\n",
      " - 0s - loss: 0.5901 - acc: 0.8780 - val_loss: 0.6615 - val_acc: 0.5714\n",
      "Epoch 3/50\n",
      " - 0s - loss: 0.5214 - acc: 0.8537 - val_loss: 0.6575 - val_acc: 0.5714\n",
      "Epoch 4/50\n",
      " - 0s - loss: 0.4438 - acc: 0.9024 - val_loss: 0.6547 - val_acc: 0.5714\n",
      "Epoch 5/50\n",
      " - 0s - loss: 0.3624 - acc: 1.0000 - val_loss: 0.6555 - val_acc: 0.5714\n",
      "Epoch 6/50\n",
      " - 0s - loss: 0.2979 - acc: 0.9756 - val_loss: 0.6612 - val_acc: 0.5714\n",
      "Epoch 7/50\n",
      " - 0s - loss: 0.2214 - acc: 1.0000 - val_loss: 0.6677 - val_acc: 0.6429\n",
      "Epoch 8/50\n",
      " - 0s - loss: 0.1610 - acc: 1.0000 - val_loss: 0.6710 - val_acc: 0.5714\n",
      "Epoch 9/50\n",
      " - 0s - loss: 0.1018 - acc: 1.0000 - val_loss: 0.6861 - val_acc: 0.6429\n",
      "Epoch 10/50\n",
      " - 0s - loss: 0.0688 - acc: 1.0000 - val_loss: 0.7062 - val_acc: 0.6429\n",
      "Epoch 11/50\n",
      " - 0s - loss: 0.0462 - acc: 1.0000 - val_loss: 0.7254 - val_acc: 0.6429\n",
      "Epoch 12/50\n",
      " - 0s - loss: 0.0314 - acc: 1.0000 - val_loss: 0.7444 - val_acc: 0.6429\n",
      "Epoch 13/50\n",
      " - 0s - loss: 0.0219 - acc: 1.0000 - val_loss: 0.7631 - val_acc: 0.6429\n",
      "Epoch 14/50\n",
      " - 0s - loss: 0.0168 - acc: 1.0000 - val_loss: 0.7854 - val_acc: 0.6429\n",
      "Epoch 15/50\n",
      " - 0s - loss: 0.0140 - acc: 1.0000 - val_loss: 0.8045 - val_acc: 0.6429\n",
      "Epoch 16/50\n",
      " - 0s - loss: 0.0100 - acc: 1.0000 - val_loss: 0.8193 - val_acc: 0.5714\n",
      "Epoch 17/50\n",
      " - 0s - loss: 0.0090 - acc: 1.0000 - val_loss: 0.8319 - val_acc: 0.5714\n",
      "Epoch 18/50\n",
      " - 0s - loss: 0.0074 - acc: 1.0000 - val_loss: 0.8411 - val_acc: 0.5714\n",
      "Epoch 19/50\n",
      " - 0s - loss: 0.0058 - acc: 1.0000 - val_loss: 0.8490 - val_acc: 0.5714\n",
      "Epoch 20/50\n",
      " - 0s - loss: 0.0053 - acc: 1.0000 - val_loss: 0.8576 - val_acc: 0.5714\n",
      "Epoch 21/50\n",
      " - 0s - loss: 0.0053 - acc: 1.0000 - val_loss: 0.8655 - val_acc: 0.5714\n",
      "Epoch 22/50\n",
      " - 0s - loss: 0.0040 - acc: 1.0000 - val_loss: 0.8723 - val_acc: 0.5714\n",
      "Epoch 23/50\n",
      " - 0s - loss: 0.0041 - acc: 1.0000 - val_loss: 0.8784 - val_acc: 0.5714\n",
      "Epoch 24/50\n",
      " - 0s - loss: 0.0037 - acc: 1.0000 - val_loss: 0.8846 - val_acc: 0.5714\n",
      "Epoch 25/50\n",
      " - 0s - loss: 0.0031 - acc: 1.0000 - val_loss: 0.8904 - val_acc: 0.5714\n",
      "Epoch 26/50\n",
      " - 0s - loss: 0.0029 - acc: 1.0000 - val_loss: 0.8961 - val_acc: 0.5714\n",
      "Epoch 27/50\n",
      " - 0s - loss: 0.0031 - acc: 1.0000 - val_loss: 0.9022 - val_acc: 0.5714\n",
      "Epoch 28/50\n",
      " - 0s - loss: 0.0021 - acc: 1.0000 - val_loss: 0.9081 - val_acc: 0.5714\n",
      "Epoch 29/50\n",
      " - 0s - loss: 0.0025 - acc: 1.0000 - val_loss: 0.9139 - val_acc: 0.5714\n",
      "Epoch 30/50\n",
      " - 0s - loss: 0.0024 - acc: 1.0000 - val_loss: 0.9193 - val_acc: 0.5714\n",
      "Epoch 31/50\n",
      " - 0s - loss: 0.0021 - acc: 1.0000 - val_loss: 0.9244 - val_acc: 0.5714\n",
      "Epoch 32/50\n",
      " - 0s - loss: 0.0020 - acc: 1.0000 - val_loss: 0.9296 - val_acc: 0.5714\n",
      "Epoch 33/50\n",
      " - 0s - loss: 0.0016 - acc: 1.0000 - val_loss: 0.9348 - val_acc: 0.5714\n",
      "Epoch 34/50\n",
      " - 0s - loss: 0.0019 - acc: 1.0000 - val_loss: 0.9409 - val_acc: 0.5714\n",
      "Epoch 35/50\n",
      " - 0s - loss: 0.0017 - acc: 1.0000 - val_loss: 0.9466 - val_acc: 0.5714\n",
      "Epoch 36/50\n",
      " - 0s - loss: 0.0014 - acc: 1.0000 - val_loss: 0.9516 - val_acc: 0.5714\n",
      "Epoch 37/50\n",
      " - 0s - loss: 0.0014 - acc: 1.0000 - val_loss: 0.9562 - val_acc: 0.5714\n",
      "Epoch 38/50\n",
      " - 0s - loss: 0.0016 - acc: 1.0000 - val_loss: 0.9600 - val_acc: 0.5714\n",
      "Epoch 39/50\n",
      " - 0s - loss: 0.0013 - acc: 1.0000 - val_loss: 0.9636 - val_acc: 0.5714\n",
      "Epoch 40/50\n",
      " - 0s - loss: 0.0013 - acc: 1.0000 - val_loss: 0.9672 - val_acc: 0.5714\n",
      "Epoch 41/50\n",
      " - 0s - loss: 0.0013 - acc: 1.0000 - val_loss: 0.9711 - val_acc: 0.5714\n",
      "Epoch 42/50\n",
      " - 0s - loss: 0.0011 - acc: 1.0000 - val_loss: 0.9751 - val_acc: 0.5714\n",
      "Epoch 43/50\n",
      " - 0s - loss: 0.0013 - acc: 1.0000 - val_loss: 0.9789 - val_acc: 0.5714\n",
      "Epoch 44/50\n",
      " - 0s - loss: 0.0012 - acc: 1.0000 - val_loss: 0.9823 - val_acc: 0.5714\n",
      "Epoch 45/50\n",
      " - 0s - loss: 0.0011 - acc: 1.0000 - val_loss: 0.9858 - val_acc: 0.5714\n",
      "Epoch 46/50\n",
      " - 0s - loss: 0.0011 - acc: 1.0000 - val_loss: 0.9894 - val_acc: 0.5714\n",
      "Epoch 47/50\n",
      " - 0s - loss: 9.1335e-04 - acc: 1.0000 - val_loss: 0.9925 - val_acc: 0.5714\n",
      "Epoch 48/50\n",
      " - 0s - loss: 9.1853e-04 - acc: 1.0000 - val_loss: 0.9952 - val_acc: 0.5714\n",
      "Epoch 49/50\n",
      " - 0s - loss: 8.1778e-04 - acc: 1.0000 - val_loss: 0.9987 - val_acc: 0.5714\n",
      "Epoch 50/50\n",
      " - 0s - loss: 9.0888e-04 - acc: 1.0000 - val_loss: 1.0025 - val_acc: 0.5714\n"
     ]
    }
   ],
   "source": [
    "num_epochs=50\n",
    "hist = model.fit(x_train, y_train, batch_size=10, epochs=num_epochs, verbose=2, validation_split=0.25)"
   ]
  },
  {
   "cell_type": "code",
   "execution_count": 80,
   "metadata": {},
   "outputs": [
    {
     "data": {
      "image/png": "[encoded data removed]",
      "text/plain": [
       "<matplotlib.figure.Figure at 0x27617b23f98>"
      ]
     },
     "metadata": {},
     "output_type": "display_data"
    }
   ],
   "source": [
    "train_loss = hist.history['loss']\n",
    "val_loss   = hist.history['val_loss']\n",
    "train_acc  = hist.history['acc']\n",
    "val_acc    = hist.history['val_acc']\n",
    "xc         = range(num_epochs)\n",
    "plt.figure()\n",
    "plt.plot(xc, train_loss, color='red')\n",
    "plt.plot(xc, val_loss, color='green')\n",
    "plt.show()"
   ]
  },
  {
   "cell_type": "code",
   "execution_count": 81,
   "metadata": {},
   "outputs": [
    {
     "name": "stdout",
     "output_type": "stream",
     "text": [
      "24/24 [==============================] - 0s 334us/step\n",
      "Accuracy  0.708333313465\n"
     ]
    }
   ],
   "source": [
    "score = model.evaluate(x_test, y_test)\n",
    "print('Accuracy ', score[1])"
   ]
  },
  {
   "cell_type": "markdown",
   "metadata": {},
   "source": [
    "# Problem 2"
   ]
  },
  {
   "cell_type": "code",
   "execution_count": 57,
   "metadata": {
    "collapsed": true
   },
   "outputs": [],
   "source": [
    "dataset = pd.read_csv('Sheet_2.csv', engine='python')"
   ]
  },
  {
   "cell_type": "code",
   "execution_count": 58,
   "metadata": {
    "collapsed": true
   },
   "outputs": [],
   "source": [
    "x_col = dataset.iloc[1:, 2] \n",
    "y_col = dataset.iloc[1:, 1] "
   ]
  },
  {
   "cell_type": "code",
   "execution_count": 59,
   "metadata": {},
   "outputs": [
    {
     "name": "stdout",
     "output_type": "stream",
     "text": [
      "[0 0 0 1 0 0 1 0 0 1 0 0 0 0 1 0 1 1 0 0 0 0 1 1 0 0 1 0 0 0 1 1 1 0 0 0 0\n",
      " 1 1 0 0 1 0 0 0 0 0 0 1 0 0 1 0 0 0 1 0 0 0 1 0 0 0 0 0 0 0 0 0 1 0 0 0 0\n",
      " 1 0 0 0 1 0 0 0 0 0 0 0 1 0 0 0 0 0 0 0 0 0 0 0 0 0 1 0 0 1 0 1 1 0 0 0 0\n",
      " 1 0 1 1 0 1 1 0 0 0 0 1 0]\n"
     ]
    }
   ],
   "source": [
    "num_classes = len(list(set(y_col)))\n",
    "y_int_to_label = {idx:label for idx,label in enumerate(set(y_col))}\n",
    "y_label_to_int = {label:idx for idx,label in enumerate(set(y_col))}\n",
    "y_int = np.array([y_label_to_int[label] for label in y_col])\n",
    "print(y_int)"
   ]
  },
  {
   "cell_type": "code",
   "execution_count": 60,
   "metadata": {
    "collapsed": true
   },
   "outputs": [],
   "source": [
    "vectorizer = TfidfVectorizer()\n",
    "x_vect = vectorizer.fit_transform(x_col)\n",
    "y_vect = to_categorical(y_int)"
   ]
  },
  {
   "cell_type": "code",
   "execution_count": 61,
   "metadata": {
    "collapsed": true
   },
   "outputs": [],
   "source": [
    "x_train, x_test, y_train, y_test = train_test_split(x_vect, y_vect, test_size=0.3)"
   ]
  },
  {
   "cell_type": "code",
   "execution_count": 62,
   "metadata": {},
   "outputs": [
    {
     "name": "stdout",
     "output_type": "stream",
     "text": [
      "_________________________________________________________________\n",
      "Layer (type)                 Output Shape              Param #   \n",
      "=================================================================\n",
      "dense_17 (Dense)             (None, 128)               1464960   \n",
      "_________________________________________________________________\n",
      "dropout_13 (Dropout)         (None, 128)               0         \n",
      "_________________________________________________________________\n",
      "dense_18 (Dense)             (None, 64)                8256      \n",
      "_________________________________________________________________\n",
      "dropout_14 (Dropout)         (None, 64)                0         \n",
      "_________________________________________________________________\n",
      "dense_19 (Dense)             (None, 2)                 130       \n",
      "=================================================================\n",
      "Total params: 1,473,346\n",
      "Trainable params: 1,473,346\n",
      "Non-trainable params: 0\n",
      "_________________________________________________________________\n"
     ]
    }
   ],
   "source": [
    "model = Sequential()\n",
    "model.add(Dense(128, activation='tanh', input_dim=x_vect.shape[1]))\n",
    "model.add(Dropout(0.2))\n",
    "model.add(Dense(64, activation='tanh'))\n",
    "model.add(Dropout(0.1))\n",
    "model.add(Dense(num_classes, activation='softmax'))\n",
    "\n",
    "model.compile(loss='categorical_crossentropy', optimizer='adam', metrics=['accuracy'])\n",
    "model.summary()"
   ]
  },
  {
   "cell_type": "code",
   "execution_count": 63,
   "metadata": {},
   "outputs": [
    {
     "name": "stdout",
     "output_type": "stream",
     "text": [
      "Train on 64 samples, validate on 22 samples\n",
      "Epoch 1/50\n",
      " - 2s - loss: 0.6427 - acc: 0.7031 - val_loss: 0.5909 - val_acc: 0.7273\n",
      "Epoch 2/50\n",
      " - 0s - loss: 0.4373 - acc: 0.7500 - val_loss: 0.5787 - val_acc: 0.7273\n",
      "Epoch 3/50\n",
      " - 0s - loss: 0.2883 - acc: 0.7969 - val_loss: 0.5619 - val_acc: 0.7273\n",
      "Epoch 4/50\n",
      " - 0s - loss: 0.1403 - acc: 0.9688 - val_loss: 0.5095 - val_acc: 0.7273\n",
      "Epoch 5/50\n",
      " - 0s - loss: 0.0465 - acc: 1.0000 - val_loss: 0.4847 - val_acc: 0.7273\n",
      "Epoch 6/50\n",
      " - 0s - loss: 0.0175 - acc: 1.0000 - val_loss: 0.4718 - val_acc: 0.7727\n",
      "Epoch 7/50\n",
      " - 0s - loss: 0.0082 - acc: 1.0000 - val_loss: 0.4691 - val_acc: 0.7727\n",
      "Epoch 8/50\n",
      " - 0s - loss: 0.0045 - acc: 1.0000 - val_loss: 0.4740 - val_acc: 0.7727\n",
      "Epoch 9/50\n",
      " - 0s - loss: 0.0027 - acc: 1.0000 - val_loss: 0.4826 - val_acc: 0.7727\n",
      "Epoch 10/50\n",
      " - 0s - loss: 0.0020 - acc: 1.0000 - val_loss: 0.4911 - val_acc: 0.7727\n",
      "Epoch 11/50\n",
      " - 0s - loss: 0.0017 - acc: 1.0000 - val_loss: 0.4977 - val_acc: 0.7273\n",
      "Epoch 12/50\n",
      " - 0s - loss: 0.0013 - acc: 1.0000 - val_loss: 0.5025 - val_acc: 0.7273\n",
      "Epoch 13/50\n",
      " - 0s - loss: 0.0011 - acc: 1.0000 - val_loss: 0.5056 - val_acc: 0.7273\n",
      "Epoch 14/50\n",
      " - 0s - loss: 0.0011 - acc: 1.0000 - val_loss: 0.5083 - val_acc: 0.7273\n",
      "Epoch 15/50\n",
      " - 0s - loss: 0.0011 - acc: 1.0000 - val_loss: 0.5095 - val_acc: 0.7273\n",
      "Epoch 16/50\n",
      " - 0s - loss: 9.7635e-04 - acc: 1.0000 - val_loss: 0.5113 - val_acc: 0.7273\n",
      "Epoch 17/50\n",
      " - 0s - loss: 7.9672e-04 - acc: 1.0000 - val_loss: 0.5127 - val_acc: 0.7273\n",
      "Epoch 18/50\n",
      " - 0s - loss: 7.9898e-04 - acc: 1.0000 - val_loss: 0.5143 - val_acc: 0.7273\n",
      "Epoch 19/50\n",
      " - 0s - loss: 6.3712e-04 - acc: 1.0000 - val_loss: 0.5168 - val_acc: 0.7273\n",
      "Epoch 20/50\n",
      " - 0s - loss: 7.1590e-04 - acc: 1.0000 - val_loss: 0.5193 - val_acc: 0.7273\n",
      "Epoch 21/50\n",
      " - 0s - loss: 5.5874e-04 - acc: 1.0000 - val_loss: 0.5223 - val_acc: 0.7273\n",
      "Epoch 22/50\n",
      " - 0s - loss: 4.5036e-04 - acc: 1.0000 - val_loss: 0.5246 - val_acc: 0.7273\n",
      "Epoch 23/50\n",
      " - 0s - loss: 4.5317e-04 - acc: 1.0000 - val_loss: 0.5269 - val_acc: 0.7273\n",
      "Epoch 24/50\n",
      " - 0s - loss: 4.4432e-04 - acc: 1.0000 - val_loss: 0.5278 - val_acc: 0.7273\n",
      "Epoch 25/50\n",
      " - 0s - loss: 4.2992e-04 - acc: 1.0000 - val_loss: 0.5291 - val_acc: 0.7273\n",
      "Epoch 26/50\n",
      " - 0s - loss: 4.3622e-04 - acc: 1.0000 - val_loss: 0.5303 - val_acc: 0.7273\n",
      "Epoch 27/50\n",
      " - 0s - loss: 4.4274e-04 - acc: 1.0000 - val_loss: 0.5312 - val_acc: 0.7273\n",
      "Epoch 28/50\n",
      " - 0s - loss: 4.1880e-04 - acc: 1.0000 - val_loss: 0.5327 - val_acc: 0.7273\n",
      "Epoch 29/50\n",
      " - 0s - loss: 3.5258e-04 - acc: 1.0000 - val_loss: 0.5337 - val_acc: 0.7273\n",
      "Epoch 30/50\n",
      " - 0s - loss: 4.0021e-04 - acc: 1.0000 - val_loss: 0.5340 - val_acc: 0.7273\n",
      "Epoch 31/50\n",
      " - 0s - loss: 3.0485e-04 - acc: 1.0000 - val_loss: 0.5345 - val_acc: 0.7273\n",
      "Epoch 32/50\n",
      " - 0s - loss: 2.4142e-04 - acc: 1.0000 - val_loss: 0.5354 - val_acc: 0.7727\n",
      "Epoch 33/50\n",
      " - 0s - loss: 2.4645e-04 - acc: 1.0000 - val_loss: 0.5364 - val_acc: 0.7727\n",
      "Epoch 34/50\n",
      " - 0s - loss: 2.7910e-04 - acc: 1.0000 - val_loss: 0.5372 - val_acc: 0.7727\n",
      "Epoch 35/50\n",
      " - 0s - loss: 2.6327e-04 - acc: 1.0000 - val_loss: 0.5386 - val_acc: 0.7727\n",
      "Epoch 36/50\n",
      " - 0s - loss: 2.3940e-04 - acc: 1.0000 - val_loss: 0.5400 - val_acc: 0.7727\n",
      "Epoch 37/50\n",
      " - 0s - loss: 2.6628e-04 - acc: 1.0000 - val_loss: 0.5415 - val_acc: 0.7727\n",
      "Epoch 38/50\n",
      " - 0s - loss: 2.3210e-04 - acc: 1.0000 - val_loss: 0.5426 - val_acc: 0.7727\n",
      "Epoch 39/50\n",
      " - 0s - loss: 2.2831e-04 - acc: 1.0000 - val_loss: 0.5438 - val_acc: 0.7727\n",
      "Epoch 40/50\n",
      " - 0s - loss: 2.6651e-04 - acc: 1.0000 - val_loss: 0.5459 - val_acc: 0.7727\n",
      "Epoch 41/50\n",
      " - 0s - loss: 1.9244e-04 - acc: 1.0000 - val_loss: 0.5471 - val_acc: 0.7727\n",
      "Epoch 42/50\n",
      " - 0s - loss: 2.0407e-04 - acc: 1.0000 - val_loss: 0.5485 - val_acc: 0.7727\n",
      "Epoch 43/50\n",
      " - 0s - loss: 1.8506e-04 - acc: 1.0000 - val_loss: 0.5498 - val_acc: 0.7727\n",
      "Epoch 44/50\n",
      " - 0s - loss: 2.0650e-04 - acc: 1.0000 - val_loss: 0.5511 - val_acc: 0.7727\n",
      "Epoch 45/50\n",
      " - 0s - loss: 1.7921e-04 - acc: 1.0000 - val_loss: 0.5524 - val_acc: 0.7727\n",
      "Epoch 46/50\n",
      " - 0s - loss: 1.8280e-04 - acc: 1.0000 - val_loss: 0.5537 - val_acc: 0.7727\n",
      "Epoch 47/50\n",
      " - 0s - loss: 1.6343e-04 - acc: 1.0000 - val_loss: 0.5548 - val_acc: 0.7727\n",
      "Epoch 48/50\n",
      " - 0s - loss: 1.7781e-04 - acc: 1.0000 - val_loss: 0.5557 - val_acc: 0.7727\n",
      "Epoch 49/50\n",
      " - 0s - loss: 1.5483e-04 - acc: 1.0000 - val_loss: 0.5563 - val_acc: 0.7727\n",
      "Epoch 50/50\n",
      " - 0s - loss: 1.7627e-04 - acc: 1.0000 - val_loss: 0.5567 - val_acc: 0.7727\n"
     ]
    }
   ],
   "source": [
    "num_epochs=50\n",
    "hist = model.fit(x_train, y_train, batch_size=10, epochs=num_epochs, verbose=2, validation_split=0.25)"
   ]
  },
  {
   "cell_type": "code",
   "execution_count": 64,
   "metadata": {},
   "outputs": [
    {
     "data": {
      "image/png": "[encoded data removed]",
      "text/plain": [
       "<matplotlib.figure.Figure at 0x2761402b390>"
      ]
     },
     "metadata": {},
     "output_type": "display_data"
    }
   ],
   "source": [
    "train_loss = hist.history['loss']\n",
    "val_loss   = hist.history['val_loss']\n",
    "train_acc  = hist.history['acc']\n",
    "val_acc    = hist.history['val_acc']\n",
    "xc         = range(num_epochs)\n",
    "plt.figure()\n",
    "plt.plot(xc, train_loss, color='red')\n",
    "plt.plot(xc, val_loss, color='green')\n",
    "plt.show()"
   ]
  },
  {
   "cell_type": "code",
   "execution_count": 65,
   "metadata": {},
   "outputs": [
    {
     "name": "stdout",
     "output_type": "stream",
     "text": [
      "38/38 [==============================] - 0s 580us/step\n",
      "Accuracy  0.763157894737\n"
     ]
    }
   ],
   "source": [
    "score = model.evaluate(x_test, y_test)\n",
    "print('Accuracy ', score[1])"
   ]
  },
  {
   "cell_type": "code",
   "execution_count": null,
   "metadata": {
    "collapsed": true
   },
   "outputs": [],
   "source": []
  }
 ],
 "metadata": {
  "kernelspec": {
   "display_name": "Python 3",
   "language": "python",
   "name": "python3"
  },
  "language_info": {
   "codemirror_mode": {
    "name": "ipython",
    "version": 3
   },
   "file_extension": ".py",
   "mimetype": "text/x-python",
   "name": "python",
   "nbconvert_exporter": "python",
   "pygments_lexer": "ipython3",
   "version": "3.6.3"
  }
 },
 "nbformat": 4,
 "nbformat_minor": 2
}
