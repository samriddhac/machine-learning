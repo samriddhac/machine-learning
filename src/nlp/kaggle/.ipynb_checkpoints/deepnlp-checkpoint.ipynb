{
 "cells": [
  {
   "cell_type": "markdown",
   "metadata": {},
   "source": [
    "# Problem 1"
   ]
  },
  {
   "cell_type": "code",
   "execution_count": 32,
   "metadata": {},
   "outputs": [],
   "source": [
    "from sklearn.feature_extraction.text import TfidfVectorizer\n",
    "from sklearn.model_selection import train_test_split\n",
    "from keras.models import Sequential\n",
    "from keras.layers import Dense, Dropout, Activation\n",
    "from keras.utils import to_categorical\n",
    "import pandas as pd\n",
    "import numpy as np\n",
    "import matplotlib.pyplot as plt"
   ]
  },
  {
   "cell_type": "code",
   "execution_count": 22,
   "metadata": {},
   "outputs": [],
   "source": [
    "dataset = pd.read_csv('Sheet_1.csv')"
   ]
  },
  {
   "cell_type": "code",
   "execution_count": 23,
   "metadata": {},
   "outputs": [],
   "source": [
    "x_col = dataset.iloc[1:, 2] \n",
    "y_col = dataset.iloc[1:, 1] "
   ]
  },
  {
   "cell_type": "code",
   "execution_count": 24,
   "metadata": {},
   "outputs": [
    {
     "name": "stdout",
     "output_type": "stream",
     "text": [
      "[1 1 0 0 0 1 1 0 1 0 1 0 0 0 1 0 0 0 0 0 1 1 0 0 1 1 0 1 0 0 0 0 0 0 0 1 0\n",
      " 1 0 1 0 0 0 0 0 0 0 1 0 0 1 0 0 0 0 0 1 0 1 0 1 0 0 1 0 0 0 0 0 0 0 1 0 1\n",
      " 0 1 0 1 0]\n"
     ]
    }
   ],
   "source": [
    "num_classes = len(list(set(y_col)))\n",
    "y_int_to_label = {idx:label for idx,label in enumerate(set(y_col))}\n",
    "y_label_to_int = {label:idx for idx,label in enumerate(set(y_col))}\n",
    "y_int = np.array([y_label_to_int[label] for label in y_col])\n",
    "print(y_int)"
   ]
  },
  {
   "cell_type": "code",
   "execution_count": 25,
   "metadata": {},
   "outputs": [],
   "source": [
    "vectorizer = TfidfVectorizer()\n",
    "x_vect = vectorizer.fit_transform(x_col)\n",
    "y_vect = to_categorical(y_int)"
   ]
  },
  {
   "cell_type": "code",
   "execution_count": 26,
   "metadata": {
    "collapsed": true
   },
   "outputs": [],
   "source": [
    "x_train, x_test, y_train, y_test = train_test_split(x_vect, y_vect, test_size=0.3)"
   ]
  },
  {
   "cell_type": "code",
   "execution_count": 38,
   "metadata": {},
   "outputs": [
    {
     "name": "stdout",
     "output_type": "stream",
     "text": [
      "_________________________________________________________________\n",
      "Layer (type)                 Output Shape              Param #   \n",
      "=================================================================\n",
      "dense_9 (Dense)              (None, 256)               168448    \n",
      "_________________________________________________________________\n",
      "dropout_7 (Dropout)          (None, 256)               0         \n",
      "_________________________________________________________________\n",
      "dense_10 (Dense)             (None, 128)               32896     \n",
      "_________________________________________________________________\n",
      "dropout_8 (Dropout)          (None, 128)               0         \n",
      "_________________________________________________________________\n",
      "dense_11 (Dense)             (None, 64)                8256      \n",
      "_________________________________________________________________\n",
      "dropout_9 (Dropout)          (None, 64)                0         \n",
      "_________________________________________________________________\n",
      "dense_12 (Dense)             (None, 2)                 130       \n",
      "=================================================================\n",
      "Total params: 209,730\n",
      "Trainable params: 209,730\n",
      "Non-trainable params: 0\n",
      "_________________________________________________________________\n"
     ]
    }
   ],
   "source": [
    "model = Sequential()\n",
    "model.add(Dense(256, activation='tanh', input_dim=x_vect.shape[1]))\n",
    "model.add(Dropout(0.4))\n",
    "model.add(Dense(128, activation='tanh'))\n",
    "model.add(Dropout(0.2))\n",
    "model.add(Dense(64, activation='tanh'))\n",
    "model.add(Dropout(0.1))\n",
    "model.add(Dense(num_classes, activation='softmax'))\n",
    "\n",
    "model.compile(loss='categorical_crossentropy', optimizer='adam', metrics=['accuracy'])\n",
    "model.summary()"
   ]
  },
  {
   "cell_type": "code",
   "execution_count": 43,
   "metadata": {},
   "outputs": [
    {
     "name": "stdout",
     "output_type": "stream",
     "text": [
      "Train on 41 samples, validate on 14 samples\n",
      "Epoch 1/50\n",
      " - 0s - loss: 1.4256e-05 - acc: 1.0000 - val_loss: 1.5060 - val_acc: 0.6429\n",
      "Epoch 2/50\n",
      " - 0s - loss: 1.0108e-05 - acc: 1.0000 - val_loss: 1.5068 - val_acc: 0.6429\n",
      "Epoch 3/50\n",
      " - 0s - loss: 1.0671e-05 - acc: 1.0000 - val_loss: 1.5074 - val_acc: 0.6429\n",
      "Epoch 4/50\n",
      " - 0s - loss: 1.1078e-05 - acc: 1.0000 - val_loss: 1.5076 - val_acc: 0.6429\n",
      "Epoch 5/50\n",
      " - 0s - loss: 1.0041e-05 - acc: 1.0000 - val_loss: 1.5079 - val_acc: 0.6429\n",
      "Epoch 6/50\n",
      " - 0s - loss: 1.5489e-05 - acc: 1.0000 - val_loss: 1.5085 - val_acc: 0.6429\n",
      "Epoch 7/50\n",
      " - 0s - loss: 1.1149e-05 - acc: 1.0000 - val_loss: 1.5091 - val_acc: 0.6429\n",
      "Epoch 8/50\n",
      " - 0s - loss: 1.1007e-05 - acc: 1.0000 - val_loss: 1.5094 - val_acc: 0.6429\n",
      "Epoch 9/50\n",
      " - 0s - loss: 1.6368e-05 - acc: 1.0000 - val_loss: 1.5098 - val_acc: 0.6429\n",
      "Epoch 10/50\n",
      " - 0s - loss: 2.3428e-05 - acc: 1.0000 - val_loss: 1.5107 - val_acc: 0.6429\n",
      "Epoch 11/50\n",
      " - 0s - loss: 1.3679e-05 - acc: 1.0000 - val_loss: 1.5115 - val_acc: 0.6429\n",
      "Epoch 12/50\n",
      " - 0s - loss: 1.6879e-05 - acc: 1.0000 - val_loss: 1.5125 - val_acc: 0.6429\n",
      "Epoch 13/50\n",
      " - 0s - loss: 1.3544e-05 - acc: 1.0000 - val_loss: 1.5133 - val_acc: 0.6429\n",
      "Epoch 14/50\n",
      " - 0s - loss: 1.2196e-05 - acc: 1.0000 - val_loss: 1.5141 - val_acc: 0.6429\n",
      "Epoch 15/50\n",
      " - 0s - loss: 1.1069e-05 - acc: 1.0000 - val_loss: 1.5150 - val_acc: 0.6429\n",
      "Epoch 16/50\n",
      " - 0s - loss: 9.9832e-06 - acc: 1.0000 - val_loss: 1.5157 - val_acc: 0.6429\n",
      "Epoch 17/50\n",
      " - 0s - loss: 1.0134e-05 - acc: 1.0000 - val_loss: 1.5164 - val_acc: 0.6429\n",
      "Epoch 18/50\n",
      " - 0s - loss: 1.3356e-05 - acc: 1.0000 - val_loss: 1.5170 - val_acc: 0.6429\n",
      "Epoch 19/50\n",
      " - 0s - loss: 1.6997e-05 - acc: 1.0000 - val_loss: 1.5179 - val_acc: 0.6429\n",
      "Epoch 20/50\n",
      " - 0s - loss: 1.1908e-05 - acc: 1.0000 - val_loss: 1.5188 - val_acc: 0.6429\n",
      "Epoch 21/50\n",
      " - 0s - loss: 1.3749e-05 - acc: 1.0000 - val_loss: 1.5195 - val_acc: 0.6429\n",
      "Epoch 22/50\n",
      " - 0s - loss: 1.1925e-05 - acc: 1.0000 - val_loss: 1.5203 - val_acc: 0.6429\n",
      "Epoch 23/50\n",
      " - 0s - loss: 1.1610e-05 - acc: 1.0000 - val_loss: 1.5216 - val_acc: 0.6429\n",
      "Epoch 24/50\n",
      " - 0s - loss: 9.5921e-06 - acc: 1.0000 - val_loss: 1.5227 - val_acc: 0.6429\n",
      "Epoch 25/50\n",
      " - 0s - loss: 1.0450e-05 - acc: 1.0000 - val_loss: 1.5239 - val_acc: 0.6429\n",
      "Epoch 26/50\n",
      " - 0s - loss: 1.3199e-05 - acc: 1.0000 - val_loss: 1.5248 - val_acc: 0.6429\n",
      "Epoch 27/50\n",
      " - 0s - loss: 1.1614e-05 - acc: 1.0000 - val_loss: 1.5255 - val_acc: 0.6429\n",
      "Epoch 28/50\n",
      " - 0s - loss: 9.6183e-06 - acc: 1.0000 - val_loss: 1.5263 - val_acc: 0.6429\n",
      "Epoch 29/50\n",
      " - 0s - loss: 1.5168e-05 - acc: 1.0000 - val_loss: 1.5275 - val_acc: 0.6429\n",
      "Epoch 30/50\n",
      " - 0s - loss: 1.2469e-05 - acc: 1.0000 - val_loss: 1.5287 - val_acc: 0.6429\n",
      "Epoch 31/50\n",
      " - 0s - loss: 1.4896e-05 - acc: 1.0000 - val_loss: 1.5295 - val_acc: 0.6429\n",
      "Epoch 32/50\n",
      " - 0s - loss: 8.3113e-06 - acc: 1.0000 - val_loss: 1.5303 - val_acc: 0.6429\n",
      "Epoch 33/50\n",
      " - 0s - loss: 1.2056e-05 - acc: 1.0000 - val_loss: 1.5309 - val_acc: 0.6429\n",
      "Epoch 34/50\n",
      " - 0s - loss: 1.7508e-05 - acc: 1.0000 - val_loss: 1.5314 - val_acc: 0.6429\n",
      "Epoch 35/50\n",
      " - 0s - loss: 1.2298e-05 - acc: 1.0000 - val_loss: 1.5317 - val_acc: 0.6429\n",
      "Epoch 36/50\n",
      " - 0s - loss: 1.0813e-05 - acc: 1.0000 - val_loss: 1.5323 - val_acc: 0.6429\n",
      "Epoch 37/50\n",
      " - 0s - loss: 9.2941e-06 - acc: 1.0000 - val_loss: 1.5331 - val_acc: 0.6429\n",
      "Epoch 38/50\n",
      " - 0s - loss: 6.4533e-06 - acc: 1.0000 - val_loss: 1.5337 - val_acc: 0.6429\n",
      "Epoch 39/50\n",
      " - 0s - loss: 1.0718e-05 - acc: 1.0000 - val_loss: 1.5344 - val_acc: 0.6429\n",
      "Epoch 40/50\n",
      " - 0s - loss: 1.3740e-05 - acc: 1.0000 - val_loss: 1.5353 - val_acc: 0.6429\n",
      "Epoch 41/50\n",
      " - 0s - loss: 1.2113e-05 - acc: 1.0000 - val_loss: 1.5371 - val_acc: 0.6429\n",
      "Epoch 42/50\n",
      " - 0s - loss: 1.2277e-05 - acc: 1.0000 - val_loss: 1.5388 - val_acc: 0.6429\n",
      "Epoch 43/50\n",
      " - 0s - loss: 8.9975e-06 - acc: 1.0000 - val_loss: 1.5403 - val_acc: 0.6429\n",
      "Epoch 44/50\n",
      " - 0s - loss: 7.7152e-06 - acc: 1.0000 - val_loss: 1.5414 - val_acc: 0.6429\n",
      "Epoch 45/50\n",
      " - 0s - loss: 9.2068e-06 - acc: 1.0000 - val_loss: 1.5419 - val_acc: 0.6429\n",
      "Epoch 46/50\n",
      " - 0s - loss: 1.1110e-05 - acc: 1.0000 - val_loss: 1.5422 - val_acc: 0.6429\n",
      "Epoch 47/50\n",
      " - 0s - loss: 1.1796e-05 - acc: 1.0000 - val_loss: 1.5428 - val_acc: 0.6429\n",
      "Epoch 48/50\n",
      " - 0s - loss: 1.0380e-05 - acc: 1.0000 - val_loss: 1.5437 - val_acc: 0.6429\n",
      "Epoch 49/50\n",
      " - 0s - loss: 1.3278e-05 - acc: 1.0000 - val_loss: 1.5445 - val_acc: 0.6429\n",
      "Epoch 50/50\n",
      " - 0s - loss: 9.2752e-06 - acc: 1.0000 - val_loss: 1.5450 - val_acc: 0.6429\n"
     ]
    }
   ],
   "source": [
    "num_epochs=50\n",
    "hist = model.fit(x_train, y_train, batch_size=10, epochs=num_epochs, verbose=2, validation_split=0.25)"
   ]
  },
  {
   "cell_type": "code",
   "execution_count": 44,
   "metadata": {},
   "outputs": [
    {
     "data": {
      "image/png": "[encoded data removed]",
      "text/plain": [
       "<matplotlib.figure.Figure at 0x2760eb62ac8>"
      ]
     },
     "metadata": {},
     "output_type": "display_data"
    }
   ],
   "source": [
    "train_loss = hist.history['loss']\n",
    "val_loss   = hist.history['val_loss']\n",
    "train_acc  = hist.history['acc']\n",
    "val_acc    = hist.history['val_acc']\n",
    "xc         = range(num_epochs)\n",
    "plt.figure()\n",
    "plt.plot(xc, train_loss, color='red')\n",
    "plt.plot(xc, val_loss, color='green')\n",
    "plt.show()"
   ]
  },
  {
   "cell_type": "code",
   "execution_count": 45,
   "metadata": {},
   "outputs": [
    {
     "name": "stdout",
     "output_type": "stream",
     "text": [
      "24/24 [==============================] - 0s 251us/step\n",
      "Accuracy  0.875\n"
     ]
    }
   ],
   "source": [
    "score = model.evaluate(x_test, y_test)\n",
    "print('Accuracy ', score[1])"
   ]
  },
  {
   "cell_type": "markdown",
   "metadata": {},
   "source": [
    "# Problem 2"
   ]
  },
  {
   "cell_type": "code",
   "execution_count": 48,
   "metadata": {},
   "outputs": [],
   "source": [
    "dataset = pd.read_csv('Sheet_2.csv', engine='python')"
   ]
  },
  {
   "cell_type": "code",
   "execution_count": 49,
   "metadata": {
    "collapsed": true
   },
   "outputs": [],
   "source": [
    "x_col = dataset.iloc[1:, 2] \n",
    "y_col = dataset.iloc[1:, 1] "
   ]
  },
  {
   "cell_type": "code",
   "execution_count": 50,
   "metadata": {},
   "outputs": [
    {
     "name": "stdout",
     "output_type": "stream",
     "text": [
      "[0 0 0 1 0 0 1 0 0 1 0 0 0 0 1 0 1 1 0 0 0 0 1 1 0 0 1 0 0 0 1 1 1 0 0 0 0\n",
      " 1 1 0 0 1 0 0 0 0 0 0 1 0 0 1 0 0 0 1 0 0 0 1 0 0 0 0 0 0 0 0 0 1 0 0 0 0\n",
      " 1 0 0 0 1 0 0 0 0 0 0 0 1 0 0 0 0 0 0 0 0 0 0 0 0 0 1 0 0 1 0 1 1 0 0 0 0\n",
      " 1 0 1 1 0 1 1 0 0 0 0 1 0]\n"
     ]
    }
   ],
   "source": [
    "num_classes = len(list(set(y_col)))\n",
    "y_int_to_label = {idx:label for idx,label in enumerate(set(y_col))}\n",
    "y_label_to_int = {label:idx for idx,label in enumerate(set(y_col))}\n",
    "y_int = np.array([y_label_to_int[label] for label in y_col])\n",
    "print(y_int)"
   ]
  },
  {
   "cell_type": "code",
   "execution_count": 51,
   "metadata": {
    "collapsed": true
   },
   "outputs": [],
   "source": [
    "vectorizer = TfidfVectorizer()\n",
    "x_vect = vectorizer.fit_transform(x_col)\n",
    "y_vect = to_categorical(y_int)"
   ]
  },
  {
   "cell_type": "code",
   "execution_count": 52,
   "metadata": {
    "collapsed": true
   },
   "outputs": [],
   "source": [
    "x_train, x_test, y_train, y_test = train_test_split(x_vect, y_vect, test_size=0.3)"
   ]
  },
  {
   "cell_type": "code",
   "execution_count": 53,
   "metadata": {},
   "outputs": [
    {
     "name": "stdout",
     "output_type": "stream",
     "text": [
      "_________________________________________________________________\n",
      "Layer (type)                 Output Shape              Param #   \n",
      "=================================================================\n",
      "dense_13 (Dense)             (None, 256)               2929920   \n",
      "_________________________________________________________________\n",
      "dropout_10 (Dropout)         (None, 256)               0         \n",
      "_________________________________________________________________\n",
      "dense_14 (Dense)             (None, 128)               32896     \n",
      "_________________________________________________________________\n",
      "dropout_11 (Dropout)         (None, 128)               0         \n",
      "_________________________________________________________________\n",
      "dense_15 (Dense)             (None, 64)                8256      \n",
      "_________________________________________________________________\n",
      "dropout_12 (Dropout)         (None, 64)                0         \n",
      "_________________________________________________________________\n",
      "dense_16 (Dense)             (None, 2)                 130       \n",
      "=================================================================\n",
      "Total params: 2,971,202\n",
      "Trainable params: 2,971,202\n",
      "Non-trainable params: 0\n",
      "_________________________________________________________________\n"
     ]
    }
   ],
   "source": [
    "model = Sequential()\n",
    "model.add(Dense(256, activation='tanh', input_dim=x_vect.shape[1]))\n",
    "model.add(Dropout(0.4))\n",
    "model.add(Dense(128, activation='tanh'))\n",
    "model.add(Dropout(0.2))\n",
    "model.add(Dense(64, activation='tanh'))\n",
    "model.add(Dropout(0.1))\n",
    "model.add(Dense(num_classes, activation='softmax'))\n",
    "\n",
    "model.compile(loss='categorical_crossentropy', optimizer='adam', metrics=['accuracy'])\n",
    "model.summary()"
   ]
  },
  {
   "cell_type": "code",
   "execution_count": 54,
   "metadata": {},
   "outputs": [
    {
     "name": "stdout",
     "output_type": "stream",
     "text": [
      "Train on 64 samples, validate on 22 samples\n",
      "Epoch 1/50\n",
      " - 2s - loss: 0.6055 - acc: 0.7344 - val_loss: 0.6521 - val_acc: 0.6818\n",
      "Epoch 2/50\n",
      " - 1s - loss: 0.3684 - acc: 0.7656 - val_loss: 0.6220 - val_acc: 0.6818\n",
      "Epoch 3/50\n",
      " - 1s - loss: 0.1373 - acc: 0.9687 - val_loss: 0.5786 - val_acc: 0.7273\n",
      "Epoch 4/50\n",
      " - 1s - loss: 0.0261 - acc: 1.0000 - val_loss: 0.5886 - val_acc: 0.7273\n",
      "Epoch 5/50\n",
      " - 1s - loss: 0.0036 - acc: 1.0000 - val_loss: 0.6683 - val_acc: 0.7273\n",
      "Epoch 6/50\n",
      " - 1s - loss: 9.6930e-04 - acc: 1.0000 - val_loss: 0.7470 - val_acc: 0.7273\n",
      "Epoch 7/50\n",
      " - 1s - loss: 2.7743e-04 - acc: 1.0000 - val_loss: 0.8050 - val_acc: 0.7273\n",
      "Epoch 8/50\n",
      " - 1s - loss: 1.7230e-04 - acc: 1.0000 - val_loss: 0.8401 - val_acc: 0.7273\n",
      "Epoch 9/50\n",
      " - 1s - loss: 1.2480e-04 - acc: 1.0000 - val_loss: 0.8605 - val_acc: 0.7273\n",
      "Epoch 10/50\n",
      " - 1s - loss: 1.0961e-04 - acc: 1.0000 - val_loss: 0.8730 - val_acc: 0.7273\n",
      "Epoch 11/50\n",
      " - 1s - loss: 8.9495e-05 - acc: 1.0000 - val_loss: 0.8813 - val_acc: 0.7273\n",
      "Epoch 12/50\n",
      " - 1s - loss: 8.8323e-05 - acc: 1.0000 - val_loss: 0.8886 - val_acc: 0.7273\n",
      "Epoch 13/50\n",
      " - 1s - loss: 1.0086e-04 - acc: 1.0000 - val_loss: 0.8936 - val_acc: 0.7273\n",
      "Epoch 14/50\n",
      " - 1s - loss: 7.9232e-05 - acc: 1.0000 - val_loss: 0.8983 - val_acc: 0.7273\n",
      "Epoch 15/50\n",
      " - 1s - loss: 8.0624e-05 - acc: 1.0000 - val_loss: 0.9018 - val_acc: 0.7273\n",
      "Epoch 16/50\n",
      " - 1s - loss: 7.6120e-05 - acc: 1.0000 - val_loss: 0.9053 - val_acc: 0.7273\n",
      "Epoch 17/50\n",
      " - 1s - loss: 1.0109e-04 - acc: 1.0000 - val_loss: 0.9092 - val_acc: 0.7273\n",
      "Epoch 18/50\n",
      " - 1s - loss: 9.3986e-05 - acc: 1.0000 - val_loss: 0.9140 - val_acc: 0.7273\n",
      "Epoch 19/50\n",
      " - 1s - loss: 6.8288e-05 - acc: 1.0000 - val_loss: 0.9190 - val_acc: 0.7273\n",
      "Epoch 20/50\n",
      " - 1s - loss: 8.1046e-05 - acc: 1.0000 - val_loss: 0.9234 - val_acc: 0.7273\n",
      "Epoch 21/50\n",
      " - 1s - loss: 6.8402e-05 - acc: 1.0000 - val_loss: 0.9277 - val_acc: 0.7273\n",
      "Epoch 22/50\n",
      " - 1s - loss: 6.9991e-05 - acc: 1.0000 - val_loss: 0.9322 - val_acc: 0.7273\n",
      "Epoch 23/50\n",
      " - 1s - loss: 5.7511e-05 - acc: 1.0000 - val_loss: 0.9374 - val_acc: 0.7273\n",
      "Epoch 24/50\n",
      " - 1s - loss: 5.7160e-05 - acc: 1.0000 - val_loss: 0.9424 - val_acc: 0.7273\n",
      "Epoch 25/50\n",
      " - 1s - loss: 5.4895e-05 - acc: 1.0000 - val_loss: 0.9463 - val_acc: 0.7273\n",
      "Epoch 26/50\n",
      " - 1s - loss: 7.8472e-05 - acc: 1.0000 - val_loss: 0.9504 - val_acc: 0.7273\n",
      "Epoch 27/50\n",
      " - 1s - loss: 7.1283e-05 - acc: 1.0000 - val_loss: 0.9548 - val_acc: 0.7273\n",
      "Epoch 28/50\n",
      " - 1s - loss: 5.4838e-05 - acc: 1.0000 - val_loss: 0.9589 - val_acc: 0.7273\n",
      "Epoch 29/50\n",
      " - 1s - loss: 5.2285e-05 - acc: 1.0000 - val_loss: 0.9625 - val_acc: 0.7273\n",
      "Epoch 30/50\n",
      " - 1s - loss: 5.8642e-05 - acc: 1.0000 - val_loss: 0.9662 - val_acc: 0.7273\n",
      "Epoch 31/50\n",
      " - 1s - loss: 5.1162e-05 - acc: 1.0000 - val_loss: 0.9698 - val_acc: 0.7273\n",
      "Epoch 32/50\n",
      " - 1s - loss: 5.4694e-05 - acc: 1.0000 - val_loss: 0.9734 - val_acc: 0.7273\n",
      "Epoch 33/50\n",
      " - 1s - loss: 4.7546e-05 - acc: 1.0000 - val_loss: 0.9773 - val_acc: 0.7273\n",
      "Epoch 34/50\n",
      " - 1s - loss: 4.7545e-05 - acc: 1.0000 - val_loss: 0.9813 - val_acc: 0.7273\n",
      "Epoch 35/50\n",
      " - 1s - loss: 5.2912e-05 - acc: 1.0000 - val_loss: 0.9850 - val_acc: 0.7273\n",
      "Epoch 36/50\n",
      " - 1s - loss: 5.3873e-05 - acc: 1.0000 - val_loss: 0.9884 - val_acc: 0.7273\n",
      "Epoch 37/50\n",
      " - 1s - loss: 5.5652e-05 - acc: 1.0000 - val_loss: 0.9926 - val_acc: 0.7273\n",
      "Epoch 38/50\n",
      " - 1s - loss: 5.2443e-05 - acc: 1.0000 - val_loss: 0.9971 - val_acc: 0.7273\n",
      "Epoch 39/50\n",
      " - 1s - loss: 6.2427e-05 - acc: 1.0000 - val_loss: 1.0021 - val_acc: 0.7273\n",
      "Epoch 40/50\n",
      " - 1s - loss: 6.7763e-05 - acc: 1.0000 - val_loss: 1.0089 - val_acc: 0.7273\n",
      "Epoch 41/50\n",
      " - 1s - loss: 4.2336e-05 - acc: 1.0000 - val_loss: 1.0137 - val_acc: 0.7273\n",
      "Epoch 42/50\n",
      " - 1s - loss: 3.7658e-05 - acc: 1.0000 - val_loss: 1.0175 - val_acc: 0.7273\n",
      "Epoch 43/50\n",
      " - 1s - loss: 4.2396e-05 - acc: 1.0000 - val_loss: 1.0218 - val_acc: 0.7273\n",
      "Epoch 44/50\n",
      " - 1s - loss: 4.5934e-05 - acc: 1.0000 - val_loss: 1.0256 - val_acc: 0.7273\n",
      "Epoch 45/50\n",
      " - 1s - loss: 3.5617e-05 - acc: 1.0000 - val_loss: 1.0293 - val_acc: 0.7273\n",
      "Epoch 46/50\n",
      " - 1s - loss: 2.9215e-05 - acc: 1.0000 - val_loss: 1.0325 - val_acc: 0.7273\n",
      "Epoch 47/50\n",
      " - 1s - loss: 3.6463e-05 - acc: 1.0000 - val_loss: 1.0360 - val_acc: 0.7273\n",
      "Epoch 48/50\n",
      " - 1s - loss: 3.7496e-05 - acc: 1.0000 - val_loss: 1.0402 - val_acc: 0.7273\n",
      "Epoch 49/50\n",
      " - 1s - loss: 2.8889e-05 - acc: 1.0000 - val_loss: 1.0435 - val_acc: 0.7273\n",
      "Epoch 50/50\n",
      " - 1s - loss: 3.1876e-05 - acc: 1.0000 - val_loss: 1.0464 - val_acc: 0.7273\n"
     ]
    }
   ],
   "source": [
    "num_epochs=50\n",
    "hist = model.fit(x_train, y_train, batch_size=10, epochs=num_epochs, verbose=2, validation_split=0.25)"
   ]
  },
  {
   "cell_type": "code",
   "execution_count": 55,
   "metadata": {},
   "outputs": [
    {
     "data": {
      "image/png": "[encoded data removed]",
      "text/plain": [
       "<matplotlib.figure.Figure at 0x2760cd08940>"
      ]
     },
     "metadata": {},
     "output_type": "display_data"
    }
   ],
   "source": [
    "train_loss = hist.history['loss']\n",
    "val_loss   = hist.history['val_loss']\n",
    "train_acc  = hist.history['acc']\n",
    "val_acc    = hist.history['val_acc']\n",
    "xc         = range(num_epochs)\n",
    "plt.figure()\n",
    "plt.plot(xc, train_loss, color='red')\n",
    "plt.plot(xc, val_loss, color='green')\n",
    "plt.show()"
   ]
  },
  {
   "cell_type": "code",
   "execution_count": 56,
   "metadata": {},
   "outputs": [
    {
     "name": "stdout",
     "output_type": "stream",
     "text": [
      "38/38 [==============================] - 0s 633us/step\n",
      "Accuracy  0.7631578916\n"
     ]
    }
   ],
   "source": [
    "score = model.evaluate(x_test, y_test)\n",
    "print('Accuracy ', score[1])"
   ]
  },
  {
   "cell_type": "code",
   "execution_count": null,
   "metadata": {
    "collapsed": true
   },
   "outputs": [],
   "source": []
  }
 ],
 "metadata": {
  "kernelspec": {
   "display_name": "Python 3",
   "language": "python",
   "name": "python3"
  },
  "language_info": {
   "codemirror_mode": {
    "name": "ipython",
    "version": 3
   },
   "file_extension": ".py",
   "mimetype": "text/x-python",
   "name": "python",
   "nbconvert_exporter": "python",
   "pygments_lexer": "ipython3",
   "version": "3.6.3"
  }
 },
 "nbformat": 4,
 "nbformat_minor": 2
}
