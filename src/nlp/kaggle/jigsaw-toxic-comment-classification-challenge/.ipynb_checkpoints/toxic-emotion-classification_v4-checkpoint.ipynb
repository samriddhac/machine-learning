{
 "cells": [
  {
   "cell_type": "markdown",
   "metadata": {},
   "source": [
    "# Word2Vec Embedding"
   ]
  },
  {
   "cell_type": "code",
   "execution_count": 2,
   "metadata": {},
   "outputs": [
    {
     "name": "stderr",
     "output_type": "stream",
     "text": [
      "/home/ubuntu/anaconda3/envs/tensorflow_optimized/lib/python3.6/site-packages/h5py/__init__.py:36: FutureWarning: Conversion of the second argument of issubdtype from `float` to `np.floating` is deprecated. In future, it will be treated as `np.float64 == np.dtype(float).type`.\n",
      "  from ._conv import register_converters as _register_converters\n",
      "Using TensorFlow backend.\n"
     ]
    }
   ],
   "source": [
    "from sklearn.model_selection import train_test_split\n",
    "from keras.preprocessing.text import Tokenizer\n",
    "from keras.preprocessing.sequence import pad_sequences\n",
    "from keras.models import Sequential\n",
    "from keras.layers import Dense, Activation, Dropout, Flatten\n",
    "from keras.layers.embeddings import Embedding\n",
    "from keras.callbacks import ModelCheckpoint\n",
    "from keras.optimizers import Adam\n",
    "from keras.losses import sparse_categorical_crossentropy\n",
    "import numpy as np\n",
    "import pandas as pd\n",
    "import matplotlib.pyplot as plt"
   ]
  },
  {
   "cell_type": "code",
   "execution_count": 3,
   "metadata": {},
   "outputs": [
    {
     "name": "stdout",
     "output_type": "stream",
     "text": [
      "[nltk_data] Downloading package stopwords to /home/ubuntu/nltk_data...\n",
      "[nltk_data]   Package stopwords is already up-to-date!\n"
     ]
    },
    {
     "data": {
      "text/plain": [
       "True"
      ]
     },
     "execution_count": 3,
     "metadata": {},
     "output_type": "execute_result"
    }
   ],
   "source": [
    "import nltk\n",
    "nltk.download('stopwords')"
   ]
  },
  {
   "cell_type": "code",
   "execution_count": 12,
   "metadata": {},
   "outputs": [
    {
     "data": {
      "text/html": [
       "<div>\n",
       "<style scoped>\n",
       "    .dataframe tbody tr th:only-of-type {\n",
       "        vertical-align: middle;\n",
       "    }\n",
       "\n",
       "    .dataframe tbody tr th {\n",
       "        vertical-align: top;\n",
       "    }\n",
       "\n",
       "    .dataframe thead th {\n",
       "        text-align: right;\n",
       "    }\n",
       "</style>\n",
       "<table border=\"1\" class=\"dataframe\">\n",
       "  <thead>\n",
       "    <tr style=\"text-align: right;\">\n",
       "      <th></th>\n",
       "      <th>id</th>\n",
       "      <th>comment_text</th>\n",
       "      <th>toxic</th>\n",
       "      <th>severe_toxic</th>\n",
       "      <th>obscene</th>\n",
       "      <th>threat</th>\n",
       "      <th>insult</th>\n",
       "      <th>identity_hate</th>\n",
       "    </tr>\n",
       "  </thead>\n",
       "  <tbody>\n",
       "    <tr>\n",
       "      <th>0</th>\n",
       "      <td>0000997932d777bf</td>\n",
       "      <td>Explanation\\nWhy the edits made under my usern...</td>\n",
       "      <td>0</td>\n",
       "      <td>0</td>\n",
       "      <td>0</td>\n",
       "      <td>0</td>\n",
       "      <td>0</td>\n",
       "      <td>0</td>\n",
       "    </tr>\n",
       "    <tr>\n",
       "      <th>1</th>\n",
       "      <td>000103f0d9cfb60f</td>\n",
       "      <td>D'aww! He matches this background colour I'm s...</td>\n",
       "      <td>0</td>\n",
       "      <td>0</td>\n",
       "      <td>0</td>\n",
       "      <td>0</td>\n",
       "      <td>0</td>\n",
       "      <td>0</td>\n",
       "    </tr>\n",
       "    <tr>\n",
       "      <th>2</th>\n",
       "      <td>000113f07ec002fd</td>\n",
       "      <td>Hey man, I'm really not trying to edit war. It...</td>\n",
       "      <td>0</td>\n",
       "      <td>0</td>\n",
       "      <td>0</td>\n",
       "      <td>0</td>\n",
       "      <td>0</td>\n",
       "      <td>0</td>\n",
       "    </tr>\n",
       "    <tr>\n",
       "      <th>3</th>\n",
       "      <td>0001b41b1c6bb37e</td>\n",
       "      <td>\"\\nMore\\nI can't make any real suggestions on ...</td>\n",
       "      <td>0</td>\n",
       "      <td>0</td>\n",
       "      <td>0</td>\n",
       "      <td>0</td>\n",
       "      <td>0</td>\n",
       "      <td>0</td>\n",
       "    </tr>\n",
       "    <tr>\n",
       "      <th>4</th>\n",
       "      <td>0001d958c54c6e35</td>\n",
       "      <td>You, sir, are my hero. Any chance you remember...</td>\n",
       "      <td>0</td>\n",
       "      <td>0</td>\n",
       "      <td>0</td>\n",
       "      <td>0</td>\n",
       "      <td>0</td>\n",
       "      <td>0</td>\n",
       "    </tr>\n",
       "  </tbody>\n",
       "</table>\n",
       "</div>"
      ],
      "text/plain": [
       "                 id                                       comment_text  toxic  \\\n",
       "0  0000997932d777bf  Explanation\\nWhy the edits made under my usern...      0   \n",
       "1  000103f0d9cfb60f  D'aww! He matches this background colour I'm s...      0   \n",
       "2  000113f07ec002fd  Hey man, I'm really not trying to edit war. It...      0   \n",
       "3  0001b41b1c6bb37e  \"\\nMore\\nI can't make any real suggestions on ...      0   \n",
       "4  0001d958c54c6e35  You, sir, are my hero. Any chance you remember...      0   \n",
       "\n",
       "   severe_toxic  obscene  threat  insult  identity_hate  \n",
       "0             0        0       0       0              0  \n",
       "1             0        0       0       0              0  \n",
       "2             0        0       0       0              0  \n",
       "3             0        0       0       0              0  \n",
       "4             0        0       0       0              0  "
      ]
     },
     "execution_count": 12,
     "metadata": {},
     "output_type": "execute_result"
    }
   ],
   "source": [
    "dataset = pd.read_csv('train.csv')\n",
    "dataset.head()"
   ]
  },
  {
   "cell_type": "code",
   "execution_count": 13,
   "metadata": {
    "collapsed": true
   },
   "outputs": [],
   "source": [
    "x_text = np.array(dataset.iloc[1:,1])\n",
    "y = np.array(dataset.iloc[1:,2:], dtype='float32')"
   ]
  },
  {
   "cell_type": "code",
   "execution_count": 14,
   "metadata": {
    "collapsed": true
   },
   "outputs": [],
   "source": [
    "from nltk.corpus import stopwords\n",
    "import string\n",
    "\n",
    "def normalize(x_text):\n",
    "    stop = stopwords.words('english')\n",
    "    res = [' '.join([t for t in doc.split() if t not in string.punctuation and t not in  stop]) for doc in x_text]\n",
    "    return res"
   ]
  },
  {
   "cell_type": "code",
   "execution_count": 15,
   "metadata": {
    "collapsed": true
   },
   "outputs": [],
   "source": [
    "def tokenize_data(x_text):\n",
    "    tokenizer = Tokenizer(lower=True)\n",
    "    tokenizer.fit_on_texts(x_text)\n",
    "    x_tokenized_doc = []\n",
    "    for doc in x_text:\n",
    "        tk_doc = tokenizer.texts_to_sequences(doc)\n",
    "        x_tk_optimized = [x_doc for x_doc in tk_doc if len(x_doc)>0]\n",
    "        x_tokenized_doc.append(x_tk_optimized)\n",
    "    return x_tokenized_doc, tokenizer"
   ]
  },
  {
   "cell_type": "code",
   "execution_count": 16,
   "metadata": {},
   "outputs": [
    {
     "name": "stdout",
     "output_type": "stream",
     "text": [
      "4961\n",
      "209630\n"
     ]
    }
   ],
   "source": [
    "x_text = normalize(x_text)\n",
    "x_tokenized, x_tk= tokenize_data(x_text)\n",
    "index_to_words = {id: word for word, id in x_tk.word_index.items()}\n",
    "max_vocab = len(set([word for word, id in x_tk.word_index.items()]))\n",
    "max_len = max([len(item) for item in x_tokenized])\n",
    "print(max_len)\n",
    "print(max_vocab)"
   ]
  },
  {
   "cell_type": "code",
   "execution_count": 72,
   "metadata": {
    "collapsed": true
   },
   "outputs": [],
   "source": [
    "words_to_index = {word: id for word, id in x_tk.word_index.items()}"
   ]
  },
  {
   "cell_type": "code",
   "execution_count": 17,
   "metadata": {},
   "outputs": [
    {
     "name": "stdout",
     "output_type": "stream",
     "text": [
      "[[ 543 1211   30 ...    0    0    0]\n",
      " [1666  246 1931 ...    0    0    0]\n",
      " [ 930 1197  828 ...    0    0    0]\n",
      " ...\n",
      " [ 306  511    1 ...    0    0    0]\n",
      " [  30  951  543 ...    0    0    0]\n",
      " [  30  951  543 ...    0    0    0]]\n"
     ]
    }
   ],
   "source": [
    "x_array = []\n",
    "for x_doc in x_tokenized:\n",
    "    x_list = [x_item[0] for x_item in x_doc]\n",
    "    x_array.append(x_list)\n",
    "\n",
    "\n",
    "x_all =pad_sequences(x_array, maxlen=2000, dtype='int32', padding='post', truncating='post', value=0.0)\n",
    "print(x_all)\n",
    "x = np.array(x_all)"
   ]
  },
  {
   "cell_type": "code",
   "execution_count": 63,
   "metadata": {},
   "outputs": [
    {
     "name": "stdout",
     "output_type": "stream",
     "text": [
      "(159570, 2000)\n",
      "6\n"
     ]
    }
   ],
   "source": [
    "print(x.shape)\n",
    "print(y.shape[1])"
   ]
  },
  {
   "cell_type": "code",
   "execution_count": 35,
   "metadata": {},
   "outputs": [
    {
     "name": "stdout",
     "output_type": "stream",
     "text": [
      "_________________________________________________________________\n",
      "Layer (type)                 Output Shape              Param #   \n",
      "=================================================================\n",
      "embedding_1 (Embedding)      (None, 2000, 100)         20963000  \n",
      "_________________________________________________________________\n",
      "dense_1 (Dense)              (None, 2000, 64)          6464      \n",
      "_________________________________________________________________\n",
      "dropout_1 (Dropout)          (None, 2000, 64)          0         \n",
      "_________________________________________________________________\n",
      "dense_2 (Dense)              (None, 2000, 32)          2080      \n",
      "_________________________________________________________________\n",
      "dropout_2 (Dropout)          (None, 2000, 32)          0         \n",
      "_________________________________________________________________\n",
      "flatten_1 (Flatten)          (None, 64000)             0         \n",
      "_________________________________________________________________\n",
      "dense_3 (Dense)              (None, 6)                 384006    \n",
      "=================================================================\n",
      "Total params: 21,355,550\n",
      "Trainable params: 21,355,550\n",
      "Non-trainable params: 0\n",
      "_________________________________________________________________\n"
     ]
    }
   ],
   "source": [
    "learning_rate=0.001\n",
    "\n",
    "model = Sequential()\n",
    "model.add(Embedding(max_vocab, 100, input_length=2000))\n",
    "model.add(Dense(64, activation='tanh'))\n",
    "model.add(Dropout(0.2))\n",
    "model.add(Dense(32, activation='tanh'))\n",
    "model.add(Dropout(0.1))\n",
    "model.add(Flatten())\n",
    "model.add(Dense(y.shape[1], activation='softmax'))\n",
    "\n",
    "model.compile(loss='categorical_crossentropy', optimizer=Adam(learning_rate), metrics=['accuracy'])\n",
    "\n",
    "model.summary()"
   ]
  },
  {
   "cell_type": "code",
   "execution_count": 65,
   "metadata": {},
   "outputs": [
    {
     "name": "stdout",
     "output_type": "stream",
     "text": [
      "Train on 127656 samples, validate on 31914 samples\n",
      "Epoch 1/50\n",
      " - 139s - loss: 0.3022 - acc: 0.9792 - val_loss: 0.3023 - val_acc: 0.9925\n",
      "Epoch 2/50\n",
      " - 138s - loss: 0.2963 - acc: 0.9588 - val_loss: 0.3023 - val_acc: 0.9872\n",
      "Epoch 3/50\n",
      " - 138s - loss: 0.2942 - acc: 0.9681 - val_loss: 0.3055 - val_acc: 0.8769\n",
      "Epoch 4/50\n",
      " - 138s - loss: 0.2911 - acc: 0.9555 - val_loss: 0.3061 - val_acc: 0.9862\n",
      "Epoch 5/50\n",
      " - 138s - loss: 0.2893 - acc: 0.9472 - val_loss: 0.3038 - val_acc: 0.9754\n",
      "Epoch 6/50\n",
      " - 138s - loss: 0.2881 - acc: 0.9444 - val_loss: 0.3015 - val_acc: 0.9737\n",
      "Epoch 7/50\n",
      " - 138s - loss: 0.2862 - acc: 0.9340 - val_loss: 0.3036 - val_acc: 0.9527\n",
      "Epoch 8/50\n",
      " - 138s - loss: 0.2850 - acc: 0.9351 - val_loss: 0.3034 - val_acc: 0.9567\n",
      "Epoch 9/50\n",
      " - 138s - loss: 0.2838 - acc: 0.9316 - val_loss: 0.3063 - val_acc: 0.8904\n",
      "Epoch 10/50\n",
      " - 138s - loss: 0.2832 - acc: 0.9270 - val_loss: 0.3072 - val_acc: 0.9392\n",
      "Epoch 11/50\n",
      " - 138s - loss: 0.2817 - acc: 0.9204 - val_loss: 0.3090 - val_acc: 0.9620\n",
      "Epoch 12/50\n",
      " - 138s - loss: 0.2822 - acc: 0.9205 - val_loss: 0.3063 - val_acc: 0.9319\n",
      "Epoch 13/50\n",
      " - 138s - loss: 0.2812 - acc: 0.9170 - val_loss: 0.3073 - val_acc: 0.9116\n",
      "Epoch 14/50\n",
      " - 138s - loss: 0.2794 - acc: 0.9162 - val_loss: 0.3126 - val_acc: 0.9401\n",
      "Epoch 15/50\n",
      " - 138s - loss: 0.2790 - acc: 0.9110 - val_loss: 0.3098 - val_acc: 0.9150\n",
      "Epoch 16/50\n",
      " - 138s - loss: 0.2791 - acc: 0.9136 - val_loss: 0.3105 - val_acc: 0.9569\n",
      "Epoch 17/50\n",
      " - 138s - loss: 0.2780 - acc: 0.9067 - val_loss: 0.3080 - val_acc: 0.8828\n",
      "Epoch 18/50\n",
      " - 138s - loss: 0.2779 - acc: 0.9068 - val_loss: 0.3085 - val_acc: 0.9201\n",
      "Epoch 19/50\n",
      " - 138s - loss: 0.2771 - acc: 0.9078 - val_loss: 0.3110 - val_acc: 0.8387\n",
      "Epoch 20/50\n",
      " - 138s - loss: 0.2766 - acc: 0.9023 - val_loss: 0.3115 - val_acc: 0.8892\n",
      "Epoch 21/50\n",
      " - 138s - loss: 0.2771 - acc: 0.9057 - val_loss: 0.3102 - val_acc: 0.8607\n",
      "Epoch 22/50\n",
      " - 138s - loss: 0.2760 - acc: 0.9030 - val_loss: 0.3103 - val_acc: 0.8819\n",
      "Epoch 23/50\n",
      " - 138s - loss: 0.2758 - acc: 0.9016 - val_loss: 0.3121 - val_acc: 0.8756\n",
      "Epoch 24/50\n",
      " - 138s - loss: 0.2757 - acc: 0.9029 - val_loss: 0.3118 - val_acc: 0.8264\n",
      "Epoch 25/50\n",
      " - 138s - loss: 0.2756 - acc: 0.9009 - val_loss: 0.3131 - val_acc: 0.9506\n",
      "Epoch 26/50\n",
      " - 138s - loss: 0.2742 - acc: 0.9021 - val_loss: 0.3176 - val_acc: 0.9382\n",
      "Epoch 27/50\n",
      " - 138s - loss: 0.2746 - acc: 0.8966 - val_loss: 0.3122 - val_acc: 0.9456\n",
      "Epoch 28/50\n",
      " - 138s - loss: 0.2740 - acc: 0.8925 - val_loss: 0.3113 - val_acc: 0.8912\n",
      "Epoch 29/50\n",
      " - 138s - loss: 0.2744 - acc: 0.8982 - val_loss: 0.3138 - val_acc: 0.9387\n",
      "Epoch 30/50\n",
      " - 138s - loss: 0.2736 - acc: 0.8944 - val_loss: 0.3160 - val_acc: 0.9342\n",
      "Epoch 31/50\n",
      " - 138s - loss: 0.2732 - acc: 0.8947 - val_loss: 0.3149 - val_acc: 0.9031\n",
      "Epoch 32/50\n",
      " - 138s - loss: 0.2736 - acc: 0.8870 - val_loss: 0.3141 - val_acc: 0.9295\n",
      "Epoch 33/50\n",
      " - 138s - loss: 0.2728 - acc: 0.8926 - val_loss: 0.3133 - val_acc: 0.8831\n",
      "Epoch 34/50\n",
      " - 138s - loss: 0.2722 - acc: 0.8886 - val_loss: 0.3147 - val_acc: 0.9243\n",
      "Epoch 35/50\n",
      " - 138s - loss: 0.2730 - acc: 0.8873 - val_loss: 0.3158 - val_acc: 0.9486\n",
      "Epoch 36/50\n",
      " - 138s - loss: 0.2721 - acc: 0.8930 - val_loss: 0.3137 - val_acc: 0.8997\n",
      "Epoch 37/50\n",
      " - 138s - loss: 0.2723 - acc: 0.8888 - val_loss: 0.3142 - val_acc: 0.8930\n",
      "Epoch 38/50\n",
      " - 138s - loss: 0.2722 - acc: 0.8920 - val_loss: 0.3189 - val_acc: 0.9268\n",
      "Epoch 39/50\n",
      " - 138s - loss: 0.2717 - acc: 0.8862 - val_loss: 0.3181 - val_acc: 0.7653\n",
      "Epoch 40/50\n",
      " - 138s - loss: 0.2712 - acc: 0.8869 - val_loss: 0.3161 - val_acc: 0.8941\n",
      "Epoch 41/50\n",
      " - 138s - loss: 0.2711 - acc: 0.8862 - val_loss: 0.3151 - val_acc: 0.8575\n",
      "Epoch 42/50\n",
      " - 138s - loss: 0.2718 - acc: 0.8822 - val_loss: 0.3141 - val_acc: 0.9085\n",
      "Epoch 43/50\n",
      " - 138s - loss: 0.2709 - acc: 0.8847 - val_loss: 0.3160 - val_acc: 0.9080\n",
      "Epoch 44/50\n",
      " - 138s - loss: 0.2714 - acc: 0.8849 - val_loss: 0.3168 - val_acc: 0.9368\n",
      "Epoch 45/50\n",
      " - 138s - loss: 0.2700 - acc: 0.8820 - val_loss: 0.3191 - val_acc: 0.8679\n",
      "Epoch 46/50\n",
      " - 138s - loss: 0.2700 - acc: 0.8842 - val_loss: 0.3166 - val_acc: 0.8772\n",
      "Epoch 47/50\n",
      " - 138s - loss: 0.2700 - acc: 0.8827 - val_loss: 0.3242 - val_acc: 0.9546\n",
      "Epoch 48/50\n",
      " - 138s - loss: 0.2698 - acc: 0.8825 - val_loss: 0.3201 - val_acc: 0.9185\n",
      "Epoch 49/50\n",
      " - 138s - loss: 0.2699 - acc: 0.8830 - val_loss: 0.3214 - val_acc: 0.9420\n",
      "Epoch 50/50\n",
      " - 138s - loss: 0.2702 - acc: 0.8834 - val_loss: 0.3165 - val_acc: 0.8952\n"
     ]
    }
   ],
   "source": [
    "num_epoch=50\n",
    "checkpoint = ModelCheckpoint(filepath='best_model_1.hdf5', save_best_only=True)\n",
    "hist = model.fit(x, y, batch_size=200, epochs=num_epoch, validation_split=0.2, callbacks=[checkpoint], shuffle=True, verbose=2)"
   ]
  },
  {
   "cell_type": "code",
   "execution_count": 66,
   "metadata": {},
   "outputs": [
    {
     "data": {
      "image/png": "[encoded data removed]",
      "text/plain": [
       "<Figure size 432x288 with 1 Axes>"
      ]
     },
     "metadata": {},
     "output_type": "display_data"
    }
   ],
   "source": [
    "train_loss = hist.history['loss']\n",
    "val_loss   = hist.history['val_loss']\n",
    "train_acc  = hist.history['acc']\n",
    "val_acc    = hist.history['val_acc']\n",
    "xc         = range(num_epoch)\n",
    "plt.figure()\n",
    "plt.plot(xc, train_loss, color='red')\n",
    "plt.plot(xc, val_loss, color='green')\n",
    "plt.show()"
   ]
  },
  {
   "cell_type": "code",
   "execution_count": 6,
   "metadata": {},
   "outputs": [
    {
     "data": {
      "text/html": [
       "<div>\n",
       "<style scoped>\n",
       "    .dataframe tbody tr th:only-of-type {\n",
       "        vertical-align: middle;\n",
       "    }\n",
       "\n",
       "    .dataframe tbody tr th {\n",
       "        vertical-align: top;\n",
       "    }\n",
       "\n",
       "    .dataframe thead th {\n",
       "        text-align: right;\n",
       "    }\n",
       "</style>\n",
       "<table border=\"1\" class=\"dataframe\">\n",
       "  <thead>\n",
       "    <tr style=\"text-align: right;\">\n",
       "      <th></th>\n",
       "      <th>id</th>\n",
       "      <th>comment_text</th>\n",
       "    </tr>\n",
       "  </thead>\n",
       "  <tbody>\n",
       "    <tr>\n",
       "      <th>0</th>\n",
       "      <td>00001cee341fdb12</td>\n",
       "      <td>Yo bitch Ja Rule is more succesful then you'll...</td>\n",
       "    </tr>\n",
       "    <tr>\n",
       "      <th>1</th>\n",
       "      <td>0000247867823ef7</td>\n",
       "      <td>== From RfC == \\n\\n The title is fine as it is...</td>\n",
       "    </tr>\n",
       "    <tr>\n",
       "      <th>2</th>\n",
       "      <td>00013b17ad220c46</td>\n",
       "      <td>\" \\n\\n == Sources == \\n\\n * Zawe Ashton on Lap...</td>\n",
       "    </tr>\n",
       "    <tr>\n",
       "      <th>3</th>\n",
       "      <td>00017563c3f7919a</td>\n",
       "      <td>:If you have a look back at the source, the in...</td>\n",
       "    </tr>\n",
       "    <tr>\n",
       "      <th>4</th>\n",
       "      <td>00017695ad8997eb</td>\n",
       "      <td>I don't anonymously edit articles at all.</td>\n",
       "    </tr>\n",
       "  </tbody>\n",
       "</table>\n",
       "</div>"
      ],
      "text/plain": [
       "                 id                                       comment_text\n",
       "0  00001cee341fdb12  Yo bitch Ja Rule is more succesful then you'll...\n",
       "1  0000247867823ef7  == From RfC == \\n\\n The title is fine as it is...\n",
       "2  00013b17ad220c46  \" \\n\\n == Sources == \\n\\n * Zawe Ashton on Lap...\n",
       "3  00017563c3f7919a  :If you have a look back at the source, the in...\n",
       "4  00017695ad8997eb          I don't anonymously edit articles at all."
      ]
     },
     "execution_count": 6,
     "metadata": {},
     "output_type": "execute_result"
    }
   ],
   "source": [
    "test_dataset = pd.read_csv('test.csv')\n",
    "test_dataset.head()"
   ]
  },
  {
   "cell_type": "code",
   "execution_count": 8,
   "metadata": {
    "collapsed": true
   },
   "outputs": [],
   "source": [
    "x_text_test = np.array(test_dataset.iloc[1:,1])"
   ]
  },
  {
   "cell_type": "code",
   "execution_count": 9,
   "metadata": {
    "collapsed": true
   },
   "outputs": [],
   "source": [
    "x_text_test = normalize(x_text_test)"
   ]
  },
  {
   "cell_type": "code",
   "execution_count": 23,
   "metadata": {
    "collapsed": true
   },
   "outputs": [],
   "source": [
    "x_tokenized_doc_test = []\n",
    "for doc in x_text_test:\n",
    "    tk_doc = x_tk.texts_to_sequences(doc)\n",
    "    x_tk_optimized = [x_doc for x_doc in tk_doc if len(x_doc)>0]\n",
    "    x_tokenized_doc_test.append(x_tk_optimized)"
   ]
  },
  {
   "cell_type": "code",
   "execution_count": 31,
   "metadata": {},
   "outputs": [
    {
     "data": {
      "text/plain": [
       "[[[769],\n",
       "  [828],\n",
       "  [1197],\n",
       "  [930],\n",
       "  [828],\n",
       "  [769],\n",
       "  [335],\n",
       "  [472],\n",
       "  [1666],\n",
       "  [246],\n",
       "  [472],\n",
       "  [1],\n",
       "  [472],\n",
       "  [1593],\n",
       "  [246],\n",
       "  [769],\n",
       "  [1],\n",
       "  [951],\n",
       "  [246],\n",
       "  [1],\n",
       "  [306],\n",
       "  [1],\n",
       "  [930],\n",
       "  [1197]]]"
      ]
     },
     "execution_count": 31,
     "metadata": {},
     "output_type": "execute_result"
    }
   ],
   "source": [
    "x_tokenized_doc_test[:1]"
   ]
  },
  {
   "cell_type": "code",
   "execution_count": 25,
   "metadata": {
    "collapsed": true
   },
   "outputs": [],
   "source": [
    "x_array_test = []\n",
    "for x_doc in x_tokenized_doc_test:\n",
    "    x_list = [x_item[0] for x_item in x_doc]\n",
    "    x_array_test.append(x_list)"
   ]
  },
  {
   "cell_type": "code",
   "execution_count": 33,
   "metadata": {},
   "outputs": [
    {
     "data": {
      "text/plain": [
       "[769,\n",
       " 828,\n",
       " 1197,\n",
       " 930,\n",
       " 828,\n",
       " 769,\n",
       " 335,\n",
       " 472,\n",
       " 1666,\n",
       " 246,\n",
       " 472,\n",
       " 1,\n",
       " 472,\n",
       " 1593,\n",
       " 246,\n",
       " 769,\n",
       " 1,\n",
       " 951,\n",
       " 246,\n",
       " 1,\n",
       " 306,\n",
       " 1,\n",
       " 930,\n",
       " 1197]"
      ]
     },
     "execution_count": 33,
     "metadata": {},
     "output_type": "execute_result"
    }
   ],
   "source": [
    "x_array_test[0]"
   ]
  },
  {
   "cell_type": "code",
   "execution_count": 29,
   "metadata": {},
   "outputs": [
    {
     "data": {
      "text/plain": [
       "153163"
      ]
     },
     "execution_count": 29,
     "metadata": {},
     "output_type": "execute_result"
    }
   ],
   "source": [
    "len(x_array_test)"
   ]
  },
  {
   "cell_type": "code",
   "execution_count": 36,
   "metadata": {
    "collapsed": true
   },
   "outputs": [],
   "source": [
    "model.load_weights('best_model_1.hdf5')"
   ]
  },
  {
   "cell_type": "code",
   "execution_count": 47,
   "metadata": {},
   "outputs": [
    {
     "name": "stdout",
     "output_type": "stream",
     "text": [
      "00001cee341fdb12\n",
      "Yo bitch Ja Rule is more succesful then you'll ever be whats up with you and hating you sad mofuckas...i should bitch slap ur pethedic white faces and get you to kiss my ass you guys sicken me. Ja rule is about pride in da music man. dont diss that shit on him. and nothin is wrong bein like tupac he was a brother too...fuckin white boys get things right next time.,\n",
      "[[0.41404307 0.05159625 0.27077267 0.01521561 0.21486457 0.03350782]]\n",
      "0000247867823ef7\n",
      "== From RfC == \n",
      "\n",
      " The title is fine as it is, IMO.\n",
      "[[0.50865996 0.02572418 0.22983216 0.00911316 0.19865124 0.02801932]]\n",
      "00013b17ad220c46\n",
      "\" \n",
      "\n",
      " == Sources == \n",
      "\n",
      " * Zawe Ashton on Lapland —  /  \"\n",
      "[[0.39953944 0.05518452 0.25156254 0.00747369 0.26051563 0.02572422]]\n",
      "00017563c3f7919a\n",
      ":If you have a look back at the source, the information I updated was the correct form. I can only guess the source hadn't updated. I shall update the information once again but thank you for your message.\n",
      "[[0.49654445 0.02509513 0.19646992 0.01216419 0.21062435 0.0591019 ]]\n",
      "00017695ad8997eb\n",
      "I don't anonymously edit articles at all.\n",
      "[[0.41027036 0.02415513 0.30329642 0.00636316 0.22608607 0.02982891]]\n",
      "0001ea8717f6de06\n",
      "Thank you for understanding. I think very highly of you and would not revert without discussion.\n",
      "[[0.6196735  0.0113313  0.16136731 0.00676839 0.1898166  0.01104297]]\n",
      "00024115d4cbde0f\n",
      "Please do not add nonsense to Wikipedia. Such edits are considered vandalism and quickly undone. If you would like to experiment, please use the sandbox instead. Thank you.   -\n",
      "[[0.51391834 0.0243922  0.20436628 0.0082998  0.2084512  0.04057221]]\n",
      "000247e83dcc1211\n",
      ":Dear god this site is horrible.\n",
      "[[0.70769864 0.00672552 0.14584383 0.00378514 0.125706   0.0102409 ]]\n",
      "00025358d4737918\n",
      "\" \n",
      " Only a fool can believe in such numbers. \n",
      " The correct number lies between 10 000 to 15 000. \n",
      " Ponder the numbers carefully.  \n",
      "\n",
      " This error will persist for a long time as it continues to reproduce... The latest reproduction I know is from ENCYCLOPÆDIA BRITANNICA ALMANAC 2008 wich states \n",
      " Magnittude: 8.7 (fair enough) \n",
      " victims: 70 000 (today 10 000 to 15 000 is not \"\"a lot\"\" so I guess people just come out with a number that impresses enough, I don't know. But I know this: it's just a shameless lucky number that they throw in the air. \n",
      " GC \n",
      "\n",
      " \"\n",
      "[[0.50991714 0.01775086 0.20927869 0.01014813 0.2387086  0.01419656]]\n",
      "00026d1092fe71cc\n",
      "== Double Redirects == \n",
      "\n",
      " When fixing double redirects, don't just blank the outer one, you need edit it to point it to the final target, unless you think it's inappropriate, in which case, it needs to be nominated at WP:RfD\n",
      "[[0.48248303 0.03588063 0.29005402 0.0142124  0.14069083 0.03667914]]\n"
     ]
    }
   ],
   "source": [
    "final_sub = []\n",
    "for i in range(10):\n",
    "    x_all_test =pad_sequences([x_array_test[i]], maxlen=2000, dtype='int32', padding='post', truncating='post', value=0.0)\n",
    "    x_test = np.array(x_all_test)\n",
    "    probab = model.predict_proba(x_test)\n",
    "    print(test_dataset.iloc[i][0])\n",
    "    print(test_dataset.iloc[i][1])\n",
    "    print(probab)"
   ]
  },
  {
   "cell_type": "code",
   "execution_count": null,
   "metadata": {
    "collapsed": true
   },
   "outputs": [],
   "source": []
  },
  {
   "cell_type": "code",
   "execution_count": null,
   "metadata": {
    "collapsed": true
   },
   "outputs": [],
   "source": []
  }
 ],
 "metadata": {
  "kernelspec": {
   "display_name": "Python 3",
   "language": "python",
   "name": "python3"
  },
  "language_info": {
   "codemirror_mode": {
    "name": "ipython",
    "version": 3
   },
   "file_extension": ".py",
   "mimetype": "text/x-python",
   "name": "python",
   "nbconvert_exporter": "python",
   "pygments_lexer": "ipython3",
   "version": "3.6.3"
  }
 },
 "nbformat": 4,
 "nbformat_minor": 2
}
